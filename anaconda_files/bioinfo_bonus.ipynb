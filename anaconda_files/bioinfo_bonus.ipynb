{
 "cells": [
  {
   "cell_type": "markdown",
   "id": "6ea5efe5",
   "metadata": {},
   "source": []
  },
  {
   "cell_type": "code",
   "execution_count": 19,
   "id": "e63feb10",
   "metadata": {},
   "outputs": [],
   "source": [
    "import pandas as pd\n",
    "import matplotlib.pyplot as plt"
   ]
  },
  {
   "cell_type": "code",
   "execution_count": 20,
   "id": "46a573a4",
   "metadata": {},
   "outputs": [
    {
     "name": "stdout",
     "output_type": "stream",
     "text": [
      "durans_quad.bed  faecium_quad.bed  gilvus_quad.bed  lactis_quad.bed\r\n"
     ]
    }
   ],
   "source": [
    "!ls bioinfo_project/quads"
   ]
  },
  {
   "cell_type": "code",
   "execution_count": 22,
   "id": "520f346a",
   "metadata": {},
   "outputs": [
    {
     "data": {
      "text/html": [
       "<div>\n",
       "<style scoped>\n",
       "    .dataframe tbody tr th:only-of-type {\n",
       "        vertical-align: middle;\n",
       "    }\n",
       "\n",
       "    .dataframe tbody tr th {\n",
       "        vertical-align: top;\n",
       "    }\n",
       "\n",
       "    .dataframe thead th {\n",
       "        text-align: right;\n",
       "    }\n",
       "</style>\n",
       "<table border=\"1\" class=\"dataframe\">\n",
       "  <thead>\n",
       "    <tr style=\"text-align: right;\">\n",
       "      <th></th>\n",
       "      <th>durans</th>\n",
       "      <th>536477</th>\n",
       "      <th>536505</th>\n",
       "      <th>.</th>\n",
       "      <th>55</th>\n",
       "      <th>-</th>\n",
       "    </tr>\n",
       "  </thead>\n",
       "  <tbody>\n",
       "    <tr>\n",
       "      <th>0</th>\n",
       "      <td>durans</td>\n",
       "      <td>1654476</td>\n",
       "      <td>1654497</td>\n",
       "      <td>.</td>\n",
       "      <td>64</td>\n",
       "      <td>+</td>\n",
       "    </tr>\n",
       "  </tbody>\n",
       "</table>\n",
       "</div>"
      ],
      "text/plain": [
       "   durans   536477   536505  .  55  -\n",
       "0  durans  1654476  1654497  .  64  +"
      ]
     },
     "execution_count": 22,
     "metadata": {},
     "output_type": "execute_result"
    }
   ],
   "source": [
    "dur = pd.read_csv('bioinfo_project/quads/durans_quad.bed', sep='\\t')\n",
    "dur"
   ]
  },
  {
   "cell_type": "markdown",
   "id": "d6d06118",
   "metadata": {},
   "source": [
    "### Посмотрим, в каких генах есть квадруплексы:"
   ]
  },
  {
   "cell_type": "code",
   "execution_count": 46,
   "id": "9cb09d21",
   "metadata": {},
   "outputs": [
    {
     "name": "stdout",
     "output_type": "stream",
     "text": [
      "durans\t536477\t536505\t-\tWP_005880181.1\r\n",
      "durans\t1654476\t1654497\t+\tWP_095443743.1\r\n"
     ]
    }
   ],
   "source": [
    "!bedtools intersect -a bioinfo_project/durans/genes.bed -b bioinfo_project/quads/durans_quad.bed"
   ]
  },
  {
   "cell_type": "code",
   "execution_count": 47,
   "id": "09c5fe1e",
   "metadata": {},
   "outputs": [
    {
     "name": "stdout",
     "output_type": "stream",
     "text": [
      "faecium\t1055641\t1055667\t+\tWP_002298128.1\r\n"
     ]
    }
   ],
   "source": [
    "!bedtools intersect -a bioinfo_project/faecium/genes.bed -b bioinfo_project/quads/faecium_quad.bed"
   ]
  },
  {
   "cell_type": "code",
   "execution_count": null,
   "id": "678bb6e5",
   "metadata": {},
   "outputs": [],
   "source": [
    "!bedtools intersect -a bioinfo_project/gilvus/genes.bed -b bioinfo_project/quads/gilvus_quad.bed"
   ]
  },
  {
   "cell_type": "code",
   "execution_count": 52,
   "id": "6c5e9c62",
   "metadata": {},
   "outputs": [
    {
     "name": "stdout",
     "output_type": "stream",
     "text": [
      "lactis\t719618\t719646\t+\tWP_002377053.1\r\n",
      "lactis\t1616082\t1616108\t-\tWP_002290190.1\r\n",
      "lactis\t2249466\t2249492\t-\tWP_002291388.1\r\n"
     ]
    }
   ],
   "source": [
    "!bedtools intersect -a bioinfo_project/lactis/genes.bed -b bioinfo_project/quads/lactis_quad.bed"
   ]
  },
  {
   "cell_type": "markdown",
   "id": "5c2dd4c7",
   "metadata": {},
   "source": [
    "### Посмотрим, у каких организмов есть квадруплексы в промотерах:"
   ]
  },
  {
   "cell_type": "code",
   "execution_count": 25,
   "id": "1fa737b2",
   "metadata": {},
   "outputs": [],
   "source": [
    "!bedtools intersect -a bioinfo_project/durans/res.bed -b bioinfo_project/quads/durans_quad.bed"
   ]
  },
  {
   "cell_type": "code",
   "execution_count": 26,
   "id": "3856155b",
   "metadata": {},
   "outputs": [
    {
     "name": "stdout",
     "output_type": "stream",
     "text": [
      "faecium\t1055641\t1055643\tWP_002298128.1\r\n"
     ]
    }
   ],
   "source": [
    "!bedtools intersect -a bioinfo_project/faecium/res.bed -b bioinfo_project/quads/faecium_quad.bed"
   ]
  },
  {
   "cell_type": "code",
   "execution_count": 27,
   "id": "1ef84388",
   "metadata": {},
   "outputs": [
    {
     "name": "stdout",
     "output_type": "stream",
     "text": [
      "gilvus\t420303\t420324\tWP_114524015.1\r\n",
      "gilvus\t420303\t420324\tWP_114525691.1\r\n"
     ]
    }
   ],
   "source": [
    "!bedtools intersect -a bioinfo_project/gilvus/res.bed -b bioinfo_project/quads/gilvus_quad.bed"
   ]
  },
  {
   "cell_type": "code",
   "execution_count": 28,
   "id": "c5a09e48",
   "metadata": {},
   "outputs": [
    {
     "name": "stdout",
     "output_type": "stream",
     "text": [
      "lactis\t719618\t719646\tWP_002377053.1\r\n",
      "lactis\t1616104\t1616108\tWP_002290190.1\r\n"
     ]
    }
   ],
   "source": [
    "!bedtools intersect -a bioinfo_project/lactis/res.bed -b bioinfo_project/quads/lactis_quad.bed"
   ]
  },
  {
   "cell_type": "markdown",
   "id": "6e57e0fc",
   "metadata": {},
   "source": [
    "### к каким кластерам принадлежат полученные гены:"
   ]
  },
  {
   "cell_type": "code",
   "execution_count": 54,
   "id": "744789ba",
   "metadata": {},
   "outputs": [],
   "source": [
    "d = ['WP_005880181.1', 'WP_095443743.1']\n",
    "f = ['WP_002298128.1']\n",
    "g = ['WP_114524015.1', 'WP_114525691.1']\n",
    "l = ['WP_002377053.1', 'WP_002290190.1', 'WP_002291388.1']"
   ]
  },
  {
   "cell_type": "code",
   "execution_count": 81,
   "id": "b1c2c724",
   "metadata": {},
   "outputs": [
    {
     "data": {
      "text/html": [
       "<div>\n",
       "<style scoped>\n",
       "    .dataframe tbody tr th:only-of-type {\n",
       "        vertical-align: middle;\n",
       "    }\n",
       "\n",
       "    .dataframe tbody tr th {\n",
       "        vertical-align: top;\n",
       "    }\n",
       "\n",
       "    .dataframe thead th {\n",
       "        text-align: right;\n",
       "    }\n",
       "</style>\n",
       "<table border=\"1\" class=\"dataframe\">\n",
       "  <thead>\n",
       "    <tr style=\"text-align: right;\">\n",
       "      <th></th>\n",
       "      <th># Species</th>\n",
       "      <th>Genes</th>\n",
       "      <th>Alg.-Conn.</th>\n",
       "      <th>durans_protein.faa</th>\n",
       "      <th>faecium_protein.faa</th>\n",
       "      <th>gilvus_protein.faa</th>\n",
       "      <th>lactis_protein.faa</th>\n",
       "      <th>raffinosus_protein.faa</th>\n",
       "      <th>durans</th>\n",
       "      <th>faecium</th>\n",
       "      <th>gilvus</th>\n",
       "      <th>lactis</th>\n",
       "      <th>sum</th>\n",
       "    </tr>\n",
       "  </thead>\n",
       "  <tbody>\n",
       "    <tr>\n",
       "      <th>0</th>\n",
       "      <td>2</td>\n",
       "      <td>6</td>\n",
       "      <td>0.165</td>\n",
       "      <td>*</td>\n",
       "      <td>WP_000222572.1,WP_002287760.1,WP_060797334.1,W...</td>\n",
       "      <td>*</td>\n",
       "      <td>WP_138302659.1</td>\n",
       "      <td>*</td>\n",
       "      <td>False</td>\n",
       "      <td>False</td>\n",
       "      <td>False</td>\n",
       "      <td>False</td>\n",
       "      <td>0</td>\n",
       "    </tr>\n",
       "    <tr>\n",
       "      <th>1</th>\n",
       "      <td>2</td>\n",
       "      <td>9</td>\n",
       "      <td>0.104</td>\n",
       "      <td>*</td>\n",
       "      <td>*</td>\n",
       "      <td>WP_114525461.1,WP_114525879.1</td>\n",
       "      <td>*</td>\n",
       "      <td>WP_010745182.1,WP_028021004.1,WP_060789356.1,W...</td>\n",
       "      <td>False</td>\n",
       "      <td>False</td>\n",
       "      <td>False</td>\n",
       "      <td>False</td>\n",
       "      <td>0</td>\n",
       "    </tr>\n",
       "    <tr>\n",
       "      <th>2</th>\n",
       "      <td>2</td>\n",
       "      <td>6</td>\n",
       "      <td>0.104</td>\n",
       "      <td>*</td>\n",
       "      <td>*</td>\n",
       "      <td>WP_044926420.1,WP_114525814.1,WP_114525881.1</td>\n",
       "      <td>*</td>\n",
       "      <td>WP_028020996.1,WP_218256849.1,WP_010745184.1</td>\n",
       "      <td>False</td>\n",
       "      <td>False</td>\n",
       "      <td>False</td>\n",
       "      <td>False</td>\n",
       "      <td>0</td>\n",
       "    </tr>\n",
       "    <tr>\n",
       "      <th>3</th>\n",
       "      <td>2</td>\n",
       "      <td>7</td>\n",
       "      <td>0.282</td>\n",
       "      <td>*</td>\n",
       "      <td>WP_044382644.1,WP_138013243.1</td>\n",
       "      <td>*</td>\n",
       "      <td>WP_002329247.1,WP_002335471.1,WP_002342382.1,W...</td>\n",
       "      <td>*</td>\n",
       "      <td>False</td>\n",
       "      <td>False</td>\n",
       "      <td>False</td>\n",
       "      <td>False</td>\n",
       "      <td>0</td>\n",
       "    </tr>\n",
       "    <tr>\n",
       "      <th>4</th>\n",
       "      <td>3</td>\n",
       "      <td>5</td>\n",
       "      <td>0.115</td>\n",
       "      <td>WP_095444013.1</td>\n",
       "      <td>WP_060808624.1,WP_156264901.1</td>\n",
       "      <td>WP_114524789.1,WP_114524305.1</td>\n",
       "      <td>*</td>\n",
       "      <td>*</td>\n",
       "      <td>False</td>\n",
       "      <td>False</td>\n",
       "      <td>False</td>\n",
       "      <td>False</td>\n",
       "      <td>0</td>\n",
       "    </tr>\n",
       "    <tr>\n",
       "      <th>...</th>\n",
       "      <td>...</td>\n",
       "      <td>...</td>\n",
       "      <td>...</td>\n",
       "      <td>...</td>\n",
       "      <td>...</td>\n",
       "      <td>...</td>\n",
       "      <td>...</td>\n",
       "      <td>...</td>\n",
       "      <td>...</td>\n",
       "      <td>...</td>\n",
       "      <td>...</td>\n",
       "      <td>...</td>\n",
       "      <td>...</td>\n",
       "    </tr>\n",
       "    <tr>\n",
       "      <th>3562</th>\n",
       "      <td>2</td>\n",
       "      <td>2</td>\n",
       "      <td>1.000</td>\n",
       "      <td>WP_081133574.1</td>\n",
       "      <td>*</td>\n",
       "      <td>*</td>\n",
       "      <td>*</td>\n",
       "      <td>WP_010745412.1</td>\n",
       "      <td>False</td>\n",
       "      <td>False</td>\n",
       "      <td>False</td>\n",
       "      <td>False</td>\n",
       "      <td>0</td>\n",
       "    </tr>\n",
       "    <tr>\n",
       "      <th>3563</th>\n",
       "      <td>2</td>\n",
       "      <td>2</td>\n",
       "      <td>1.000</td>\n",
       "      <td>WP_081135508.1</td>\n",
       "      <td>*</td>\n",
       "      <td>WP_067624262.1</td>\n",
       "      <td>*</td>\n",
       "      <td>*</td>\n",
       "      <td>False</td>\n",
       "      <td>False</td>\n",
       "      <td>False</td>\n",
       "      <td>False</td>\n",
       "      <td>0</td>\n",
       "    </tr>\n",
       "    <tr>\n",
       "      <th>3564</th>\n",
       "      <td>2</td>\n",
       "      <td>2</td>\n",
       "      <td>1.000</td>\n",
       "      <td>*</td>\n",
       "      <td>WP_010729268.1</td>\n",
       "      <td>WP_071857945.1</td>\n",
       "      <td>*</td>\n",
       "      <td>*</td>\n",
       "      <td>False</td>\n",
       "      <td>False</td>\n",
       "      <td>False</td>\n",
       "      <td>False</td>\n",
       "      <td>0</td>\n",
       "    </tr>\n",
       "    <tr>\n",
       "      <th>3565</th>\n",
       "      <td>2</td>\n",
       "      <td>2</td>\n",
       "      <td>1.000</td>\n",
       "      <td>WP_095444022.1</td>\n",
       "      <td>*</td>\n",
       "      <td>*</td>\n",
       "      <td>WP_086314901.1</td>\n",
       "      <td>*</td>\n",
       "      <td>False</td>\n",
       "      <td>False</td>\n",
       "      <td>False</td>\n",
       "      <td>False</td>\n",
       "      <td>0</td>\n",
       "    </tr>\n",
       "    <tr>\n",
       "      <th>3566</th>\n",
       "      <td>3</td>\n",
       "      <td>3</td>\n",
       "      <td>0.785</td>\n",
       "      <td>WP_002287688.1</td>\n",
       "      <td>WP_002287705.1</td>\n",
       "      <td>*</td>\n",
       "      <td>*</td>\n",
       "      <td>WP_218256162.1</td>\n",
       "      <td>False</td>\n",
       "      <td>False</td>\n",
       "      <td>False</td>\n",
       "      <td>False</td>\n",
       "      <td>0</td>\n",
       "    </tr>\n",
       "  </tbody>\n",
       "</table>\n",
       "<p>3567 rows × 13 columns</p>\n",
       "</div>"
      ],
      "text/plain": [
       "      # Species  Genes  Alg.-Conn. durans_protein.faa  \\\n",
       "0             2      6       0.165                  *   \n",
       "1             2      9       0.104                  *   \n",
       "2             2      6       0.104                  *   \n",
       "3             2      7       0.282                  *   \n",
       "4             3      5       0.115     WP_095444013.1   \n",
       "...         ...    ...         ...                ...   \n",
       "3562          2      2       1.000     WP_081133574.1   \n",
       "3563          2      2       1.000     WP_081135508.1   \n",
       "3564          2      2       1.000                  *   \n",
       "3565          2      2       1.000     WP_095444022.1   \n",
       "3566          3      3       0.785     WP_002287688.1   \n",
       "\n",
       "                                    faecium_protein.faa  \\\n",
       "0     WP_000222572.1,WP_002287760.1,WP_060797334.1,W...   \n",
       "1                                                     *   \n",
       "2                                                     *   \n",
       "3                         WP_044382644.1,WP_138013243.1   \n",
       "4                         WP_060808624.1,WP_156264901.1   \n",
       "...                                                 ...   \n",
       "3562                                                  *   \n",
       "3563                                                  *   \n",
       "3564                                     WP_010729268.1   \n",
       "3565                                                  *   \n",
       "3566                                     WP_002287705.1   \n",
       "\n",
       "                                gilvus_protein.faa  \\\n",
       "0                                                *   \n",
       "1                    WP_114525461.1,WP_114525879.1   \n",
       "2     WP_044926420.1,WP_114525814.1,WP_114525881.1   \n",
       "3                                                *   \n",
       "4                    WP_114524789.1,WP_114524305.1   \n",
       "...                                            ...   \n",
       "3562                                             *   \n",
       "3563                                WP_067624262.1   \n",
       "3564                                WP_071857945.1   \n",
       "3565                                             *   \n",
       "3566                                             *   \n",
       "\n",
       "                                     lactis_protein.faa  \\\n",
       "0                                        WP_138302659.1   \n",
       "1                                                     *   \n",
       "2                                                     *   \n",
       "3     WP_002329247.1,WP_002335471.1,WP_002342382.1,W...   \n",
       "4                                                     *   \n",
       "...                                                 ...   \n",
       "3562                                                  *   \n",
       "3563                                                  *   \n",
       "3564                                                  *   \n",
       "3565                                     WP_086314901.1   \n",
       "3566                                                  *   \n",
       "\n",
       "                                 raffinosus_protein.faa  durans  faecium  \\\n",
       "0                                                     *   False    False   \n",
       "1     WP_010745182.1,WP_028021004.1,WP_060789356.1,W...   False    False   \n",
       "2          WP_028020996.1,WP_218256849.1,WP_010745184.1   False    False   \n",
       "3                                                     *   False    False   \n",
       "4                                                     *   False    False   \n",
       "...                                                 ...     ...      ...   \n",
       "3562                                     WP_010745412.1   False    False   \n",
       "3563                                                  *   False    False   \n",
       "3564                                                  *   False    False   \n",
       "3565                                                  *   False    False   \n",
       "3566                                     WP_218256162.1   False    False   \n",
       "\n",
       "      gilvus  lactis  sum  \n",
       "0      False   False    0  \n",
       "1      False   False    0  \n",
       "2      False   False    0  \n",
       "3      False   False    0  \n",
       "4      False   False    0  \n",
       "...      ...     ...  ...  \n",
       "3562   False   False    0  \n",
       "3563   False   False    0  \n",
       "3564   False   False    0  \n",
       "3565   False   False    0  \n",
       "3566   False   False    0  \n",
       "\n",
       "[3567 rows x 13 columns]"
      ]
     },
     "execution_count": 81,
     "metadata": {},
     "output_type": "execute_result"
    }
   ],
   "source": [
    "ortho['durans'] = pd.Series(ortho['durans_protein.faa']).str.contains(d[0], regex=False) + \\\n",
    "pd.Series(ortho['durans_protein.faa']).str.contains(d[1], regex=False)\n",
    "\n",
    "ortho['faecium'] = pd.Series(ortho['faecium_protein.faa']).str.contains(f[0], regex=False)\n",
    "\n",
    "ortho['gilvus'] = pd.Series(ortho['gilvus_protein.faa']).str.contains(g[0], regex=False) + \\\n",
    "pd.Series(ortho['gilvus_protein.faa']).str.contains(g[1], regex=False) \n",
    "\n",
    "ortho['lactis'] = pd.Series(ortho['lactis_protein.faa']).str.contains(l[0], regex=False) + \\\n",
    "pd.Series(ortho['lactis_protein.faa']).str.contains(l[1], regex=False) + \\\n",
    "pd.Series(ortho['lactis_protein.faa']).str.contains(l[2], regex=False)\n",
    "\n",
    "ortho['sum'] = ortho['durans'].astype(int) + ortho['faecium'].astype(int) + \\\n",
    "                                        ortho['gilvus'].astype(int) + ortho['lactis'].astype(int)\n",
    "ortho"
   ]
  },
  {
   "cell_type": "markdown",
   "id": "96f0bba8",
   "metadata": {},
   "source": [
    "### В одном кластере оказывается не больше двух генов (почти во всех кластерах - ни одного)"
   ]
  },
  {
   "cell_type": "code",
   "execution_count": 82,
   "id": "191140a0",
   "metadata": {},
   "outputs": [
    {
     "data": {
      "text/plain": [
       "2"
      ]
     },
     "execution_count": 82,
     "metadata": {},
     "output_type": "execute_result"
    }
   ],
   "source": [
    "ortho['sum'].max()"
   ]
  },
  {
   "cell_type": "code",
   "execution_count": 83,
   "id": "8fb5c65c",
   "metadata": {},
   "outputs": [
    {
     "data": {
      "text/html": [
       "<div>\n",
       "<style scoped>\n",
       "    .dataframe tbody tr th:only-of-type {\n",
       "        vertical-align: middle;\n",
       "    }\n",
       "\n",
       "    .dataframe tbody tr th {\n",
       "        vertical-align: top;\n",
       "    }\n",
       "\n",
       "    .dataframe thead th {\n",
       "        text-align: right;\n",
       "    }\n",
       "</style>\n",
       "<table border=\"1\" class=\"dataframe\">\n",
       "  <thead>\n",
       "    <tr style=\"text-align: right;\">\n",
       "      <th></th>\n",
       "      <th># Species</th>\n",
       "      <th>Genes</th>\n",
       "      <th>Alg.-Conn.</th>\n",
       "      <th>durans_protein.faa</th>\n",
       "      <th>faecium_protein.faa</th>\n",
       "      <th>gilvus_protein.faa</th>\n",
       "      <th>lactis_protein.faa</th>\n",
       "      <th>raffinosus_protein.faa</th>\n",
       "      <th>durans</th>\n",
       "      <th>faecium</th>\n",
       "      <th>gilvus</th>\n",
       "      <th>lactis</th>\n",
       "      <th>sum</th>\n",
       "    </tr>\n",
       "  </thead>\n",
       "  <tbody>\n",
       "    <tr>\n",
       "      <th>111</th>\n",
       "      <td>2</td>\n",
       "      <td>3</td>\n",
       "      <td>0.328</td>\n",
       "      <td>WP_005880181.1,WP_081134106.1</td>\n",
       "      <td>*</td>\n",
       "      <td>*</td>\n",
       "      <td>WP_002329562.1</td>\n",
       "      <td>*</td>\n",
       "      <td>True</td>\n",
       "      <td>False</td>\n",
       "      <td>False</td>\n",
       "      <td>False</td>\n",
       "      <td>1</td>\n",
       "    </tr>\n",
       "    <tr>\n",
       "      <th>231</th>\n",
       "      <td>2</td>\n",
       "      <td>2</td>\n",
       "      <td>1.000</td>\n",
       "      <td>*</td>\n",
       "      <td>*</td>\n",
       "      <td>WP_114524015.1</td>\n",
       "      <td>*</td>\n",
       "      <td>WP_218256804.1</td>\n",
       "      <td>False</td>\n",
       "      <td>False</td>\n",
       "      <td>True</td>\n",
       "      <td>False</td>\n",
       "      <td>1</td>\n",
       "    </tr>\n",
       "    <tr>\n",
       "      <th>1654</th>\n",
       "      <td>2</td>\n",
       "      <td>2</td>\n",
       "      <td>1.000</td>\n",
       "      <td>*</td>\n",
       "      <td>*</td>\n",
       "      <td>WP_114525691.1</td>\n",
       "      <td>*</td>\n",
       "      <td>WP_028021316.1</td>\n",
       "      <td>False</td>\n",
       "      <td>False</td>\n",
       "      <td>True</td>\n",
       "      <td>False</td>\n",
       "      <td>1</td>\n",
       "    </tr>\n",
       "    <tr>\n",
       "      <th>2193</th>\n",
       "      <td>5</td>\n",
       "      <td>5</td>\n",
       "      <td>0.952</td>\n",
       "      <td>WP_179135143.1</td>\n",
       "      <td>WP_002298128.1</td>\n",
       "      <td>WP_114524236.1</td>\n",
       "      <td>WP_002290190.1</td>\n",
       "      <td>WP_218257182.1</td>\n",
       "      <td>False</td>\n",
       "      <td>True</td>\n",
       "      <td>False</td>\n",
       "      <td>True</td>\n",
       "      <td>2</td>\n",
       "    </tr>\n",
       "    <tr>\n",
       "      <th>2356</th>\n",
       "      <td>5</td>\n",
       "      <td>5</td>\n",
       "      <td>0.922</td>\n",
       "      <td>WP_005877306.1</td>\n",
       "      <td>WP_002293644.1</td>\n",
       "      <td>WP_044926427.1</td>\n",
       "      <td>WP_002291388.1</td>\n",
       "      <td>WP_218257331.1</td>\n",
       "      <td>False</td>\n",
       "      <td>False</td>\n",
       "      <td>False</td>\n",
       "      <td>True</td>\n",
       "      <td>1</td>\n",
       "    </tr>\n",
       "    <tr>\n",
       "      <th>3469</th>\n",
       "      <td>4</td>\n",
       "      <td>4</td>\n",
       "      <td>0.177</td>\n",
       "      <td>WP_095443743.1</td>\n",
       "      <td>WP_002286055.1</td>\n",
       "      <td>WP_114524963.1</td>\n",
       "      <td>*</td>\n",
       "      <td>WP_010745429.1</td>\n",
       "      <td>True</td>\n",
       "      <td>False</td>\n",
       "      <td>False</td>\n",
       "      <td>False</td>\n",
       "      <td>1</td>\n",
       "    </tr>\n",
       "  </tbody>\n",
       "</table>\n",
       "</div>"
      ],
      "text/plain": [
       "      # Species  Genes  Alg.-Conn.             durans_protein.faa  \\\n",
       "111           2      3       0.328  WP_005880181.1,WP_081134106.1   \n",
       "231           2      2       1.000                              *   \n",
       "1654          2      2       1.000                              *   \n",
       "2193          5      5       0.952                 WP_179135143.1   \n",
       "2356          5      5       0.922                 WP_005877306.1   \n",
       "3469          4      4       0.177                 WP_095443743.1   \n",
       "\n",
       "     faecium_protein.faa gilvus_protein.faa lactis_protein.faa  \\\n",
       "111                    *                  *     WP_002329562.1   \n",
       "231                    *     WP_114524015.1                  *   \n",
       "1654                   *     WP_114525691.1                  *   \n",
       "2193      WP_002298128.1     WP_114524236.1     WP_002290190.1   \n",
       "2356      WP_002293644.1     WP_044926427.1     WP_002291388.1   \n",
       "3469      WP_002286055.1     WP_114524963.1                  *   \n",
       "\n",
       "     raffinosus_protein.faa  durans  faecium  gilvus  lactis  sum  \n",
       "111                       *    True    False   False   False    1  \n",
       "231          WP_218256804.1   False    False    True   False    1  \n",
       "1654         WP_028021316.1   False    False    True   False    1  \n",
       "2193         WP_218257182.1   False     True   False    True    2  \n",
       "2356         WP_218257331.1   False    False   False    True    1  \n",
       "3469         WP_010745429.1    True    False   False   False    1  "
      ]
     },
     "execution_count": 83,
     "metadata": {},
     "output_type": "execute_result"
    }
   ],
   "source": [
    "ortho.loc[ortho['sum'] != 0]"
   ]
  },
  {
   "cell_type": "code",
   "execution_count": 109,
   "id": "e4260153",
   "metadata": {},
   "outputs": [
    {
     "name": "stdout",
     "output_type": "stream",
     "text": [
      ">WP_218257182.1 ATP-binding cassette domain-containing protein [Enterococcus raffinosus]\r\n",
      "MKELKVTELYKTFGDKTLFDRISFLIHEKDRIGLIGVNGTGKSSLLTILAGKDSGDGDISAIEKASDYRIGYLAQEQNFS\r\n"
     ]
    }
   ],
   "source": [
    "!head -n2 bioinfo_project/orthologs/*2193*"
   ]
  },
  {
   "cell_type": "markdown",
   "id": "b381ca45",
   "metadata": {},
   "source": [
    "### Bизуализация:"
   ]
  },
  {
   "cell_type": "code",
   "execution_count": 84,
   "id": "b8dee624",
   "metadata": {},
   "outputs": [],
   "source": [
    "from dna_features_viewer import GraphicFeature, GraphicRecord"
   ]
  },
  {
   "cell_type": "code",
   "execution_count": 92,
   "id": "8c9c09b0",
   "metadata": {},
   "outputs": [
    {
     "data": {
      "text/html": [
       "<div>\n",
       "<style scoped>\n",
       "    .dataframe tbody tr th:only-of-type {\n",
       "        vertical-align: middle;\n",
       "    }\n",
       "\n",
       "    .dataframe tbody tr th {\n",
       "        vertical-align: top;\n",
       "    }\n",
       "\n",
       "    .dataframe thead th {\n",
       "        text-align: right;\n",
       "    }\n",
       "</style>\n",
       "<table border=\"1\" class=\"dataframe\">\n",
       "  <thead>\n",
       "    <tr style=\"text-align: right;\">\n",
       "      <th></th>\n",
       "      <th>1</th>\n",
       "      <th>2</th>\n",
       "      <th>3</th>\n",
       "      <th>4</th>\n",
       "      <th>5</th>\n",
       "      <th>len</th>\n",
       "    </tr>\n",
       "  </thead>\n",
       "  <tbody>\n",
       "    <tr>\n",
       "      <th>1510</th>\n",
       "      <td>lactis</td>\n",
       "      <td>1614321</td>\n",
       "      <td>1616204</td>\n",
       "      <td>-</td>\n",
       "      <td>WP_002290190.1</td>\n",
       "      <td>1883</td>\n",
       "    </tr>\n",
       "  </tbody>\n",
       "</table>\n",
       "</div>"
      ],
      "text/plain": [
       "           1        2        3  4               5   len\n",
       "1510  lactis  1614321  1616204  -  WP_002290190.1  1883"
      ]
     },
     "execution_count": 92,
     "metadata": {},
     "output_type": "execute_result"
    }
   ],
   "source": [
    "table = pd.read_csv('bioinfo_project/lactis/genes.bed', sep='\\t', names=['1','2','3','4','5'])\n",
    "table['len'] = table['3'] - table['2']\n",
    "table.loc[table['5'] == 'WP_002290190.1']"
   ]
  },
  {
   "cell_type": "code",
   "execution_count": 93,
   "id": "9001ed35",
   "metadata": {},
   "outputs": [
    {
     "name": "stdout",
     "output_type": "stream",
     "text": [
      "lactis\t719618\t719646\t.\t55\t+\r\n",
      "lactis\t1616082\t1616108\t.\t57\t-\r\n",
      "lactis\t2249466\t2249492\t.\t57\t-\r\n"
     ]
    }
   ],
   "source": [
    "!head bioinfo_project/quads/lac*"
   ]
  },
  {
   "cell_type": "code",
   "execution_count": 95,
   "id": "d9310c43",
   "metadata": {},
   "outputs": [
    {
     "data": {
      "text/plain": [
       "1787"
      ]
     },
     "execution_count": 95,
     "metadata": {},
     "output_type": "execute_result"
    }
   ],
   "source": [
    "1616108 - 1614321"
   ]
  },
  {
   "cell_type": "code",
   "execution_count": 101,
   "id": "affb834b",
   "metadata": {},
   "outputs": [
    {
     "data": {
      "image/png": "[encoded data removed]",
      "text/plain": [
       "<Figure size 864x216 with 2 Axes>"
      ]
     },
     "metadata": {},
     "output_type": "display_data"
    }
   ],
   "source": [
    "#  cluster 1\n",
    "\n",
    "fig, ((ax1, ax2)) = plt.subplots(nrows=2, ncols=1,figsize=(12, 3))\n",
    "\n",
    "features=[\n",
    "    GraphicFeature(start=98, end=124, strand=+1, color=\"#ffd700\",\n",
    "                   label=\"G-quadruplex, 57\"),\n",
    "    GraphicFeature(start=100, end=1986, strand=+1, color=\"#ffcccc\",\n",
    "                   label=\"faecium, WP_002298128.1\"),\n",
    "\n",
    "]\n",
    "record = GraphicRecord(sequence_length=2000, features=features)\n",
    "_=record.plot(ax=ax1)\n",
    "\n",
    "features=[\n",
    "    GraphicFeature(start=1861, end=1887, strand=-1, color=\"#ffd700\",\n",
    "                   label=\"G-quadruplex,  57\"),\n",
    "    GraphicFeature(start=100, end=1983, strand=-1, color=\"#ffcccc\",\n",
    "                   label=\"lactis, WP_002290190.1\"),\n",
    "\n",
    "]\n",
    "record = GraphicRecord(sequence_length=2000, features=features)\n",
    "_=record.plot(ax=ax2)\n",
    "\n"
   ]
  },
  {
   "cell_type": "code",
   "execution_count": null,
   "id": "8bdb551d",
   "metadata": {},
   "outputs": [],
   "source": []
  }
 ],
 "metadata": {
  "kernelspec": {
   "display_name": "Python 3 (ipykernel)",
   "language": "python",
   "name": "python3"
  },
  "language_info": {
   "codemirror_mode": {
    "name": "ipython",
    "version": 3
   },
   "file_extension": ".py",
   "mimetype": "text/x-python",
   "name": "python",
   "nbconvert_exporter": "python",
   "pygments_lexer": "ipython3",
   "version": "3.9.7"
  }
 },
 "nbformat": 4,
 "nbformat_minor": 5
}
