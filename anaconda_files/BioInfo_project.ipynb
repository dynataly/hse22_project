{
 "cells": [
  {
   "cell_type": "markdown",
   "id": "75052cbf",
   "metadata": {},
   "source": [
    "### Организмы: Bacteria;Terrabacteria group;Firmicutes\n",
    "### Род: Enterococcus"
   ]
  },
  {
   "cell_type": "code",
   "execution_count": 39,
   "id": "e5949fb1",
   "metadata": {},
   "outputs": [
    {
     "name": "stdout",
     "output_type": "stream",
     "text": [
      "durans\tfaecium  gilvus  lactis  raffinosus  zhunt3  zhunt3-alan.c\r\n"
     ]
    }
   ],
   "source": [
    "#  виды:\n",
    "!ls bioinfo_project"
   ]
  },
  {
   "cell_type": "code",
   "execution_count": 8,
   "id": "b7d0487f",
   "metadata": {},
   "outputs": [],
   "source": [
    "import pandas as pd"
   ]
  },
  {
   "cell_type": "code",
   "execution_count": null,
   "id": "17a39e57",
   "metadata": {},
   "outputs": [],
   "source": [
    "!chmod a+x bioinfo_project/zhunt3"
   ]
  },
  {
   "cell_type": "code",
   "execution_count": null,
   "id": "c3a7470d",
   "metadata": {},
   "outputs": [],
   "source": []
  },
  {
   "cell_type": "markdown",
   "id": "495aa6c1",
   "metadata": {},
   "source": [
    "### Запуск zhunt3 для всех пяти организмов:"
   ]
  },
  {
   "cell_type": "code",
   "execution_count": 38,
   "id": "4def0c0c",
   "metadata": {
    "scrolled": false
   },
   "outputs": [
    {
     "name": "stdout",
     "output_type": "stream",
     "text": [
      "dinucleotides 6\n",
      "min/max 3 6\n",
      "min/max 3 6\n",
      "operating on bioinfo_project/raffinosus/GCF_019175485.1_ASM1917548v1_genomic.fna\n",
      "calculating zscore\n",
      "opening bioinfo_project/raffinosus/GCF_019175485.1_ASM1917548v1_genomic.fna\n",
      "inputting sequence\n",
      "opening bioinfo_project/raffinosus/GCF_019175485.1_ASM1917548v1_genomic.fna.Z-SCORE\n",
      "\n",
      " run time=88 sec\n",
      "use min/max 3 6\n",
      "analyzing_zscore\n",
      "opening bioinfo_project/raffinosus/GCF_019175485.1_ASM1917548v1_genomic.fna.Z-SCORE\n",
      "opening bioinfo_project/raffinosus/GCF_019175485.1_ASM1917548v1_genomic.fna\n",
      "inputting sequence\n"
     ]
    }
   ],
   "source": [
    "!bioinfo_project/zhunt3 6 3 6 bioinfo_project/raffinosus/*.fna"
   ]
  },
  {
   "cell_type": "code",
   "execution_count": null,
   "id": "5b1ea8a8",
   "metadata": {},
   "outputs": [],
   "source": []
  },
  {
   "cell_type": "markdown",
   "id": "9f2e357f",
   "metadata": {},
   "source": [
    "### Найдем количество аннотированных генов и процент генома, который занимают все аннотированные гены (для всех пяти геномов)"
   ]
  },
  {
   "cell_type": "markdown",
   "id": "1e59efca",
   "metadata": {},
   "source": [
    "### Для durans:"
   ]
  },
  {
   "cell_type": "code",
   "execution_count": 83,
   "id": "e9287c74",
   "metadata": {},
   "outputs": [
    {
     "data": {
      "text/html": [
       "<div>\n",
       "<style scoped>\n",
       "    .dataframe tbody tr th:only-of-type {\n",
       "        vertical-align: middle;\n",
       "    }\n",
       "\n",
       "    .dataframe tbody tr th {\n",
       "        vertical-align: top;\n",
       "    }\n",
       "\n",
       "    .dataframe thead th {\n",
       "        text-align: right;\n",
       "    }\n",
       "</style>\n",
       "<table border=\"1\" class=\"dataframe\">\n",
       "  <thead>\n",
       "    <tr style=\"text-align: right;\">\n",
       "      <th></th>\n",
       "      <th># feature</th>\n",
       "      <th>class</th>\n",
       "      <th>assembly</th>\n",
       "      <th>assembly_unit</th>\n",
       "      <th>seq_type</th>\n",
       "      <th>chromosome</th>\n",
       "      <th>genomic_accession</th>\n",
       "      <th>start</th>\n",
       "      <th>end</th>\n",
       "      <th>strand</th>\n",
       "      <th>product_accession</th>\n",
       "      <th>non-redundant_refseq</th>\n",
       "      <th>related_accession</th>\n",
       "      <th>name</th>\n",
       "      <th>symbol</th>\n",
       "      <th>GeneID</th>\n",
       "      <th>locus_tag</th>\n",
       "      <th>feature_interval_length</th>\n",
       "      <th>product_length</th>\n",
       "      <th>attributes</th>\n",
       "    </tr>\n",
       "  </thead>\n",
       "  <tbody>\n",
       "    <tr>\n",
       "      <th>0</th>\n",
       "      <td>gene</td>\n",
       "      <td>protein_coding</td>\n",
       "      <td>GCF_002277935.1</td>\n",
       "      <td>Primary Assembly</td>\n",
       "      <td>chromosome</td>\n",
       "      <td>NaN</td>\n",
       "      <td>NZ_CP022930.1</td>\n",
       "      <td>202</td>\n",
       "      <td>381</td>\n",
       "      <td>-</td>\n",
       "      <td>NaN</td>\n",
       "      <td>NaN</td>\n",
       "      <td>NaN</td>\n",
       "      <td>NaN</td>\n",
       "      <td>NaN</td>\n",
       "      <td>56741744</td>\n",
       "      <td>CJZ72_RS00005</td>\n",
       "      <td>180</td>\n",
       "      <td>NaN</td>\n",
       "      <td>old_locus_tag=CJZ72_00005</td>\n",
       "    </tr>\n",
       "    <tr>\n",
       "      <th>1</th>\n",
       "      <td>CDS</td>\n",
       "      <td>with_protein</td>\n",
       "      <td>GCF_002277935.1</td>\n",
       "      <td>Primary Assembly</td>\n",
       "      <td>chromosome</td>\n",
       "      <td>NaN</td>\n",
       "      <td>NZ_CP022930.1</td>\n",
       "      <td>202</td>\n",
       "      <td>381</td>\n",
       "      <td>-</td>\n",
       "      <td>WP_227326337.1</td>\n",
       "      <td>WP_227326337.1</td>\n",
       "      <td>NaN</td>\n",
       "      <td>hypothetical protein</td>\n",
       "      <td>NaN</td>\n",
       "      <td>56741744</td>\n",
       "      <td>CJZ72_RS00005</td>\n",
       "      <td>180</td>\n",
       "      <td>59.0</td>\n",
       "      <td>NaN</td>\n",
       "    </tr>\n",
       "    <tr>\n",
       "      <th>2</th>\n",
       "      <td>gene</td>\n",
       "      <td>protein_coding</td>\n",
       "      <td>GCF_002277935.1</td>\n",
       "      <td>Primary Assembly</td>\n",
       "      <td>chromosome</td>\n",
       "      <td>NaN</td>\n",
       "      <td>NZ_CP022930.1</td>\n",
       "      <td>1090</td>\n",
       "      <td>1470</td>\n",
       "      <td>+</td>\n",
       "      <td>NaN</td>\n",
       "      <td>NaN</td>\n",
       "      <td>NaN</td>\n",
       "      <td>NaN</td>\n",
       "      <td>NaN</td>\n",
       "      <td>56741745</td>\n",
       "      <td>CJZ72_RS00010</td>\n",
       "      <td>381</td>\n",
       "      <td>NaN</td>\n",
       "      <td>old_locus_tag=CJZ72_00010</td>\n",
       "    </tr>\n",
       "    <tr>\n",
       "      <th>3</th>\n",
       "      <td>CDS</td>\n",
       "      <td>with_protein</td>\n",
       "      <td>GCF_002277935.1</td>\n",
       "      <td>Primary Assembly</td>\n",
       "      <td>chromosome</td>\n",
       "      <td>NaN</td>\n",
       "      <td>NZ_CP022930.1</td>\n",
       "      <td>1090</td>\n",
       "      <td>1470</td>\n",
       "      <td>+</td>\n",
       "      <td>WP_005876746.1</td>\n",
       "      <td>WP_005876746.1</td>\n",
       "      <td>NaN</td>\n",
       "      <td>PH domain-containing protein</td>\n",
       "      <td>NaN</td>\n",
       "      <td>56741745</td>\n",
       "      <td>CJZ72_RS00010</td>\n",
       "      <td>381</td>\n",
       "      <td>126.0</td>\n",
       "      <td>NaN</td>\n",
       "    </tr>\n",
       "    <tr>\n",
       "      <th>4</th>\n",
       "      <td>gene</td>\n",
       "      <td>protein_coding</td>\n",
       "      <td>GCF_002277935.1</td>\n",
       "      <td>Primary Assembly</td>\n",
       "      <td>chromosome</td>\n",
       "      <td>NaN</td>\n",
       "      <td>NZ_CP022930.1</td>\n",
       "      <td>1664</td>\n",
       "      <td>2497</td>\n",
       "      <td>-</td>\n",
       "      <td>NaN</td>\n",
       "      <td>NaN</td>\n",
       "      <td>NaN</td>\n",
       "      <td>NaN</td>\n",
       "      <td>NaN</td>\n",
       "      <td>56741746</td>\n",
       "      <td>CJZ72_RS00015</td>\n",
       "      <td>834</td>\n",
       "      <td>NaN</td>\n",
       "      <td>old_locus_tag=CJZ72_00015</td>\n",
       "    </tr>\n",
       "    <tr>\n",
       "      <th>...</th>\n",
       "      <td>...</td>\n",
       "      <td>...</td>\n",
       "      <td>...</td>\n",
       "      <td>...</td>\n",
       "      <td>...</td>\n",
       "      <td>...</td>\n",
       "      <td>...</td>\n",
       "      <td>...</td>\n",
       "      <td>...</td>\n",
       "      <td>...</td>\n",
       "      <td>...</td>\n",
       "      <td>...</td>\n",
       "      <td>...</td>\n",
       "      <td>...</td>\n",
       "      <td>...</td>\n",
       "      <td>...</td>\n",
       "      <td>...</td>\n",
       "      <td>...</td>\n",
       "      <td>...</td>\n",
       "      <td>...</td>\n",
       "    </tr>\n",
       "    <tr>\n",
       "      <th>5593</th>\n",
       "      <td>CDS</td>\n",
       "      <td>with_protein</td>\n",
       "      <td>GCF_002277935.1</td>\n",
       "      <td>Primary Assembly</td>\n",
       "      <td>plasmid</td>\n",
       "      <td>pEdBDGP3A</td>\n",
       "      <td>NZ_CP022931.1</td>\n",
       "      <td>3802</td>\n",
       "      <td>4083</td>\n",
       "      <td>-</td>\n",
       "      <td>WP_015065197.1</td>\n",
       "      <td>WP_015065197.1</td>\n",
       "      <td>NaN</td>\n",
       "      <td>helix-turn-helix domain-containing protein</td>\n",
       "      <td>NaN</td>\n",
       "      <td>56744510</td>\n",
       "      <td>CJZ72_RS14330</td>\n",
       "      <td>282</td>\n",
       "      <td>93.0</td>\n",
       "      <td>NaN</td>\n",
       "    </tr>\n",
       "    <tr>\n",
       "      <th>5594</th>\n",
       "      <td>gene</td>\n",
       "      <td>protein_coding</td>\n",
       "      <td>GCF_002277935.1</td>\n",
       "      <td>Primary Assembly</td>\n",
       "      <td>plasmid</td>\n",
       "      <td>pEdBDGP3A</td>\n",
       "      <td>NZ_CP022931.1</td>\n",
       "      <td>4170</td>\n",
       "      <td>5396</td>\n",
       "      <td>+</td>\n",
       "      <td>NaN</td>\n",
       "      <td>NaN</td>\n",
       "      <td>NaN</td>\n",
       "      <td>NaN</td>\n",
       "      <td>NaN</td>\n",
       "      <td>56744511</td>\n",
       "      <td>CJZ72_RS14335</td>\n",
       "      <td>1227</td>\n",
       "      <td>NaN</td>\n",
       "      <td>old_locus_tag=CJZ72_14325</td>\n",
       "    </tr>\n",
       "    <tr>\n",
       "      <th>5595</th>\n",
       "      <td>CDS</td>\n",
       "      <td>with_protein</td>\n",
       "      <td>GCF_002277935.1</td>\n",
       "      <td>Primary Assembly</td>\n",
       "      <td>plasmid</td>\n",
       "      <td>pEdBDGP3A</td>\n",
       "      <td>NZ_CP022931.1</td>\n",
       "      <td>4170</td>\n",
       "      <td>5396</td>\n",
       "      <td>+</td>\n",
       "      <td>WP_015065196.1</td>\n",
       "      <td>WP_015065196.1</td>\n",
       "      <td>NaN</td>\n",
       "      <td>AIPR family protein</td>\n",
       "      <td>NaN</td>\n",
       "      <td>56744511</td>\n",
       "      <td>CJZ72_RS14335</td>\n",
       "      <td>1227</td>\n",
       "      <td>408.0</td>\n",
       "      <td>NaN</td>\n",
       "    </tr>\n",
       "    <tr>\n",
       "      <th>5596</th>\n",
       "      <td>gene</td>\n",
       "      <td>pseudogene</td>\n",
       "      <td>GCF_002277935.1</td>\n",
       "      <td>Primary Assembly</td>\n",
       "      <td>plasmid</td>\n",
       "      <td>pEdBDGP3A</td>\n",
       "      <td>NZ_CP022931.1</td>\n",
       "      <td>5502</td>\n",
       "      <td>5585</td>\n",
       "      <td>+</td>\n",
       "      <td>NaN</td>\n",
       "      <td>NaN</td>\n",
       "      <td>NaN</td>\n",
       "      <td>NaN</td>\n",
       "      <td>NaN</td>\n",
       "      <td>56744512</td>\n",
       "      <td>CJZ72_RS14340</td>\n",
       "      <td>84</td>\n",
       "      <td>NaN</td>\n",
       "      <td>partial;pseudo;old_locus_tag=CJZ72_14330</td>\n",
       "    </tr>\n",
       "    <tr>\n",
       "      <th>5597</th>\n",
       "      <td>CDS</td>\n",
       "      <td>without_protein</td>\n",
       "      <td>GCF_002277935.1</td>\n",
       "      <td>Primary Assembly</td>\n",
       "      <td>plasmid</td>\n",
       "      <td>pEdBDGP3A</td>\n",
       "      <td>NZ_CP022931.1</td>\n",
       "      <td>5502</td>\n",
       "      <td>5585</td>\n",
       "      <td>+</td>\n",
       "      <td>NaN</td>\n",
       "      <td>NaN</td>\n",
       "      <td>NaN</td>\n",
       "      <td>type II toxin-antitoxin system Phd/YefM family...</td>\n",
       "      <td>NaN</td>\n",
       "      <td>56744512</td>\n",
       "      <td>CJZ72_RS14340</td>\n",
       "      <td>84</td>\n",
       "      <td>NaN</td>\n",
       "      <td>partial;pseudo</td>\n",
       "    </tr>\n",
       "  </tbody>\n",
       "</table>\n",
       "<p>5598 rows × 20 columns</p>\n",
       "</div>"
      ],
      "text/plain": [
       "     # feature            class         assembly     assembly_unit  \\\n",
       "0         gene   protein_coding  GCF_002277935.1  Primary Assembly   \n",
       "1          CDS     with_protein  GCF_002277935.1  Primary Assembly   \n",
       "2         gene   protein_coding  GCF_002277935.1  Primary Assembly   \n",
       "3          CDS     with_protein  GCF_002277935.1  Primary Assembly   \n",
       "4         gene   protein_coding  GCF_002277935.1  Primary Assembly   \n",
       "...        ...              ...              ...               ...   \n",
       "5593       CDS     with_protein  GCF_002277935.1  Primary Assembly   \n",
       "5594      gene   protein_coding  GCF_002277935.1  Primary Assembly   \n",
       "5595       CDS     with_protein  GCF_002277935.1  Primary Assembly   \n",
       "5596      gene       pseudogene  GCF_002277935.1  Primary Assembly   \n",
       "5597       CDS  without_protein  GCF_002277935.1  Primary Assembly   \n",
       "\n",
       "        seq_type chromosome genomic_accession  start   end strand  \\\n",
       "0     chromosome        NaN     NZ_CP022930.1    202   381      -   \n",
       "1     chromosome        NaN     NZ_CP022930.1    202   381      -   \n",
       "2     chromosome        NaN     NZ_CP022930.1   1090  1470      +   \n",
       "3     chromosome        NaN     NZ_CP022930.1   1090  1470      +   \n",
       "4     chromosome        NaN     NZ_CP022930.1   1664  2497      -   \n",
       "...          ...        ...               ...    ...   ...    ...   \n",
       "5593     plasmid  pEdBDGP3A     NZ_CP022931.1   3802  4083      -   \n",
       "5594     plasmid  pEdBDGP3A     NZ_CP022931.1   4170  5396      +   \n",
       "5595     plasmid  pEdBDGP3A     NZ_CP022931.1   4170  5396      +   \n",
       "5596     plasmid  pEdBDGP3A     NZ_CP022931.1   5502  5585      +   \n",
       "5597     plasmid  pEdBDGP3A     NZ_CP022931.1   5502  5585      +   \n",
       "\n",
       "     product_accession non-redundant_refseq  related_accession  \\\n",
       "0                  NaN                  NaN                NaN   \n",
       "1       WP_227326337.1       WP_227326337.1                NaN   \n",
       "2                  NaN                  NaN                NaN   \n",
       "3       WP_005876746.1       WP_005876746.1                NaN   \n",
       "4                  NaN                  NaN                NaN   \n",
       "...                ...                  ...                ...   \n",
       "5593    WP_015065197.1       WP_015065197.1                NaN   \n",
       "5594               NaN                  NaN                NaN   \n",
       "5595    WP_015065196.1       WP_015065196.1                NaN   \n",
       "5596               NaN                  NaN                NaN   \n",
       "5597               NaN                  NaN                NaN   \n",
       "\n",
       "                                                   name symbol    GeneID  \\\n",
       "0                                                   NaN    NaN  56741744   \n",
       "1                                  hypothetical protein    NaN  56741744   \n",
       "2                                                   NaN    NaN  56741745   \n",
       "3                          PH domain-containing protein    NaN  56741745   \n",
       "4                                                   NaN    NaN  56741746   \n",
       "...                                                 ...    ...       ...   \n",
       "5593         helix-turn-helix domain-containing protein    NaN  56744510   \n",
       "5594                                                NaN    NaN  56744511   \n",
       "5595                                AIPR family protein    NaN  56744511   \n",
       "5596                                                NaN    NaN  56744512   \n",
       "5597  type II toxin-antitoxin system Phd/YefM family...    NaN  56744512   \n",
       "\n",
       "          locus_tag  feature_interval_length  product_length  \\\n",
       "0     CJZ72_RS00005                      180             NaN   \n",
       "1     CJZ72_RS00005                      180            59.0   \n",
       "2     CJZ72_RS00010                      381             NaN   \n",
       "3     CJZ72_RS00010                      381           126.0   \n",
       "4     CJZ72_RS00015                      834             NaN   \n",
       "...             ...                      ...             ...   \n",
       "5593  CJZ72_RS14330                      282            93.0   \n",
       "5594  CJZ72_RS14335                     1227             NaN   \n",
       "5595  CJZ72_RS14335                     1227           408.0   \n",
       "5596  CJZ72_RS14340                       84             NaN   \n",
       "5597  CJZ72_RS14340                       84             NaN   \n",
       "\n",
       "                                    attributes  \n",
       "0                    old_locus_tag=CJZ72_00005  \n",
       "1                                          NaN  \n",
       "2                    old_locus_tag=CJZ72_00010  \n",
       "3                                          NaN  \n",
       "4                    old_locus_tag=CJZ72_00015  \n",
       "...                                        ...  \n",
       "5593                                       NaN  \n",
       "5594                 old_locus_tag=CJZ72_14325  \n",
       "5595                                       NaN  \n",
       "5596  partial;pseudo;old_locus_tag=CJZ72_14330  \n",
       "5597                            partial;pseudo  \n",
       "\n",
       "[5598 rows x 20 columns]"
      ]
     },
     "execution_count": 83,
     "metadata": {},
     "output_type": "execute_result"
    }
   ],
   "source": [
    "#  feature_table.txt\n",
    "\n",
    "df = pd.read_csv('bioinfo_project/durans/feature_table.txt', sep='\\t')\n",
    "df"
   ]
  },
  {
   "cell_type": "code",
   "execution_count": 137,
   "id": "de74ce04",
   "metadata": {
    "scrolled": true
   },
   "outputs": [
    {
     "data": {
      "text/plain": [
       "Index(['# feature', 'class', 'assembly', 'assembly_unit', 'seq_type',\n",
       "       'chromosome', 'genomic_accession', 'start', 'end', 'strand',\n",
       "       'product_accession', 'non-redundant_refseq', 'related_accession',\n",
       "       'name', 'symbol', 'GeneID', 'locus_tag', 'feature_interval_length',\n",
       "       'product_length', 'attributes'],\n",
       "      dtype='object')"
      ]
     },
     "execution_count": 137,
     "metadata": {},
     "output_type": "execute_result"
    }
   ],
   "source": [
    "df.columns"
   ]
  },
  {
   "cell_type": "code",
   "execution_count": null,
   "id": "2279312a",
   "metadata": {},
   "outputs": [],
   "source": []
  },
  {
   "cell_type": "markdown",
   "id": "441ecb3e",
   "metadata": {},
   "source": [
    "Суммарная длина всех аннотированных генов:"
   ]
  },
  {
   "cell_type": "code",
   "execution_count": 82,
   "id": "b13339f5",
   "metadata": {},
   "outputs": [
    {
     "data": {
      "text/plain": [
       "2527986"
      ]
     },
     "execution_count": 82,
     "metadata": {},
     "output_type": "execute_result"
    }
   ],
   "source": [
    "df.loc[df['# feature'] == 'gene']['feature_interval_length'].sum()"
   ]
  },
  {
   "cell_type": "markdown",
   "id": "70c8bc31",
   "metadata": {},
   "source": [
    "Процент генома, который занимают все аннотированные гены:"
   ]
  },
  {
   "cell_type": "code",
   "execution_count": 161,
   "id": "35334536",
   "metadata": {},
   "outputs": [
    {
     "data": {
      "text/plain": [
       "84.5769356616208"
      ]
     },
     "execution_count": 161,
     "metadata": {},
     "output_type": "execute_result"
    }
   ],
   "source": [
    "# total genome length: 2988978\n",
    "\n",
    "#percent of genes in genome:\n",
    "df.loc[df['# feature'] == 'gene']['feature_interval_length'].sum() / 2988978 * 100"
   ]
  },
  {
   "cell_type": "code",
   "execution_count": 159,
   "id": "15feef82",
   "metadata": {},
   "outputs": [
    {
     "name": "stdout",
     "output_type": "stream",
     "text": [
      "2988957 2988967 10  32.592  17.311 1.400489e-01 ttattgagtc   ASASASASAS\r\n",
      "2988958 2988966 8  33.832  12.562 6.223268e-02 tattgagt   ASASSASA\r\n",
      "2988959 2988967 8  31.989  17.294 1.953369e-01 attgagtc   ASASASAS\r\n",
      "2988960 2988966 6  31.886  15.140 2.059093e-01 ttgagt   SASASA\r\n",
      "2988961 2988967 6  31.353  15.980 2.661250e-01 tgagtc   ASASAS\r\n",
      "2988962 2988968 6  31.708  16.228 2.250050e-01 gagtcn   SASAAS\r\n",
      "2988963 2988975 12  31.946  15.252 1.997014e-01 agtcncntccca   ASASASASASAS\r\n",
      "2988964 2988970 6  32.814  17.603 1.226624e-01 gtcncn   SAASAS\r\n",
      "2988965 2988975 10  31.354  16.801 2.659777e-01 tcncntccca   ASASASASAS\r\n",
      "2988966 2988978 12  33.957  21.916 5.681626e-02 cncntcccanta   ASASASASASAS\r\n"
     ]
    }
   ],
   "source": [
    "# Возьмем длину генома из результата работы zhunt:\n",
    "\n",
    "!tail bioinfo_project/durans/*Z*"
   ]
  },
  {
   "cell_type": "markdown",
   "id": "016abe31",
   "metadata": {},
   "source": [
    "faecium:"
   ]
  },
  {
   "cell_type": "code",
   "execution_count": 89,
   "id": "9c0bb247",
   "metadata": {},
   "outputs": [
    {
     "data": {
      "text/plain": [
       "(2530736, 86.6916640575383)"
      ]
     },
     "execution_count": 89,
     "metadata": {},
     "output_type": "execute_result"
    }
   ],
   "source": [
    "df = pd.read_csv('bioinfo_project/faecium/feature_table.txt', sep='\\t')\n",
    "s = df.loc[df['# feature'] == 'gene']['feature_interval_length'].sum()\n",
    "s, s/2919238 * 100"
   ]
  },
  {
   "cell_type": "markdown",
   "id": "5c255f45",
   "metadata": {},
   "source": [
    "gilvus:"
   ]
  },
  {
   "cell_type": "code",
   "execution_count": 91,
   "id": "a1156cfb",
   "metadata": {},
   "outputs": [
    {
     "data": {
      "text/plain": [
       "(3463983, 87.79786217239437)"
      ]
     },
     "execution_count": 91,
     "metadata": {},
     "output_type": "execute_result"
    }
   ],
   "source": [
    "df = pd.read_csv('bioinfo_project/gilvus/feature_table.txt', sep='\\t')\n",
    "s = df.loc[df['# feature'] == 'gene']['feature_interval_length'].sum()\n",
    "s, s/3945407 * 100"
   ]
  },
  {
   "cell_type": "markdown",
   "id": "2acdac71",
   "metadata": {},
   "source": [
    "lactis:"
   ]
  },
  {
   "cell_type": "code",
   "execution_count": 93,
   "id": "5a3176c4",
   "metadata": {},
   "outputs": [
    {
     "data": {
      "text/plain": [
       "(2365612, 86.71219987104668)"
      ]
     },
     "execution_count": 93,
     "metadata": {},
     "output_type": "execute_result"
    }
   ],
   "source": [
    "df = pd.read_csv('bioinfo_project/lactis/feature_table.txt', sep='\\t')\n",
    "s = df.loc[df['# feature'] == 'gene']['feature_interval_length'].sum()\n",
    "s, s/2728119 * 100"
   ]
  },
  {
   "cell_type": "markdown",
   "id": "34fdeb49",
   "metadata": {},
   "source": [
    "raffinosus:"
   ]
  },
  {
   "cell_type": "code",
   "execution_count": 95,
   "id": "687d3635",
   "metadata": {},
   "outputs": [
    {
     "data": {
      "text/plain": [
       "(3748991, 88.08930571174403)"
      ]
     },
     "execution_count": 95,
     "metadata": {},
     "output_type": "execute_result"
    }
   ],
   "source": [
    "df = pd.read_csv('bioinfo_project/raffinosus/feature_table.txt', sep='\\t')\n",
    "s = df.loc[df['# feature'] == 'gene']['feature_interval_length'].sum()\n",
    "s, s/4255898 * 100"
   ]
  },
  {
   "cell_type": "code",
   "execution_count": null,
   "id": "c5b1b363",
   "metadata": {},
   "outputs": [],
   "source": []
  },
  {
   "cell_type": "markdown",
   "id": "d58b5383",
   "metadata": {},
   "source": [
    "## Обработка результата работы zhunt:"
   ]
  },
  {
   "cell_type": "markdown",
   "id": "1db7de90",
   "metadata": {},
   "source": [
    "### Отберем участки, для которых zscore > 500:"
   ]
  },
  {
   "cell_type": "markdown",
   "id": "515dea43",
   "metadata": {},
   "source": [
    "durans:"
   ]
  },
  {
   "cell_type": "code",
   "execution_count": 2,
   "id": "a95ea619",
   "metadata": {},
   "outputs": [],
   "source": [
    "import pandas as pd"
   ]
  },
  {
   "cell_type": "code",
   "execution_count": 1,
   "id": "60068ec0",
   "metadata": {},
   "outputs": [],
   "source": [
    "import numpy as np"
   ]
  },
  {
   "cell_type": "code",
   "execution_count": 3,
   "id": "b37b914b",
   "metadata": {},
   "outputs": [],
   "source": [
    "def zsc_500(org, lng):\n",
    "    \"\"\"\n",
    "    Filters positions with zscore > 500.\n",
    "    \n",
    "    org: string, name of organism\n",
    "    lng: int, length of genome\n",
    "    \"\"\"\n",
    "    zscores = np.zeros(lng)\n",
    "    s = []\n",
    "    total = []\n",
    "    with open('bioinfo_project/'+org+'/genomic.fna.Z-SCORE') as z:\n",
    "        _ = z.readline()\n",
    "        s.append('start end length z-score sequence conformation')\n",
    "        total.append('start end length z-score sequence conformation')\n",
    "        tmp = 'y'\n",
    "        count = 1\n",
    "        while tmp != '' and count < lng:\n",
    "            count += 1\n",
    "            tmp = z.readline()\n",
    "            if tmp == '':\n",
    "                break\n",
    "            tmp = tmp.split()\n",
    "            zscores[count - 1] = tmp[5]\n",
    "            total.append(' '.join([tmp[0], tmp[1], tmp[2], tmp[5], tmp[6], tmp[7]]))\n",
    "            if float(tmp[5]) > 500:\n",
    "                s.append(' '.join([tmp[0], tmp[1], tmp[2], tmp[5], tmp[6], tmp[7]]))\n",
    "            \n",
    "    np.save('bioinfo_project/'+org+'/zscore', zscores)  # .npy file with all zscores\n",
    "\n",
    "    with open('bioinfo_project/'+org+'/Z-SCORE.txt', 'w') as res:  # z-score file of zscores > 500\n",
    "        res.write('\\n'.join(s))\n",
    "    \n",
    "    with open('bioinfo_project/'+org+'/total_Z-SCORE.txt', 'w') as res:  #  all zscores\n",
    "        res.write('\\n'.join(total))"
   ]
  },
  {
   "cell_type": "code",
   "execution_count": 105,
   "id": "d42ef056",
   "metadata": {},
   "outputs": [],
   "source": [
    "zsc_500('durans', 2988967)"
   ]
  },
  {
   "cell_type": "code",
   "execution_count": 106,
   "id": "b71ab352",
   "metadata": {},
   "outputs": [],
   "source": [
    "zscore = pd.read_csv('bioinfo_project/durans/Z-SCORE.txt', sep=' ')"
   ]
  },
  {
   "cell_type": "code",
   "execution_count": 107,
   "id": "1d477a7a",
   "metadata": {},
   "outputs": [
    {
     "data": {
      "text/html": [
       "<div>\n",
       "<style scoped>\n",
       "    .dataframe tbody tr th:only-of-type {\n",
       "        vertical-align: middle;\n",
       "    }\n",
       "\n",
       "    .dataframe tbody tr th {\n",
       "        vertical-align: top;\n",
       "    }\n",
       "\n",
       "    .dataframe thead th {\n",
       "        text-align: right;\n",
       "    }\n",
       "</style>\n",
       "<table border=\"1\" class=\"dataframe\">\n",
       "  <thead>\n",
       "    <tr style=\"text-align: right;\">\n",
       "      <th></th>\n",
       "      <th>start</th>\n",
       "      <th>end</th>\n",
       "      <th>length</th>\n",
       "      <th>z-score</th>\n",
       "      <th>sequence</th>\n",
       "      <th>conformation</th>\n",
       "    </tr>\n",
       "  </thead>\n",
       "  <tbody>\n",
       "    <tr>\n",
       "      <th>0</th>\n",
       "      <td>11650</td>\n",
       "      <td>11660</td>\n",
       "      <td>10</td>\n",
       "      <td>607.5252</td>\n",
       "      <td>aatgcgcgca</td>\n",
       "      <td>ASASASASAS</td>\n",
       "    </tr>\n",
       "    <tr>\n",
       "      <th>1</th>\n",
       "      <td>11651</td>\n",
       "      <td>11661</td>\n",
       "      <td>10</td>\n",
       "      <td>980.8116</td>\n",
       "      <td>atgcgcgcat</td>\n",
       "      <td>SASASASASA</td>\n",
       "    </tr>\n",
       "    <tr>\n",
       "      <th>2</th>\n",
       "      <td>11652</td>\n",
       "      <td>11660</td>\n",
       "      <td>8</td>\n",
       "      <td>908.3955</td>\n",
       "      <td>tgcgcgca</td>\n",
       "      <td>ASASASAS</td>\n",
       "    </tr>\n",
       "    <tr>\n",
       "      <th>3</th>\n",
       "      <td>11653</td>\n",
       "      <td>11661</td>\n",
       "      <td>8</td>\n",
       "      <td>904.3200</td>\n",
       "      <td>gcgcgcat</td>\n",
       "      <td>SASASASA</td>\n",
       "    </tr>\n",
       "    <tr>\n",
       "      <th>4</th>\n",
       "      <td>13011</td>\n",
       "      <td>13023</td>\n",
       "      <td>12</td>\n",
       "      <td>503.0002</td>\n",
       "      <td>tccatgtgtgcg</td>\n",
       "      <td>ASASASASASAS</td>\n",
       "    </tr>\n",
       "    <tr>\n",
       "      <th>...</th>\n",
       "      <td>...</td>\n",
       "      <td>...</td>\n",
       "      <td>...</td>\n",
       "      <td>...</td>\n",
       "      <td>...</td>\n",
       "      <td>...</td>\n",
       "    </tr>\n",
       "    <tr>\n",
       "      <th>1454</th>\n",
       "      <td>2980281</td>\n",
       "      <td>2980293</td>\n",
       "      <td>12</td>\n",
       "      <td>553.5674</td>\n",
       "      <td>ttgcacgtgcgg</td>\n",
       "      <td>SASASASASASA</td>\n",
       "    </tr>\n",
       "    <tr>\n",
       "      <th>1455</th>\n",
       "      <td>2980282</td>\n",
       "      <td>2980292</td>\n",
       "      <td>10</td>\n",
       "      <td>2183.5740</td>\n",
       "      <td>tgcacgtgcg</td>\n",
       "      <td>ASASASASAS</td>\n",
       "    </tr>\n",
       "    <tr>\n",
       "      <th>1456</th>\n",
       "      <td>2980283</td>\n",
       "      <td>2980293</td>\n",
       "      <td>10</td>\n",
       "      <td>752.6030</td>\n",
       "      <td>gcacgtgcgg</td>\n",
       "      <td>SASASASASA</td>\n",
       "    </tr>\n",
       "    <tr>\n",
       "      <th>1457</th>\n",
       "      <td>2980284</td>\n",
       "      <td>2980292</td>\n",
       "      <td>8</td>\n",
       "      <td>766.6232</td>\n",
       "      <td>cacgtgcg</td>\n",
       "      <td>ASASASAS</td>\n",
       "    </tr>\n",
       "    <tr>\n",
       "      <th>1458</th>\n",
       "      <td>2981127</td>\n",
       "      <td>2981139</td>\n",
       "      <td>12</td>\n",
       "      <td>832.3897</td>\n",
       "      <td>cgtgtatgcgca</td>\n",
       "      <td>ASASASASASAS</td>\n",
       "    </tr>\n",
       "  </tbody>\n",
       "</table>\n",
       "<p>1459 rows × 6 columns</p>\n",
       "</div>"
      ],
      "text/plain": [
       "        start      end  length    z-score      sequence  conformation\n",
       "0       11650    11660      10   607.5252    aatgcgcgca    ASASASASAS\n",
       "1       11651    11661      10   980.8116    atgcgcgcat    SASASASASA\n",
       "2       11652    11660       8   908.3955      tgcgcgca      ASASASAS\n",
       "3       11653    11661       8   904.3200      gcgcgcat      SASASASA\n",
       "4       13011    13023      12   503.0002  tccatgtgtgcg  ASASASASASAS\n",
       "...       ...      ...     ...        ...           ...           ...\n",
       "1454  2980281  2980293      12   553.5674  ttgcacgtgcgg  SASASASASASA\n",
       "1455  2980282  2980292      10  2183.5740    tgcacgtgcg    ASASASASAS\n",
       "1456  2980283  2980293      10   752.6030    gcacgtgcgg    SASASASASA\n",
       "1457  2980284  2980292       8   766.6232      cacgtgcg      ASASASAS\n",
       "1458  2981127  2981139      12   832.3897  cgtgtatgcgca  ASASASASASAS\n",
       "\n",
       "[1459 rows x 6 columns]"
      ]
     },
     "execution_count": 107,
     "metadata": {},
     "output_type": "execute_result"
    }
   ],
   "source": [
    "zscore"
   ]
  },
  {
   "cell_type": "markdown",
   "id": "3b7f381e",
   "metadata": {},
   "source": [
    "### Объединим пересекающиеся участки. Возьмем максимальный zscore."
   ]
  },
  {
   "cell_type": "code",
   "execution_count": 4,
   "id": "7d5024e3",
   "metadata": {},
   "outputs": [],
   "source": [
    "def merge(org):\n",
    "    \"\"\"\n",
    "    Merges overlaping regions. Doesn't merge the sequence. Picks maximum zscore.\n",
    "    \n",
    "    org: string, name of organism\n",
    "    \"\"\"\n",
    "\n",
    "    s = []\n",
    "    with open('bioinfo_project/'+org+'/Z-SCORE.txt') as z:\n",
    "        tmp = z.readline()\n",
    "        s.append(tmp.split())\n",
    "        tmp = z.readline()\n",
    "        tmp = tmp.split()\n",
    "        start, end, score = tmp[0], tmp[1], tmp[3]\n",
    "        s.append(tmp)\n",
    "        #print(s)\n",
    "        while tmp != '':\n",
    "            tmp = z.readline()\n",
    "            if tmp == '':\n",
    "                break\n",
    "            tmp = tmp.split()\n",
    "            if tmp[0] < s[-1][1]:\n",
    "                s[-1][1] = tmp[1]  # merges with previous: moving the end\n",
    "                s[-1][2] = str(int(tmp[1]) - int(s[-1][0]))   # length\n",
    "                s[-1][3] = str(max(float(tmp[3]), float(s[-1][3])))   # max zscore\n",
    "            else:\n",
    "                s.append(tmp)\n",
    "            \n",
    "    for i in range(len(s)):\n",
    "        s[i] = ' '.join(s[i])\n",
    "\n",
    "    with open('bioinfo_project/'+org+'/merged_Z-SCORE.txt', 'w') as res:\n",
    "        res.write('\\n'.join(s))"
   ]
  },
  {
   "cell_type": "code",
   "execution_count": null,
   "id": "06e05df8",
   "metadata": {},
   "outputs": [],
   "source": [
    "merge('durans')"
   ]
  },
  {
   "cell_type": "code",
   "execution_count": 98,
   "id": "6e0d99a1",
   "metadata": {
    "scrolled": false
   },
   "outputs": [
    {
     "data": {
      "text/html": [
       "<div>\n",
       "<style scoped>\n",
       "    .dataframe tbody tr th:only-of-type {\n",
       "        vertical-align: middle;\n",
       "    }\n",
       "\n",
       "    .dataframe tbody tr th {\n",
       "        vertical-align: top;\n",
       "    }\n",
       "\n",
       "    .dataframe thead th {\n",
       "        text-align: right;\n",
       "    }\n",
       "</style>\n",
       "<table border=\"1\" class=\"dataframe\">\n",
       "  <thead>\n",
       "    <tr style=\"text-align: right;\">\n",
       "      <th></th>\n",
       "      <th>start</th>\n",
       "      <th>end</th>\n",
       "      <th>length</th>\n",
       "      <th>z-score</th>\n",
       "      <th>sequence</th>\n",
       "      <th>conformation</th>\n",
       "    </tr>\n",
       "  </thead>\n",
       "  <tbody>\n",
       "    <tr>\n",
       "      <th>0</th>\n",
       "      <td>11650</td>\n",
       "      <td>11661</td>\n",
       "      <td>11</td>\n",
       "      <td>980.8116</td>\n",
       "      <td>aatgcgcgca</td>\n",
       "      <td>ASASASASAS</td>\n",
       "    </tr>\n",
       "    <tr>\n",
       "      <th>1</th>\n",
       "      <td>13011</td>\n",
       "      <td>13023</td>\n",
       "      <td>12</td>\n",
       "      <td>612.3848</td>\n",
       "      <td>tccatgtgtgcg</td>\n",
       "      <td>ASASASASASAS</td>\n",
       "    </tr>\n",
       "    <tr>\n",
       "      <th>2</th>\n",
       "      <td>15991</td>\n",
       "      <td>16004</td>\n",
       "      <td>13</td>\n",
       "      <td>2752.4470</td>\n",
       "      <td>aggagcgcacgc</td>\n",
       "      <td>SASASASASASA</td>\n",
       "    </tr>\n",
       "    <tr>\n",
       "      <th>3</th>\n",
       "      <td>24092</td>\n",
       "      <td>24098</td>\n",
       "      <td>6</td>\n",
       "      <td>883.5764</td>\n",
       "      <td>cgcgcg</td>\n",
       "      <td>ASASAS</td>\n",
       "    </tr>\n",
       "    <tr>\n",
       "      <th>4</th>\n",
       "      <td>29368</td>\n",
       "      <td>29378</td>\n",
       "      <td>10</td>\n",
       "      <td>783.8230</td>\n",
       "      <td>aaacgtgcgc</td>\n",
       "      <td>SASASASASA</td>\n",
       "    </tr>\n",
       "    <tr>\n",
       "      <th>...</th>\n",
       "      <td>...</td>\n",
       "      <td>...</td>\n",
       "      <td>...</td>\n",
       "      <td>...</td>\n",
       "      <td>...</td>\n",
       "      <td>...</td>\n",
       "    </tr>\n",
       "    <tr>\n",
       "      <th>526</th>\n",
       "      <td>2945646</td>\n",
       "      <td>2945656</td>\n",
       "      <td>10</td>\n",
       "      <td>783.8230</td>\n",
       "      <td>aagcgcacgt</td>\n",
       "      <td>SASASASASA</td>\n",
       "    </tr>\n",
       "    <tr>\n",
       "      <th>527</th>\n",
       "      <td>2967275</td>\n",
       "      <td>2967287</td>\n",
       "      <td>12</td>\n",
       "      <td>712.7101</td>\n",
       "      <td>acacgtacgccc</td>\n",
       "      <td>SASASASASASA</td>\n",
       "    </tr>\n",
       "    <tr>\n",
       "      <th>528</th>\n",
       "      <td>2976770</td>\n",
       "      <td>2976780</td>\n",
       "      <td>10</td>\n",
       "      <td>612.3848</td>\n",
       "      <td>acgtgtgtgc</td>\n",
       "      <td>SASASASASA</td>\n",
       "    </tr>\n",
       "    <tr>\n",
       "      <th>529</th>\n",
       "      <td>2980280</td>\n",
       "      <td>2980292</td>\n",
       "      <td>12</td>\n",
       "      <td>2183.5740</td>\n",
       "      <td>attgcacgtgcg</td>\n",
       "      <td>ASASASASASAS</td>\n",
       "    </tr>\n",
       "    <tr>\n",
       "      <th>530</th>\n",
       "      <td>2981127</td>\n",
       "      <td>2981139</td>\n",
       "      <td>12</td>\n",
       "      <td>832.3897</td>\n",
       "      <td>cgtgtatgcgca</td>\n",
       "      <td>ASASASASASAS</td>\n",
       "    </tr>\n",
       "  </tbody>\n",
       "</table>\n",
       "<p>531 rows × 6 columns</p>\n",
       "</div>"
      ],
      "text/plain": [
       "       start      end  length    z-score      sequence  conformation\n",
       "0      11650    11661      11   980.8116    aatgcgcgca    ASASASASAS\n",
       "1      13011    13023      12   612.3848  tccatgtgtgcg  ASASASASASAS\n",
       "2      15991    16004      13  2752.4470  aggagcgcacgc  SASASASASASA\n",
       "3      24092    24098       6   883.5764        cgcgcg        ASASAS\n",
       "4      29368    29378      10   783.8230    aaacgtgcgc    SASASASASA\n",
       "..       ...      ...     ...        ...           ...           ...\n",
       "526  2945646  2945656      10   783.8230    aagcgcacgt    SASASASASA\n",
       "527  2967275  2967287      12   712.7101  acacgtacgccc  SASASASASASA\n",
       "528  2976770  2976780      10   612.3848    acgtgtgtgc    SASASASASA\n",
       "529  2980280  2980292      12  2183.5740  attgcacgtgcg  ASASASASASAS\n",
       "530  2981127  2981139      12   832.3897  cgtgtatgcgca  ASASASASASAS\n",
       "\n",
       "[531 rows x 6 columns]"
      ]
     },
     "execution_count": 98,
     "metadata": {},
     "output_type": "execute_result"
    }
   ],
   "source": [
    "zscore_merged = pd.read_csv('bioinfo_project/durans/merged_Z-SCORE.txt', sep=' ')\n",
    "zscore_merged"
   ]
  },
  {
   "cell_type": "markdown",
   "id": "0dd1bae8",
   "metadata": {},
   "source": [
    "### Количество и общая длина участков z-днк:"
   ]
  },
  {
   "cell_type": "code",
   "execution_count": 101,
   "id": "60ad9495",
   "metadata": {
    "scrolled": true
   },
   "outputs": [
    {
     "name": "stdout",
     "output_type": "stream",
     "text": [
      "531 bioinfo_project/durans/merged_Z-SCORE.txt\r\n"
     ]
    },
    {
     "data": {
      "text/plain": [
       "30186"
      ]
     },
     "execution_count": 101,
     "metadata": {},
     "output_type": "execute_result"
    }
   ],
   "source": [
    "# combined length of zdna regions\n",
    "\n",
    "!wc -l bioinfo_project/durans/merged_Z-SCORE.txt  # Количество участков + 1\n",
    "zscore_merged['length'].sum()"
   ]
  },
  {
   "cell_type": "markdown",
   "id": "4e36fe23",
   "metadata": {},
   "source": [
    "faecium:"
   ]
  },
  {
   "cell_type": "code",
   "execution_count": 114,
   "id": "9790372e",
   "metadata": {},
   "outputs": [
    {
     "name": "stdout",
     "output_type": "stream",
     "text": [
      "455 bioinfo_project/faecium/merged_Z-SCORE.txt\r\n"
     ]
    },
    {
     "data": {
      "text/plain": [
       "34568"
      ]
     },
     "execution_count": 114,
     "metadata": {},
     "output_type": "execute_result"
    }
   ],
   "source": [
    "zsc_500('faecium', 2919238)\n",
    "merge('faecium')\n",
    "zscore_merged = pd.read_csv('bioinfo_project/faecium/merged_Z-SCORE.txt', sep=' ')\n",
    "!wc -l bioinfo_project/faecium/merged_Z-SCORE.txt  # Количество участков + 1\n",
    "zscore_merged['length'].sum()"
   ]
  },
  {
   "cell_type": "markdown",
   "id": "7c4d15ba",
   "metadata": {},
   "source": [
    "gilvus:"
   ]
  },
  {
   "cell_type": "code",
   "execution_count": 5,
   "id": "3f4915f0",
   "metadata": {},
   "outputs": [
    {
     "name": "stdout",
     "output_type": "stream",
     "text": [
      "1545 bioinfo_project/gilvus/merged_Z-SCORE.txt\r\n"
     ]
    },
    {
     "data": {
      "text/plain": [
       "50563"
      ]
     },
     "execution_count": 5,
     "metadata": {},
     "output_type": "execute_result"
    }
   ],
   "source": [
    "zsc_500('gilvus', 3945407)\n",
    "merge('gilvus')\n",
    "zscore_merged = pd.read_csv('bioinfo_project/gilvus/merged_Z-SCORE.txt', sep=' ')\n",
    "!wc -l bioinfo_project/gilvus/merged_Z-SCORE.txt  # Количество участков + 1\n",
    "zscore_merged['length'].sum()"
   ]
  },
  {
   "cell_type": "markdown",
   "id": "ef365e2f",
   "metadata": {},
   "source": [
    "lactis:"
   ]
  },
  {
   "cell_type": "code",
   "execution_count": 6,
   "id": "b0be9e65",
   "metadata": {},
   "outputs": [
    {
     "name": "stdout",
     "output_type": "stream",
     "text": [
      "524 bioinfo_project/lactis/merged_Z-SCORE.txt\r\n"
     ]
    },
    {
     "data": {
      "text/plain": [
       "37123"
      ]
     },
     "execution_count": 6,
     "metadata": {},
     "output_type": "execute_result"
    }
   ],
   "source": [
    "zsc_500('lactis', 2728119)\n",
    "merge('lactis')\n",
    "zscore_merged = pd.read_csv('bioinfo_project/lactis/merged_Z-SCORE.txt', sep=' ')\n",
    "!wc -l bioinfo_project/lactis/merged_Z-SCORE.txt  # Количество участков + 1\n",
    "zscore_merged['length'].sum()"
   ]
  },
  {
   "cell_type": "markdown",
   "id": "96481fdf",
   "metadata": {},
   "source": [
    "raffinosus:"
   ]
  },
  {
   "cell_type": "code",
   "execution_count": 7,
   "id": "68248ef2",
   "metadata": {},
   "outputs": [
    {
     "name": "stdout",
     "output_type": "stream",
     "text": [
      "928 bioinfo_project/raffinosus/merged_Z-SCORE.txt\r\n"
     ]
    },
    {
     "data": {
      "text/plain": [
       "53375"
      ]
     },
     "execution_count": 7,
     "metadata": {},
     "output_type": "execute_result"
    }
   ],
   "source": [
    "zsc_500('raffinosus', 4255898)\n",
    "merge('raffinosus')\n",
    "zscore_merged = pd.read_csv('bioinfo_project/raffinosus/merged_Z-SCORE.txt', sep=' ')\n",
    "!wc -l bioinfo_project/raffinosus/merged_Z-SCORE.txt  # Количество участков + 1\n",
    "zscore_merged['length'].sum()"
   ]
  },
  {
   "cell_type": "code",
   "execution_count": null,
   "id": "c2900d9d",
   "metadata": {},
   "outputs": [],
   "source": []
  },
  {
   "cell_type": "code",
   "execution_count": null,
   "id": "f4b9e71d",
   "metadata": {},
   "outputs": [],
   "source": []
  },
  {
   "cell_type": "code",
   "execution_count": null,
   "id": "4920c0dc",
   "metadata": {},
   "outputs": [],
   "source": []
  },
  {
   "cell_type": "code",
   "execution_count": 1,
   "id": "33a7377f",
   "metadata": {},
   "outputs": [],
   "source": [
    "import numpy as np\n",
    "import matplotlib.pyplot as plt"
   ]
  },
  {
   "cell_type": "markdown",
   "id": "d4eb0fef",
   "metadata": {},
   "source": [
    "### Графики расположения участков Z-ДНК в геноме каждого организма:"
   ]
  },
  {
   "cell_type": "code",
   "execution_count": 2,
   "id": "4a0f2d4b",
   "metadata": {},
   "outputs": [],
   "source": [
    "dur = np.load('bioinfo_project/durans/zscore.npy')\n",
    "fae = np.load('bioinfo_project/faecium/zscore.npy')\n",
    "gil = np.load('bioinfo_project/gilvus/zscore.npy')\n",
    "lac = np.load('bioinfo_project/lactis/zscore.npy')\n",
    "raf = np.load('bioinfo_project/raffinosus/zscore.npy')"
   ]
  },
  {
   "cell_type": "code",
   "execution_count": 12,
   "id": "459030f1",
   "metadata": {},
   "outputs": [
    {
     "data": {
      "image/png": "[encoded data removed]",
      "text/plain": [
       "<Figure size 1224x288 with 3 Axes>"
      ]
     },
     "metadata": {
      "needs_background": "light"
     },
     "output_type": "display_data"
    }
   ],
   "source": [
    "fig, ax = plt.subplots(1, 3, figsize=(17, 4))\n",
    "ax[0].plot(dur)\n",
    "ax[0].set_title('durans')\n",
    "ax[1].plot(fae)\n",
    "ax[1].set_title('faecium')\n",
    "ax[2].plot(gil)\n",
    "ax[2].set_title('gilvus')\n",
    "plt.show()"
   ]
  },
  {
   "cell_type": "code",
   "execution_count": 3,
   "id": "3a63c15d",
   "metadata": {},
   "outputs": [
    {
     "data": {
      "image/png": "[encoded data removed]",
      "text/plain": [
       "<Figure size 1224x288 with 2 Axes>"
      ]
     },
     "metadata": {
      "needs_background": "light"
     },
     "output_type": "display_data"
    }
   ],
   "source": [
    "fig, ax = plt.subplots(1, 2, figsize=(17, 4))\n",
    "ax[0].plot(lac)\n",
    "ax[0].set_title('lactis')\n",
    "ax[1].plot(raf)\n",
    "ax[1].set_title('raffinous')\n",
    "plt.show()"
   ]
  },
  {
   "cell_type": "code",
   "execution_count": 5,
   "id": "f980d4a7",
   "metadata": {
    "scrolled": true
   },
   "outputs": [
    {
     "data": {
      "image/png": "[encoded data removed]",
      "text/plain": [
       "<Figure size 432x288 with 1 Axes>"
      ]
     },
     "metadata": {
      "needs_background": "light"
     },
     "output_type": "display_data"
    }
   ],
   "source": [
    "_ = plt.hist(lac, density=True)"
   ]
  },
  {
   "cell_type": "markdown",
   "id": "4d742d66",
   "metadata": {},
   "source": [
    "### BED файл со всеми предсказаниями:"
   ]
  },
  {
   "cell_type": "markdown",
   "id": "21694403",
   "metadata": {},
   "source": [
    "durans:"
   ]
  },
  {
   "cell_type": "code",
   "execution_count": 7,
   "id": "fb031a5c",
   "metadata": {},
   "outputs": [],
   "source": [
    "import pandas as pd"
   ]
  },
  {
   "cell_type": "code",
   "execution_count": 10,
   "id": "dcd79b58",
   "metadata": {},
   "outputs": [],
   "source": [
    "z2 = pd.read_csv('bioinfo_project/durans/merged_Z-SCORE.txt', sep=' ')\n",
    "z2['chr'] = 'durans'\n",
    "\n",
    "h = []\n",
    "for i in range(531):\n",
    "    h.append(f'durans_{i}')\n",
    "z2['id'] = h\n",
    "file = 'bioinfo_project/durans/zscores.bed'\n",
    "z2[['chr','start','end','id','z-score']].to_csv(file, sep = '\\t', header=False,index=False)"
   ]
  },
  {
   "cell_type": "markdown",
   "id": "11352433",
   "metadata": {},
   "source": [
    "faecium:"
   ]
  },
  {
   "cell_type": "code",
   "execution_count": 19,
   "id": "794503ad",
   "metadata": {},
   "outputs": [],
   "source": [
    "z2 = pd.read_csv('bioinfo_project/faecium/merged_Z-SCORE.txt', sep=' ')\n",
    "z2['chr'] = 'faecium'\n",
    "\n",
    "h = []\n",
    "for i in range(len(z2)):\n",
    "    h.append(f'faecium_{i}')\n",
    "z2['id'] = h\n",
    "file = 'bioinfo_project/faecium/zscores.bed'\n",
    "z2[['chr','start','end','id','z-score']].to_csv(file, sep = '\\t', header=False,index=False)"
   ]
  },
  {
   "cell_type": "markdown",
   "id": "1db7e927",
   "metadata": {},
   "source": [
    "gilvus:"
   ]
  },
  {
   "cell_type": "code",
   "execution_count": 17,
   "id": "aaa12c2f",
   "metadata": {},
   "outputs": [],
   "source": [
    "z2 = pd.read_csv('bioinfo_project/gilvus/merged_Z-SCORE.txt', sep=' ')\n",
    "z2['chr'] = 'gilvus'\n",
    "\n",
    "h = []\n",
    "for i in range(len(z2)):\n",
    "    h.append(f'gilvus_{i}')\n",
    "z2['id'] = h\n",
    "file = 'bioinfo_project/gilvus/zscores.bed'\n",
    "z2[['chr','start','end','id','z-score']].to_csv(file, sep = '\\t', header=False,index=False)"
   ]
  },
  {
   "cell_type": "markdown",
   "id": "9ade21b5",
   "metadata": {},
   "source": [
    "lactis:"
   ]
  },
  {
   "cell_type": "code",
   "execution_count": 20,
   "id": "1fc19ea2",
   "metadata": {},
   "outputs": [],
   "source": [
    "z2 = pd.read_csv('bioinfo_project/lactis/merged_Z-SCORE.txt', sep=' ')\n",
    "z2['chr'] = 'lactis'\n",
    "\n",
    "h = []\n",
    "for i in range(len(z2)):\n",
    "    h.append(f'lactis_{i}')\n",
    "z2['id'] = h\n",
    "file = 'bioinfo_project/lactis/zscores.bed'\n",
    "z2[['chr','start','end','id','z-score']].to_csv(file, sep = '\\t', header=False,index=False)"
   ]
  },
  {
   "cell_type": "markdown",
   "id": "53ffc878",
   "metadata": {},
   "source": [
    "raffinosus:"
   ]
  },
  {
   "cell_type": "code",
   "execution_count": 21,
   "id": "a090b0a3",
   "metadata": {},
   "outputs": [],
   "source": [
    "z2 = pd.read_csv('bioinfo_project/raffinosus/merged_Z-SCORE.txt', sep=' ')\n",
    "z2['chr'] = 'raffinosus'\n",
    "\n",
    "h = []\n",
    "for i in range(len(z2)):\n",
    "    h.append(f'raffinosus_{i}')\n",
    "z2['id'] = h\n",
    "file = 'bioinfo_project/raffinosus/zscores.bed'\n",
    "z2[['chr','start','end','id','z-score']].to_csv(file, sep = '\\t', header=False,index=False)"
   ]
  },
  {
   "cell_type": "code",
   "execution_count": null,
   "id": "9369beb5",
   "metadata": {},
   "outputs": [],
   "source": []
  },
  {
   "cell_type": "markdown",
   "id": "fed2e1c5",
   "metadata": {},
   "source": [
    "### Ассоциируем предсказанные участки Z-DNA с промотерами генов:"
   ]
  },
  {
   "cell_type": "markdown",
   "id": "2d1ff2d4",
   "metadata": {},
   "source": [
    "Создаем .bed файлы с координатами начала транскрипции аннотированных генов (TSS):"
   ]
  },
  {
   "cell_type": "code",
   "execution_count": 10,
   "id": "fd0676ce",
   "metadata": {},
   "outputs": [
    {
     "data": {
      "text/plain": [
       "Index(['# feature', 'class', 'assembly', 'assembly_unit', 'seq_type',\n",
       "       'chromosome', 'genomic_accession', 'start', 'end', 'strand',\n",
       "       'product_accession', 'non-redundant_refseq', 'related_accession',\n",
       "       'name', 'symbol', 'GeneID', 'locus_tag', 'feature_interval_length',\n",
       "       'product_length', 'attributes'],\n",
       "      dtype='object')"
      ]
     },
     "execution_count": 10,
     "metadata": {},
     "output_type": "execute_result"
    }
   ],
   "source": [
    "feature_table.columns"
   ]
  },
  {
   "cell_type": "markdown",
   "id": "a2f7098c",
   "metadata": {},
   "source": [
    "durans:"
   ]
  },
  {
   "cell_type": "code",
   "execution_count": 27,
   "id": "4e53eb5a",
   "metadata": {
    "scrolled": false
   },
   "outputs": [],
   "source": [
    "ft = pd.read_csv('bioinfo_project/durans/feature_table.txt', sep='\\t') #\n",
    "ft = ft[ft['product_accession'].notna()]\n",
    "ft['chr'] = 'durans'                                         #\n",
    "ft.loc[ft['strand']=='+', 'tss'] = ft['start'].astype(str)\n",
    "ft.loc[ft['strand']=='-', 'tss'] = ft['end']\n",
    "file = 'bioinfo_project/durans/tss.bed'                   #\n",
    "ft[['chr','tss','tss', 'product_accession']].to_csv(file, sep = '\\t', header=False,index=False)"
   ]
  },
  {
   "cell_type": "markdown",
   "id": "22316e53",
   "metadata": {},
   "source": [
    "faecium:"
   ]
  },
  {
   "cell_type": "code",
   "execution_count": 28,
   "id": "e7f57718",
   "metadata": {},
   "outputs": [],
   "source": [
    "ft = pd.read_csv('bioinfo_project/faecium/feature_table.txt', sep='\\t') #\n",
    "ft = ft[ft['product_accession'].notna()]\n",
    "ft['chr'] = 'faecium'                                         #\n",
    "ft.loc[ft['strand']=='+', 'tss'] = ft['start'].astype(str)\n",
    "ft.loc[ft['strand']=='-', 'tss'] = ft['end']\n",
    "file = 'bioinfo_project/faecium/tss.bed'                   #\n",
    "ft[['chr','tss','tss', 'product_accession']].to_csv(file, sep = '\\t', header=False,index=False)"
   ]
  },
  {
   "cell_type": "markdown",
   "id": "6a072b7e",
   "metadata": {},
   "source": [
    "gilvus:"
   ]
  },
  {
   "cell_type": "code",
   "execution_count": 29,
   "id": "9565a29d",
   "metadata": {},
   "outputs": [],
   "source": [
    "ft = pd.read_csv('bioinfo_project/gilvus/feature_table.txt', sep='\\t') #\n",
    "ft = ft[ft['product_accession'].notna()]\n",
    "ft['chr'] = 'gilvus'                                         #\n",
    "ft.loc[ft['strand']=='+', 'tss'] = ft['start'].astype(str)\n",
    "ft.loc[ft['strand']=='-', 'tss'] = ft['end']\n",
    "file = 'bioinfo_project/gilvus/tss.bed'                   #\n",
    "ft[['chr','tss','tss', 'product_accession']].to_csv(file, sep = '\\t', header=False,index=False)"
   ]
  },
  {
   "cell_type": "markdown",
   "id": "68240386",
   "metadata": {},
   "source": [
    "lactis:"
   ]
  },
  {
   "cell_type": "code",
   "execution_count": 30,
   "id": "5795997c",
   "metadata": {},
   "outputs": [],
   "source": [
    "ft = pd.read_csv('bioinfo_project/lactis/feature_table.txt', sep='\\t') #\n",
    "ft = ft[ft['product_accession'].notna()]\n",
    "ft['chr'] = 'lactis'                                         #\n",
    "ft.loc[ft['strand']=='+', 'tss'] = ft['start'].astype(str)\n",
    "ft.loc[ft['strand']=='-', 'tss'] = ft['end']\n",
    "file = 'bioinfo_project/lactis/tss.bed'                   #\n",
    "ft[['chr','tss','tss', 'product_accession']].to_csv(file, sep = '\\t', header=False,index=False)"
   ]
  },
  {
   "cell_type": "markdown",
   "id": "fc5c6dfd",
   "metadata": {},
   "source": [
    "raffinosus:"
   ]
  },
  {
   "cell_type": "code",
   "execution_count": 31,
   "id": "34bddb01",
   "metadata": {},
   "outputs": [],
   "source": [
    "ft = pd.read_csv('bioinfo_project/raffinosus/feature_table.txt', sep='\\t') #\n",
    "ft = ft[ft['product_accession'].notna()]\n",
    "ft['chr'] = 'raffinosus'                                         #\n",
    "ft.loc[ft['strand']=='+', 'tss'] = ft['start'].astype(str)\n",
    "ft.loc[ft['strand']=='-', 'tss'] = ft['end']\n",
    "file = 'bioinfo_project/raffinosus/tss.bed'                   #\n",
    "ft[['chr','tss','tss', 'product_accession']].to_csv(file, sep = '\\t', header=False,index=False)"
   ]
  },
  {
   "cell_type": "code",
   "execution_count": null,
   "id": "0d1c3eef",
   "metadata": {},
   "outputs": [],
   "source": []
  },
  {
   "cell_type": "markdown",
   "id": "6ca67ff8",
   "metadata": {},
   "source": [
    "### Для каждого организма получаем .bed файл с координатами промоторных регионов (отступаем на 100 позиций в обе стороны от TSS):"
   ]
  },
  {
   "cell_type": "code",
   "execution_count": 81,
   "id": "90e8938e",
   "metadata": {
    "scrolled": true
   },
   "outputs": [],
   "source": [
    "!bedtools slop -i bioinfo_project/durans/tss.bed -g bioinfo_project/durans/genome.txt -b 100 > bioinfo_project/durans/res.bed"
   ]
  },
  {
   "cell_type": "code",
   "execution_count": 32,
   "id": "5be89c77",
   "metadata": {},
   "outputs": [],
   "source": [
    "!bedtools slop -i bioinfo_project/faecium/tss.bed -g bioinfo_project/faecium/genome.txt -b 100 > bioinfo_project/faecium/res.bed\n",
    "!bedtools slop -i bioinfo_project/gilvus/tss.bed -g bioinfo_project/gilvus/genome.txt -b 100 > bioinfo_project/gilvus/res.bed\n",
    "!bedtools slop -i bioinfo_project/lactis/tss.bed -g bioinfo_project/lactis/genome.txt -b 100 > bioinfo_project/lactis/res.bed\n",
    "!bedtools slop -i bioinfo_project/raffinosus/tss.bed -g bioinfo_project/raffinosus/genome.txt -b 100 > bioinfo_project/raffinosus/res.bed"
   ]
  },
  {
   "cell_type": "code",
   "execution_count": 63,
   "id": "5361740b",
   "metadata": {},
   "outputs": [
    {
     "name": "stdout",
     "output_type": "stream",
     "text": [
      "2663 bioinfo_project/durans/res.bed\n",
      "2708 bioinfo_project/faecium/res.bed\n",
      "3716 bioinfo_project/gilvus/res.bed\n",
      "2484 bioinfo_project/lactis/res.bed\n",
      "3972 bioinfo_project/raffinosus/res.bed\n"
     ]
    }
   ],
   "source": [
    "!wc -l bioinfo_project/durans/res.bed \n",
    "!wc -l bioinfo_project/faecium/res.bed \n",
    "!wc -l bioinfo_project/gilvus/res.bed \n",
    "!wc -l bioinfo_project/lactis/res.bed \n",
    "!wc -l bioinfo_project/raffinosus/res.bed "
   ]
  },
  {
   "cell_type": "code",
   "execution_count": 77,
   "id": "c4bb1169",
   "metadata": {
    "scrolled": true
   },
   "outputs": [],
   "source": [
    "!bedtools intersect -a bioinfo_project/durans/zscores.bed -b bioinfo_project/durans/res.bed"
   ]
  },
  {
   "cell_type": "code",
   "execution_count": 86,
   "id": "2cb012ef",
   "metadata": {},
   "outputs": [],
   "source": [
    "!bedtools intersect -b bioinfo_project/durans/zscores.bed -a bioinfo_project/durans/res.bed > bioinfo_project/durans/overlap.bed\n",
    "!bedtools intersect -b bioinfo_project/faecium/zscores.bed -a bioinfo_project/faecium/res.bed > bioinfo_project/faecium/overlap.bed\n",
    "!bedtools intersect -b bioinfo_project/gilvus/zscores.bed -a bioinfo_project/gilvus/res.bed > bioinfo_project/gilvus/overlap.bed\n",
    "!bedtools intersect -b bioinfo_project/lactis/zscores.bed -a bioinfo_project/lactis/res.bed > bioinfo_project/lactis/overlap.bed\n",
    "!bedtools intersect -b bioinfo_project/raffinosus/zscores.bed -a bioinfo_project/raffinosus/res.bed > bioinfo_project/raffinosus/overlap.bed"
   ]
  },
  {
   "cell_type": "markdown",
   "id": "28709ef9",
   "metadata": {},
   "source": [
    "### Количество сайтов формирования Z-ДНК в промотерах для каждого генома:"
   ]
  },
  {
   "cell_type": "code",
   "execution_count": 87,
   "id": "1e052784",
   "metadata": {
    "scrolled": true
   },
   "outputs": [
    {
     "name": "stdout",
     "output_type": "stream",
     "text": [
      "97 bioinfo_project/durans/overlap.bed\n",
      "120 bioinfo_project/faecium/overlap.bed\n",
      "369 bioinfo_project/gilvus/overlap.bed\n",
      "141 bioinfo_project/lactis/overlap.bed\n",
      "241 bioinfo_project/raffinosus/overlap.bed\n"
     ]
    }
   ],
   "source": [
    "!wc -l bioinfo_project/durans/overlap.bed \n",
    "!wc -l bioinfo_project/faecium/overlap.bed \n",
    "!wc -l bioinfo_project/gilvus/overlap.bed \n",
    "!wc -l bioinfo_project/lactis/overlap.bed \n",
    "!wc -l bioinfo_project/raffinosus/overlap.bed "
   ]
  },
  {
   "cell_type": "markdown",
   "id": "1a498d1a",
   "metadata": {},
   "source": [
    "### Создаем список генов, в промотерах которых находится Z-ДНК:"
   ]
  },
  {
   "cell_type": "code",
   "execution_count": 101,
   "id": "3437b022",
   "metadata": {},
   "outputs": [],
   "source": [
    "def zdna_genes(org):\n",
    "    with open('bioinfo_project/'+org+'/overlap.bed') as genes:\n",
    "        s = genes.readlines()\n",
    "    #print(s)\n",
    "    for i in range(len(s)):\n",
    "        s[i] = s[i].split()[3]\n",
    "    #s = s.split()\n",
    "    with open('bioinfo_project/'+org+'/overlap.txt', 'w') as res:\n",
    "        res.write(' '.join(s))"
   ]
  },
  {
   "cell_type": "code",
   "execution_count": 104,
   "id": "947f9e63",
   "metadata": {},
   "outputs": [],
   "source": [
    "zdna_genes('durans')\n",
    "zdna_genes('faecium')\n",
    "zdna_genes('gilvus')\n",
    "zdna_genes('lactis')\n",
    "zdna_genes('raffinosus')"
   ]
  },
  {
   "cell_type": "code",
   "execution_count": null,
   "id": "473525d3",
   "metadata": {},
   "outputs": [],
   "source": []
  },
  {
   "cell_type": "markdown",
   "id": "412d9a11",
   "metadata": {},
   "source": [
    "## Найдем кластеры гомологичных белков:"
   ]
  },
  {
   "cell_type": "code",
   "execution_count": 54,
   "id": "df487f8d",
   "metadata": {},
   "outputs": [],
   "source": [
    "!gunzip bioinfo_project/proteins/*"
   ]
  },
  {
   "cell_type": "code",
   "execution_count": 55,
   "id": "ccafe5bf",
   "metadata": {},
   "outputs": [
    {
     "name": "stdout",
     "output_type": "stream",
     "text": [
      "GCF_002277935.1_ASM227793v1_protein.faa\r\n",
      "GCF_003343305.1_ASM334330v1_protein.faa\r\n",
      "GCF_009734005.1_ASM973400v2_protein.faa\r\n",
      "GCF_019175485.1_ASM1917548v1_protein.faa\r\n",
      "GCF_019343125.1_ASM1934312v1_protein.faa\r\n"
     ]
    }
   ],
   "source": [
    "!ls bioinfo_project/proteins"
   ]
  },
  {
   "cell_type": "code",
   "execution_count": 58,
   "id": "5b9222e1",
   "metadata": {},
   "outputs": [
    {
     "name": "stdout",
     "output_type": "stream",
     "text": [
      "*****************************************************************\n",
      "\u001b[1;32mProteinortho\u001b[0m with PoFF version 6.0.14 - An orthology detection tool\n",
      "*****************************************************************\n",
      "Detected 4 available CPU threads (adjust this with -cpus), Detected 'diamond' version 0.9.30\n",
      "Checking input files.\n",
      "Checking bioinfo_project/proteins/durans_protein.faa... ok\n",
      "Checking bioinfo_project/proteins/faecium_protein.faa... ok\n",
      "Checking bioinfo_project/proteins/gilvus_protein.faa... ok\n",
      "Checking bioinfo_project/proteins/lactis_protein.faa... ok\n",
      "Checking bioinfo_project/proteins/raffinosus_protein.faa... ok\n",
      "\n",
      "\u001b[1;32m**Step 1**\u001b[0m\n",
      "Generating indices.\n",
      "Building database for 'bioinfo_project/proteins/raffinosus_protein.faa'\t(3946 sequences)\n",
      "Building database for 'bioinfo_project/proteins/gilvus_protein.faa'\t(3711 sequences)\n",
      "Building database for 'bioinfo_project/proteins/durans_protein.faa'\t(2632 sequences)\n",
      "Building database for 'bioinfo_project/proteins/faecium_protein.faa'\t(2607 sequences)\n",
      "Building database for 'bioinfo_project/proteins/lactis_protein.faa'\t(2474 sequences)\n",
      "\n",
      "\u001b[1;32m**Step 2**\u001b[0m using diamond \n",
      "Running blast analysis: 100% (10/10)                                           \n",
      "[OUTPUT] -> written to myproject.blast-graph\n",
      "\n",
      "\u001b[1;32m**Step 3**\u001b[0m\n",
      "Clustering by similarity (Proteinortho mode) using up to 1455.75 MB of memory (75% of total memory) and 4 cpu core(s). Adjust this behaviour with the -mem option.\n",
      "Reading myproject.blast-graph\n",
      "5 species\n",
      "12791 paired proteins\n",
      "19587 bidirectional edges\n",
      "Done                       \n",
      "[OUTPUT] -> Orthologous groups are written to myproject.proteinortho.tsv\n",
      "You can extract the fasta files of each orthology group with 'proteinortho_grab_proteins.pl -tofiles myproject.proteinortho.tsv bioinfo_project/proteins/raffinosus_protein.faa bioinfo_project/proteins/gilvus_protein.faa bioinfo_project/proteins/durans_protein.faa bioinfo_project/proteins/faecium_protein.faa bioinfo_project/proteins/lactis_protein.faa'\n",
      " (Careful: This will generate a file foreach line in the file myproject.proteinortho.tsv).\n",
      "[OUTPUT] -> Orthologous pairs are written to myproject.proteinortho-graph\n",
      "[OUTPUT] -> Summary is written to myproject.proteinortho-graph.summary\n",
      "[OUTPUT] -> Orthologous groups are written to myproject.proteinortho.html\n",
      "\n",
      "\u001b[1;32mAll finished.\u001b[0m\n"
     ]
    }
   ],
   "source": [
    "!proteinortho bioinfo_project/proteins/*"
   ]
  },
  {
   "cell_type": "code",
   "execution_count": 60,
   "id": "49b7c917",
   "metadata": {
    "scrolled": true
   },
   "outputs": [
    {
     "name": "stdout",
     "output_type": "stream",
     "text": [
      "[STDERR] WARNING The -exact option is mandatory if a proteinortho file is given. -exact is now set.\n",
      "[STDERR] Done reading the query myproject.proteinortho.tsv file. Now I know 3567 groups with 12782 genes/proteins in total.\n",
      "\n",
      "!!!\n",
      "WARNING : This call will produce 3567 files (one for each orthology group) !\n",
      "In the *.html file you can individually extract single groups by clicking on the front part of a row.\n",
      "Press 'strg+c' to prevent me from proceeding or wait 20 seconds to continue...\n",
      "!!!\n",
      "\n",
      "Well then, proceeding...\n",
      "\n",
      "[STDERR] (1/5) : Start reading the fasta file bioinfo_project/proteins/raffinosus_protein.faa\n",
      "[STDERR] (2/5) : Done reading raffinosus_protein.faa. Start reading the fasta file bioinfo_project/proteins/gilvus_protein.faa\n",
      "[STDERR] (3/5) : Done reading gilvus_protein.faa. Start reading the fasta file bioinfo_project/proteins/durans_protein.faa\n",
      "[STDERR] (4/5) : Done reading durans_protein.faa. Start reading the fasta file bioinfo_project/proteins/faecium_protein.faa\n",
      "[STDERR] (5/5) : Done reading faecium_protein.faa. Start reading the fasta file bioinfo_project/proteins/lactis_protein.faa\n",
      "[STDERR] All entries of the query are found in the fasta(s).\n"
     ]
    }
   ],
   "source": [
    "!proteinortho_grab_proteins.pl -tofiles myproject.proteinortho.tsv bioinfo_project/proteins/raffinosus_protein.faa bioinfo_project/proteins/gilvus_protein.faa bioinfo_project/proteins/durans_protein.faa bioinfo_project/proteins/faecium_protein.faa bioinfo_project/proteins/lactis_protein.faa"
   ]
  },
  {
   "cell_type": "markdown",
   "id": "bef548a7",
   "metadata": {},
   "source": [
    "### Общее количество кластеров - 3568"
   ]
  },
  {
   "cell_type": "code",
   "execution_count": 69,
   "id": "9597585e",
   "metadata": {
    "scrolled": false
   },
   "outputs": [
    {
     "name": "stdout",
     "output_type": "stream",
     "text": [
      "  3568  28545 232670 bioinfo_project/ortho_reports/myproject.proteinortho.tsv\r\n"
     ]
    }
   ],
   "source": [
    "!wc bioinfo_project/ortho_reports/myproject.proteinortho.tsv"
   ]
  },
  {
   "cell_type": "markdown",
   "id": "8f419df4",
   "metadata": {},
   "source": [
    "### Гистограмма по количества разных геномов в кластере:"
   ]
  },
  {
   "cell_type": "code",
   "execution_count": 561,
   "id": "854968c0",
   "metadata": {},
   "outputs": [],
   "source": [
    "ortho = pd.read_csv('bioinfo_project/ortho_reports/myproject.proteinortho.tsv', sep='\\t')\n",
    "species = pd.array(ortho['# Species'])"
   ]
  },
  {
   "cell_type": "code",
   "execution_count": 563,
   "id": "07e75cf5",
   "metadata": {},
   "outputs": [
    {
     "data": {
      "image/png": "[encoded data removed]",
      "text/plain": [
       "<Figure size 432x288 with 1 Axes>"
      ]
     },
     "metadata": {
      "needs_background": "light"
     },
     "output_type": "display_data"
    }
   ],
   "source": [
    "_=plt.hist(species)"
   ]
  },
  {
   "cell_type": "code",
   "execution_count": null,
   "id": "4d13bb35",
   "metadata": {},
   "outputs": [],
   "source": []
  },
  {
   "cell_type": "markdown",
   "id": "8c2d4362",
   "metadata": {},
   "source": [
    "### Выберем кластеры, в которые попали белки из всех пяти организмов:"
   ]
  },
  {
   "cell_type": "code",
   "execution_count": 105,
   "id": "4f830248",
   "metadata": {
    "scrolled": false
   },
   "outputs": [
    {
     "data": {
      "text/html": [
       "<div>\n",
       "<style scoped>\n",
       "    .dataframe tbody tr th:only-of-type {\n",
       "        vertical-align: middle;\n",
       "    }\n",
       "\n",
       "    .dataframe tbody tr th {\n",
       "        vertical-align: top;\n",
       "    }\n",
       "\n",
       "    .dataframe thead th {\n",
       "        text-align: right;\n",
       "    }\n",
       "</style>\n",
       "<table border=\"1\" class=\"dataframe\">\n",
       "  <thead>\n",
       "    <tr style=\"text-align: right;\">\n",
       "      <th></th>\n",
       "      <th># Species</th>\n",
       "      <th>Genes</th>\n",
       "      <th>Alg.-Conn.</th>\n",
       "      <th>durans_protein.faa</th>\n",
       "      <th>faecium_protein.faa</th>\n",
       "      <th>gilvus_protein.faa</th>\n",
       "      <th>lactis_protein.faa</th>\n",
       "      <th>raffinosus_protein.faa</th>\n",
       "    </tr>\n",
       "  </thead>\n",
       "  <tbody>\n",
       "    <tr>\n",
       "      <th>14</th>\n",
       "      <td>5</td>\n",
       "      <td>5</td>\n",
       "      <td>0.0505</td>\n",
       "      <td>WP_081133519.1</td>\n",
       "      <td>WP_002289192.1</td>\n",
       "      <td>WP_010780798.1</td>\n",
       "      <td>WP_002329178.1</td>\n",
       "      <td>WP_218255455.1</td>\n",
       "    </tr>\n",
       "    <tr>\n",
       "      <th>17</th>\n",
       "      <td>5</td>\n",
       "      <td>5</td>\n",
       "      <td>0.0582</td>\n",
       "      <td>WP_227326296.1</td>\n",
       "      <td>WP_156264891.1</td>\n",
       "      <td>WP_114524198.1</td>\n",
       "      <td>WP_002320976.1</td>\n",
       "      <td>WP_218257077.1</td>\n",
       "    </tr>\n",
       "    <tr>\n",
       "      <th>22</th>\n",
       "      <td>5</td>\n",
       "      <td>13</td>\n",
       "      <td>0.1700</td>\n",
       "      <td>WP_005881015.1,WP_005880436.1,WP_005877911.1</td>\n",
       "      <td>WP_002286606.1,WP_002292778.1,WP_002316010.1</td>\n",
       "      <td>WP_010781765.1,WP_010781438.1</td>\n",
       "      <td>WP_002286606.1,WP_002292778.1,WP_142666951.1</td>\n",
       "      <td>WP_218257313.1,WP_010746588.1</td>\n",
       "    </tr>\n",
       "    <tr>\n",
       "      <th>25</th>\n",
       "      <td>5</td>\n",
       "      <td>8</td>\n",
       "      <td>0.1010</td>\n",
       "      <td>WP_081133641.1</td>\n",
       "      <td>WP_002291278.1,WP_002290686.1</td>\n",
       "      <td>WP_010779121.1</td>\n",
       "      <td>WP_002291278.1,WP_002290686.1</td>\n",
       "      <td>WP_010744311.1,WP_028020792.1</td>\n",
       "    </tr>\n",
       "    <tr>\n",
       "      <th>26</th>\n",
       "      <td>5</td>\n",
       "      <td>7</td>\n",
       "      <td>0.1260</td>\n",
       "      <td>WP_081134323.1</td>\n",
       "      <td>WP_002288637.1</td>\n",
       "      <td>WP_010779181.1,WP_010740269.1</td>\n",
       "      <td>WP_002329750.1</td>\n",
       "      <td>WP_070509248.1,WP_070509843.1</td>\n",
       "    </tr>\n",
       "    <tr>\n",
       "      <th>...</th>\n",
       "      <td>...</td>\n",
       "      <td>...</td>\n",
       "      <td>...</td>\n",
       "      <td>...</td>\n",
       "      <td>...</td>\n",
       "      <td>...</td>\n",
       "      <td>...</td>\n",
       "      <td>...</td>\n",
       "    </tr>\n",
       "    <tr>\n",
       "      <th>3466</th>\n",
       "      <td>5</td>\n",
       "      <td>5</td>\n",
       "      <td>0.4470</td>\n",
       "      <td>WP_005875395.1</td>\n",
       "      <td>WP_033582433.1</td>\n",
       "      <td>WP_010778920.1</td>\n",
       "      <td>WP_002320630.1</td>\n",
       "      <td>WP_010743859.1</td>\n",
       "    </tr>\n",
       "    <tr>\n",
       "      <th>3482</th>\n",
       "      <td>5</td>\n",
       "      <td>5</td>\n",
       "      <td>0.0295</td>\n",
       "      <td>WP_227260318.1</td>\n",
       "      <td>WP_002350584.1</td>\n",
       "      <td>WP_114523827.1</td>\n",
       "      <td>WP_002342424.1</td>\n",
       "      <td>WP_010745413.1</td>\n",
       "    </tr>\n",
       "    <tr>\n",
       "      <th>3489</th>\n",
       "      <td>5</td>\n",
       "      <td>8</td>\n",
       "      <td>0.2990</td>\n",
       "      <td>WP_053108946.1,WP_081133473.1</td>\n",
       "      <td>WP_002326685.1,WP_002289111.1</td>\n",
       "      <td>WP_010781643.1</td>\n",
       "      <td>WP_002329110.1,WP_002329139.1</td>\n",
       "      <td>WP_010746801.1</td>\n",
       "    </tr>\n",
       "    <tr>\n",
       "      <th>3493</th>\n",
       "      <td>5</td>\n",
       "      <td>5</td>\n",
       "      <td>0.2000</td>\n",
       "      <td>WP_002318498.1</td>\n",
       "      <td>WP_010729795.1</td>\n",
       "      <td>WP_162787403.1</td>\n",
       "      <td>WP_002362392.1</td>\n",
       "      <td>WP_218257689.1</td>\n",
       "    </tr>\n",
       "    <tr>\n",
       "      <th>3549</th>\n",
       "      <td>5</td>\n",
       "      <td>5</td>\n",
       "      <td>0.2550</td>\n",
       "      <td>WP_081134433.1</td>\n",
       "      <td>WP_002298548.1</td>\n",
       "      <td>WP_114525094.1</td>\n",
       "      <td>WP_002290130.1</td>\n",
       "      <td>WP_060789633.1</td>\n",
       "    </tr>\n",
       "  </tbody>\n",
       "</table>\n",
       "<p>1462 rows × 8 columns</p>\n",
       "</div>"
      ],
      "text/plain": [
       "      # Species  Genes  Alg.-Conn.  \\\n",
       "14            5      5      0.0505   \n",
       "17            5      5      0.0582   \n",
       "22            5     13      0.1700   \n",
       "25            5      8      0.1010   \n",
       "26            5      7      0.1260   \n",
       "...         ...    ...         ...   \n",
       "3466          5      5      0.4470   \n",
       "3482          5      5      0.0295   \n",
       "3489          5      8      0.2990   \n",
       "3493          5      5      0.2000   \n",
       "3549          5      5      0.2550   \n",
       "\n",
       "                                durans_protein.faa  \\\n",
       "14                                  WP_081133519.1   \n",
       "17                                  WP_227326296.1   \n",
       "22    WP_005881015.1,WP_005880436.1,WP_005877911.1   \n",
       "25                                  WP_081133641.1   \n",
       "26                                  WP_081134323.1   \n",
       "...                                            ...   \n",
       "3466                                WP_005875395.1   \n",
       "3482                                WP_227260318.1   \n",
       "3489                 WP_053108946.1,WP_081133473.1   \n",
       "3493                                WP_002318498.1   \n",
       "3549                                WP_081134433.1   \n",
       "\n",
       "                               faecium_protein.faa  \\\n",
       "14                                  WP_002289192.1   \n",
       "17                                  WP_156264891.1   \n",
       "22    WP_002286606.1,WP_002292778.1,WP_002316010.1   \n",
       "25                   WP_002291278.1,WP_002290686.1   \n",
       "26                                  WP_002288637.1   \n",
       "...                                            ...   \n",
       "3466                                WP_033582433.1   \n",
       "3482                                WP_002350584.1   \n",
       "3489                 WP_002326685.1,WP_002289111.1   \n",
       "3493                                WP_010729795.1   \n",
       "3549                                WP_002298548.1   \n",
       "\n",
       "                 gilvus_protein.faa  \\\n",
       "14                   WP_010780798.1   \n",
       "17                   WP_114524198.1   \n",
       "22    WP_010781765.1,WP_010781438.1   \n",
       "25                   WP_010779121.1   \n",
       "26    WP_010779181.1,WP_010740269.1   \n",
       "...                             ...   \n",
       "3466                 WP_010778920.1   \n",
       "3482                 WP_114523827.1   \n",
       "3489                 WP_010781643.1   \n",
       "3493                 WP_162787403.1   \n",
       "3549                 WP_114525094.1   \n",
       "\n",
       "                                lactis_protein.faa  \\\n",
       "14                                  WP_002329178.1   \n",
       "17                                  WP_002320976.1   \n",
       "22    WP_002286606.1,WP_002292778.1,WP_142666951.1   \n",
       "25                   WP_002291278.1,WP_002290686.1   \n",
       "26                                  WP_002329750.1   \n",
       "...                                            ...   \n",
       "3466                                WP_002320630.1   \n",
       "3482                                WP_002342424.1   \n",
       "3489                 WP_002329110.1,WP_002329139.1   \n",
       "3493                                WP_002362392.1   \n",
       "3549                                WP_002290130.1   \n",
       "\n",
       "             raffinosus_protein.faa  \n",
       "14                   WP_218255455.1  \n",
       "17                   WP_218257077.1  \n",
       "22    WP_218257313.1,WP_010746588.1  \n",
       "25    WP_010744311.1,WP_028020792.1  \n",
       "26    WP_070509248.1,WP_070509843.1  \n",
       "...                             ...  \n",
       "3466                 WP_010743859.1  \n",
       "3482                 WP_010745413.1  \n",
       "3489                 WP_010746801.1  \n",
       "3493                 WP_218257689.1  \n",
       "3549                 WP_060789633.1  \n",
       "\n",
       "[1462 rows x 8 columns]"
      ]
     },
     "execution_count": 105,
     "metadata": {},
     "output_type": "execute_result"
    }
   ],
   "source": [
    "ortho = pd.read_csv('bioinfo_project/ortho_reports/myproject.proteinortho.tsv', sep='\\t')\n",
    "ortho.loc[ortho['# Species'] == 5]"
   ]
  },
  {
   "cell_type": "code",
   "execution_count": 74,
   "id": "12399223",
   "metadata": {},
   "outputs": [
    {
     "data": {
      "text/plain": [
       "Index(['# Species', 'Genes', 'Alg.-Conn.', 'durans_protein.faa',\n",
       "       'faecium_protein.faa', 'gilvus_protein.faa', 'lactis_protein.faa',\n",
       "       'raffinosus_protein.faa'],\n",
       "      dtype='object')"
      ]
     },
     "execution_count": 74,
     "metadata": {},
     "output_type": "execute_result"
    }
   ],
   "source": [
    "ortho.columns"
   ]
  },
  {
   "cell_type": "markdown",
   "id": "34d64a87",
   "metadata": {},
   "source": [
    "### Сделаем дополнительные столбцы для каждого организма: есть ли в соответствующем гене кластера Z-ДНК."
   ]
  },
  {
   "cell_type": "code",
   "execution_count": 109,
   "id": "bd40c78b",
   "metadata": {},
   "outputs": [],
   "source": [
    "with open('bioinfo_project/durans/overlap.txt') as res:\n",
    "    durans = res.readline()\n",
    "durans = durans.split()\n",
    "#durans"
   ]
  },
  {
   "cell_type": "code",
   "execution_count": 110,
   "id": "fc098b4f",
   "metadata": {},
   "outputs": [],
   "source": [
    "ortho.loc[ortho['durans_protein.faa'].isin(durans), 'durans'] = 1"
   ]
  },
  {
   "cell_type": "code",
   "execution_count": 113,
   "id": "b35e91f1",
   "metadata": {},
   "outputs": [
    {
     "data": {
      "text/plain": [
       "80"
      ]
     },
     "execution_count": 113,
     "metadata": {},
     "output_type": "execute_result"
    }
   ],
   "source": [
    "len(ortho.loc[ortho['durans'] == 1])"
   ]
  },
  {
   "cell_type": "code",
   "execution_count": 119,
   "id": "76851a85",
   "metadata": {},
   "outputs": [
    {
     "data": {
      "text/plain": [
       "100"
      ]
     },
     "execution_count": 119,
     "metadata": {},
     "output_type": "execute_result"
    }
   ],
   "source": [
    "org = 'faecium'\n",
    "with open('bioinfo_project/'+org+'/overlap.txt') as res:\n",
    "    gn = res.readline()\n",
    "gn = gn.split()\n",
    "ortho.loc[ortho[org+'_protein.faa'].isin(gn), org] = 1\n",
    "len(ortho.loc[ortho[org] == 1])"
   ]
  },
  {
   "cell_type": "code",
   "execution_count": 124,
   "id": "d471cd24",
   "metadata": {},
   "outputs": [
    {
     "data": {
      "text/plain": [
       "271"
      ]
     },
     "execution_count": 124,
     "metadata": {},
     "output_type": "execute_result"
    }
   ],
   "source": [
    "org = 'gilvus'\n",
    "with open('bioinfo_project/'+org+'/overlap.txt') as res:\n",
    "    gn = res.readline()\n",
    "gn = gn.split()\n",
    "ortho.loc[ortho[org+'_protein.faa'].isin(gn), org] = 1\n",
    "len(ortho.loc[ortho[org] == 1])"
   ]
  },
  {
   "cell_type": "code",
   "execution_count": 125,
   "id": "9e4cb9f8",
   "metadata": {},
   "outputs": [
    {
     "data": {
      "text/plain": [
       "115"
      ]
     },
     "execution_count": 125,
     "metadata": {},
     "output_type": "execute_result"
    }
   ],
   "source": [
    "org = 'lactis'\n",
    "with open('bioinfo_project/'+org+'/overlap.txt') as res:\n",
    "    gn = res.readline()\n",
    "gn = gn.split()\n",
    "ortho.loc[ortho[org+'_protein.faa'].isin(gn), org] = 1\n",
    "len(ortho.loc[ortho[org] == 1])"
   ]
  },
  {
   "cell_type": "code",
   "execution_count": 126,
   "id": "eeec1cae",
   "metadata": {},
   "outputs": [
    {
     "data": {
      "text/plain": [
       "175"
      ]
     },
     "execution_count": 126,
     "metadata": {},
     "output_type": "execute_result"
    }
   ],
   "source": [
    "org = 'raffinosus'\n",
    "with open('bioinfo_project/'+org+'/overlap.txt') as res:\n",
    "    gn = res.readline()\n",
    "gn = gn.split()\n",
    "ortho.loc[ortho[org+'_protein.faa'].isin(gn), org] = 1\n",
    "len(ortho.loc[ortho[org] == 1])"
   ]
  },
  {
   "cell_type": "code",
   "execution_count": 139,
   "id": "05696999",
   "metadata": {},
   "outputs": [],
   "source": [
    "ortho['sum'] = ortho['durans'] + ortho['faecium'] + ortho['gilvus'] + ortho['lactis'] + ortho['raffinosus']"
   ]
  },
  {
   "cell_type": "code",
   "execution_count": 140,
   "id": "d5bebc24",
   "metadata": {
    "scrolled": true
   },
   "outputs": [
    {
     "data": {
      "text/plain": [
       "5.0"
      ]
     },
     "execution_count": 140,
     "metadata": {},
     "output_type": "execute_result"
    }
   ],
   "source": [
    "ortho['sum'].max()"
   ]
  },
  {
   "cell_type": "markdown",
   "id": "55319cb5",
   "metadata": {},
   "source": [
    "### Найдем кластеры, у которых во всех генах есть Z-ДНК:"
   ]
  },
  {
   "cell_type": "code",
   "execution_count": 144,
   "id": "f3278e12",
   "metadata": {},
   "outputs": [
    {
     "data": {
      "text/plain": [
       "9"
      ]
     },
     "execution_count": 144,
     "metadata": {},
     "output_type": "execute_result"
    }
   ],
   "source": [
    "len(ortho.loc[ortho['sum'] == 5])"
   ]
  },
  {
   "cell_type": "code",
   "execution_count": 175,
   "id": "53e06ec4",
   "metadata": {},
   "outputs": [
    {
     "data": {
      "text/html": [
       "<div>\n",
       "<style scoped>\n",
       "    .dataframe tbody tr th:only-of-type {\n",
       "        vertical-align: middle;\n",
       "    }\n",
       "\n",
       "    .dataframe tbody tr th {\n",
       "        vertical-align: top;\n",
       "    }\n",
       "\n",
       "    .dataframe thead th {\n",
       "        text-align: right;\n",
       "    }\n",
       "</style>\n",
       "<table border=\"1\" class=\"dataframe\">\n",
       "  <thead>\n",
       "    <tr style=\"text-align: right;\">\n",
       "      <th></th>\n",
       "      <th># Species</th>\n",
       "      <th>Genes</th>\n",
       "      <th>Alg.-Conn.</th>\n",
       "      <th>durans_protein.faa</th>\n",
       "      <th>faecium_protein.faa</th>\n",
       "      <th>gilvus_protein.faa</th>\n",
       "      <th>lactis_protein.faa</th>\n",
       "      <th>raffinosus_protein.faa</th>\n",
       "      <th>durans</th>\n",
       "      <th>faecium</th>\n",
       "      <th>gilvus</th>\n",
       "      <th>lactis</th>\n",
       "      <th>raffinosus</th>\n",
       "      <th>sum</th>\n",
       "    </tr>\n",
       "  </thead>\n",
       "  <tbody>\n",
       "    <tr>\n",
       "      <th>1907</th>\n",
       "      <td>5</td>\n",
       "      <td>5</td>\n",
       "      <td>0.837</td>\n",
       "      <td>WP_016177253.1</td>\n",
       "      <td>WP_002293357.1</td>\n",
       "      <td>WP_010747120.1</td>\n",
       "      <td>WP_002293357.1</td>\n",
       "      <td>WP_010747120.1</td>\n",
       "      <td>1.0</td>\n",
       "      <td>1.0</td>\n",
       "      <td>1.0</td>\n",
       "      <td>1.0</td>\n",
       "      <td>1.0</td>\n",
       "      <td>5.0</td>\n",
       "    </tr>\n",
       "    <tr>\n",
       "      <th>1908</th>\n",
       "      <td>5</td>\n",
       "      <td>5</td>\n",
       "      <td>0.938</td>\n",
       "      <td>WP_081133796.1</td>\n",
       "      <td>WP_002300050.1</td>\n",
       "      <td>WP_114525318.1</td>\n",
       "      <td>WP_002293367.1</td>\n",
       "      <td>WP_218256507.1</td>\n",
       "      <td>1.0</td>\n",
       "      <td>1.0</td>\n",
       "      <td>1.0</td>\n",
       "      <td>1.0</td>\n",
       "      <td>1.0</td>\n",
       "      <td>5.0</td>\n",
       "    </tr>\n",
       "    <tr>\n",
       "      <th>1955</th>\n",
       "      <td>5</td>\n",
       "      <td>5</td>\n",
       "      <td>0.851</td>\n",
       "      <td>WP_005878994.1</td>\n",
       "      <td>WP_002294580.1</td>\n",
       "      <td>WP_044926432.1</td>\n",
       "      <td>WP_002294580.1</td>\n",
       "      <td>WP_028020861.1</td>\n",
       "      <td>1.0</td>\n",
       "      <td>1.0</td>\n",
       "      <td>1.0</td>\n",
       "      <td>1.0</td>\n",
       "      <td>1.0</td>\n",
       "      <td>5.0</td>\n",
       "    </tr>\n",
       "    <tr>\n",
       "      <th>1968</th>\n",
       "      <td>5</td>\n",
       "      <td>5</td>\n",
       "      <td>0.833</td>\n",
       "      <td>WP_005881199.1</td>\n",
       "      <td>WP_002295975.1</td>\n",
       "      <td>WP_010779391.1</td>\n",
       "      <td>WP_002295975.1</td>\n",
       "      <td>WP_010744354.1</td>\n",
       "      <td>1.0</td>\n",
       "      <td>1.0</td>\n",
       "      <td>1.0</td>\n",
       "      <td>1.0</td>\n",
       "      <td>1.0</td>\n",
       "      <td>5.0</td>\n",
       "    </tr>\n",
       "    <tr>\n",
       "      <th>1969</th>\n",
       "      <td>5</td>\n",
       "      <td>5</td>\n",
       "      <td>0.828</td>\n",
       "      <td>WP_002296119.1</td>\n",
       "      <td>WP_002296119.1</td>\n",
       "      <td>WP_010740369.1</td>\n",
       "      <td>WP_002296119.1</td>\n",
       "      <td>WP_010740369.1</td>\n",
       "      <td>1.0</td>\n",
       "      <td>1.0</td>\n",
       "      <td>1.0</td>\n",
       "      <td>1.0</td>\n",
       "      <td>1.0</td>\n",
       "      <td>5.0</td>\n",
       "    </tr>\n",
       "    <tr>\n",
       "      <th>1970</th>\n",
       "      <td>5</td>\n",
       "      <td>5</td>\n",
       "      <td>0.844</td>\n",
       "      <td>WP_005877288.1</td>\n",
       "      <td>WP_002296384.1</td>\n",
       "      <td>WP_010781381.1</td>\n",
       "      <td>WP_002296384.1</td>\n",
       "      <td>WP_010739854.1</td>\n",
       "      <td>1.0</td>\n",
       "      <td>1.0</td>\n",
       "      <td>1.0</td>\n",
       "      <td>1.0</td>\n",
       "      <td>1.0</td>\n",
       "      <td>5.0</td>\n",
       "    </tr>\n",
       "    <tr>\n",
       "      <th>2046</th>\n",
       "      <td>5</td>\n",
       "      <td>5</td>\n",
       "      <td>0.777</td>\n",
       "      <td>WP_016177384.1</td>\n",
       "      <td>WP_002292825.1</td>\n",
       "      <td>WP_086304379.1</td>\n",
       "      <td>WP_002292825.1</td>\n",
       "      <td>WP_010744516.1</td>\n",
       "      <td>1.0</td>\n",
       "      <td>1.0</td>\n",
       "      <td>1.0</td>\n",
       "      <td>1.0</td>\n",
       "      <td>1.0</td>\n",
       "      <td>5.0</td>\n",
       "    </tr>\n",
       "    <tr>\n",
       "      <th>2050</th>\n",
       "      <td>5</td>\n",
       "      <td>5</td>\n",
       "      <td>0.865</td>\n",
       "      <td>WP_005876899.1</td>\n",
       "      <td>WP_002287447.1</td>\n",
       "      <td>WP_114525261.1</td>\n",
       "      <td>WP_002293095.1</td>\n",
       "      <td>WP_218256352.1</td>\n",
       "      <td>1.0</td>\n",
       "      <td>1.0</td>\n",
       "      <td>1.0</td>\n",
       "      <td>1.0</td>\n",
       "      <td>1.0</td>\n",
       "      <td>5.0</td>\n",
       "    </tr>\n",
       "    <tr>\n",
       "      <th>2250</th>\n",
       "      <td>5</td>\n",
       "      <td>5</td>\n",
       "      <td>0.847</td>\n",
       "      <td>WP_005880747.1</td>\n",
       "      <td>WP_002288679.1</td>\n",
       "      <td>WP_010782050.1</td>\n",
       "      <td>WP_002288679.1</td>\n",
       "      <td>WP_010747204.1</td>\n",
       "      <td>1.0</td>\n",
       "      <td>1.0</td>\n",
       "      <td>1.0</td>\n",
       "      <td>1.0</td>\n",
       "      <td>1.0</td>\n",
       "      <td>5.0</td>\n",
       "    </tr>\n",
       "  </tbody>\n",
       "</table>\n",
       "</div>"
      ],
      "text/plain": [
       "      # Species  Genes  Alg.-Conn. durans_protein.faa faecium_protein.faa  \\\n",
       "1907          5      5       0.837     WP_016177253.1      WP_002293357.1   \n",
       "1908          5      5       0.938     WP_081133796.1      WP_002300050.1   \n",
       "1955          5      5       0.851     WP_005878994.1      WP_002294580.1   \n",
       "1968          5      5       0.833     WP_005881199.1      WP_002295975.1   \n",
       "1969          5      5       0.828     WP_002296119.1      WP_002296119.1   \n",
       "1970          5      5       0.844     WP_005877288.1      WP_002296384.1   \n",
       "2046          5      5       0.777     WP_016177384.1      WP_002292825.1   \n",
       "2050          5      5       0.865     WP_005876899.1      WP_002287447.1   \n",
       "2250          5      5       0.847     WP_005880747.1      WP_002288679.1   \n",
       "\n",
       "     gilvus_protein.faa lactis_protein.faa raffinosus_protein.faa  durans  \\\n",
       "1907     WP_010747120.1     WP_002293357.1         WP_010747120.1     1.0   \n",
       "1908     WP_114525318.1     WP_002293367.1         WP_218256507.1     1.0   \n",
       "1955     WP_044926432.1     WP_002294580.1         WP_028020861.1     1.0   \n",
       "1968     WP_010779391.1     WP_002295975.1         WP_010744354.1     1.0   \n",
       "1969     WP_010740369.1     WP_002296119.1         WP_010740369.1     1.0   \n",
       "1970     WP_010781381.1     WP_002296384.1         WP_010739854.1     1.0   \n",
       "2046     WP_086304379.1     WP_002292825.1         WP_010744516.1     1.0   \n",
       "2050     WP_114525261.1     WP_002293095.1         WP_218256352.1     1.0   \n",
       "2250     WP_010782050.1     WP_002288679.1         WP_010747204.1     1.0   \n",
       "\n",
       "      faecium  gilvus  lactis  raffinosus  sum  \n",
       "1907      1.0     1.0     1.0         1.0  5.0  \n",
       "1908      1.0     1.0     1.0         1.0  5.0  \n",
       "1955      1.0     1.0     1.0         1.0  5.0  \n",
       "1968      1.0     1.0     1.0         1.0  5.0  \n",
       "1969      1.0     1.0     1.0         1.0  5.0  \n",
       "1970      1.0     1.0     1.0         1.0  5.0  \n",
       "2046      1.0     1.0     1.0         1.0  5.0  \n",
       "2050      1.0     1.0     1.0         1.0  5.0  \n",
       "2250      1.0     1.0     1.0         1.0  5.0  "
      ]
     },
     "execution_count": 175,
     "metadata": {},
     "output_type": "execute_result"
    }
   ],
   "source": [
    "clust = ortho.loc[ortho['sum'] == 5]\n",
    "clust"
   ]
  },
  {
   "cell_type": "code",
   "execution_count": 177,
   "id": "8c9c9380",
   "metadata": {},
   "outputs": [],
   "source": [
    "clust.to_csv('bioinfo_project/clusters/table.csv')"
   ]
  },
  {
   "cell_type": "markdown",
   "id": "7b63665b",
   "metadata": {},
   "source": [
    "### Функции генов возьмеем из файла с белками кластера:"
   ]
  },
  {
   "cell_type": "code",
   "execution_count": 574,
   "id": "f45bef1b",
   "metadata": {},
   "outputs": [
    {
     "name": "stdout",
     "output_type": "stream",
     "text": [
      ">WP_005880747.1 MULTISPECIES: 50S ribosomal protein L18 [Enterococcus]\r\n",
      "MITKPDKNKTRQKRHRRVRNNISGTAERPRLNVFRSNKNIYAQIIDDVAGVTLASASTLD\r\n",
      "KEISGGTKTEAAQAVGKLVAERATEKGIKVVVFDRGGYLYHGRVQALAEAARENGLEF\r\n",
      ">WP_002288679.1 MULTISPECIES: 50S ribosomal protein L18 [Enterococcus]\r\n",
      "MITKPDKNKTRQKRHRRVRNNISGTAERPRLNVFRSNKNIYAQIIDDVAGVTLASASTLD\r\n",
      "KEISGGTKTEAAQAVGKLVAERAAEKGIKVVVFDRGGYLYHGRVQALAEAARENGLEF\r\n",
      ">WP_002288679.1 MULTISPECIES: 50S ribosomal protein L18 [Enterococcus]\r\n",
      "MITKPDKNKTRQKRHRRVRNNISGTAERPRLNVFRSNKNIYAQIIDDVAGVTLASASTLD\r\n",
      "KEISGGTKTEAAQAVGKLVAERAAEKGIKVVVFDRGGYLYHGRVQALAEAARENGLEF\r\n",
      ">WP_010747204.1 MULTISPECIES: 50S ribosomal protein L18 [Enterococcus]\r\n",
      "MITKPDKNKTRQKRHMRVRNKISGTAECPRLNVFRSNKNIYAQVIDDVAGVTLASASALD\r\n",
      "KEISGGTKTEQAQAVGKLVAERASEKGIKKVVFDRGGYLYHGRVAALAEAARENGLEF\r\n",
      ">WP_010782050.1 MULTISPECIES: 50S ribosomal protein L18 [Enterococcus]\r\n",
      "MITKPDKNKTRQKRHMRVRGKISGTAECPRLNVFRSNKNIYAQIIDDVAGVTLASASALD\r\n",
      "KEISGGNKTEQAQAVGKLVAERASEKGIKKVVFDRGGYLYHGRVAALAEAARENGLEF\r\n"
     ]
    }
   ],
   "source": [
    "!cat bioinfo_project/clusters/gr2250.*"
   ]
  },
  {
   "cell_type": "markdown",
   "id": "50d25165",
   "metadata": {},
   "source": [
    "### Построим множественное выравнивание генов в каждом кластере:"
   ]
  },
  {
   "cell_type": "code",
   "execution_count": 167,
   "id": "e13cbc9e",
   "metadata": {},
   "outputs": [],
   "source": [
    "!muscle -in bioinfo_project/orthologs/myproject.proteinortho.tsv.OrthoGroup1907.fasta \\\n",
    "-out bioinfo_project/clusters/gr1907.fasta -quiet\n",
    "\n",
    "!muscle -in bioinfo_project/orthologs/myproject.proteinortho.tsv.OrthoGroup1908.fasta \\\n",
    "-out bioinfo_project/clusters/gr1908.fasta -quiet\n",
    "\n",
    "!muscle -in bioinfo_project/orthologs/myproject.proteinortho.tsv.OrthoGroup1955.fasta \\\n",
    "-out bioinfo_project/clusters/gr1955.fasta -quiet\n",
    "\n",
    "!muscle -in bioinfo_project/orthologs/myproject.proteinortho.tsv.OrthoGroup1968.fasta \\\n",
    "-out bioinfo_project/clusters/gr1968.fasta -quiet\n",
    "\n",
    "!muscle -in bioinfo_project/orthologs/myproject.proteinortho.tsv.OrthoGroup1969.fasta \\\n",
    "-out bioinfo_project/clusters/gr1969.fasta -quiet\n",
    "\n",
    "!muscle -in bioinfo_project/orthologs/myproject.proteinortho.tsv.OrthoGroup1970.fasta \\\n",
    "-out bioinfo_project/clusters/gr1970.fasta -quiet\n",
    "\n",
    "!muscle -in bioinfo_project/orthologs/myproject.proteinortho.tsv.OrthoGroup2046.fasta \\\n",
    "-out bioinfo_project/clusters/gr2046.fasta -quiet\n",
    "\n",
    "!muscle -in bioinfo_project/orthologs/myproject.proteinortho.tsv.OrthoGroup2050.fasta \\\n",
    "-out bioinfo_project/clusters/gr2050.fasta -quiet\n",
    "\n",
    "!muscle -in bioinfo_project/orthologs/myproject.proteinortho.tsv.OrthoGroup2250.fasta \\\n",
    "-out bioinfo_project/clusters/gr2250.fasta -quiet"
   ]
  },
  {
   "cell_type": "code",
   "execution_count": null,
   "id": "5bd68b86",
   "metadata": {},
   "outputs": [],
   "source": []
  },
  {
   "cell_type": "code",
   "execution_count": 46,
   "id": "2020a1ee",
   "metadata": {
    "collapsed": true
   },
   "outputs": [
    {
     "name": "stdout",
     "output_type": "stream",
     "text": [
      "Collecting dna_features_viewer\n",
      "  Downloading dna_features_viewer-3.1.1-py3-none-any.whl (30 kB)\n",
      "Requirement already satisfied: matplotlib>=3 in ./anaconda3/lib/python3.9/site-packages (from dna_features_viewer) (3.4.3)\n",
      "Requirement already satisfied: Biopython in ./anaconda3/lib/python3.9/site-packages (from dna_features_viewer) (1.79)\n",
      "Requirement already satisfied: packaging in ./anaconda3/lib/python3.9/site-packages (from dna_features_viewer) (21.0)\n",
      "Requirement already satisfied: cycler>=0.10 in ./anaconda3/lib/python3.9/site-packages (from matplotlib>=3->dna_features_viewer) (0.10.0)\n",
      "Requirement already satisfied: pyparsing>=2.2.1 in ./anaconda3/lib/python3.9/site-packages (from matplotlib>=3->dna_features_viewer) (3.0.4)\n",
      "Requirement already satisfied: python-dateutil>=2.7 in ./anaconda3/lib/python3.9/site-packages (from matplotlib>=3->dna_features_viewer) (2.8.2)\n",
      "Requirement already satisfied: kiwisolver>=1.0.1 in ./anaconda3/lib/python3.9/site-packages (from matplotlib>=3->dna_features_viewer) (1.3.1)\n",
      "Requirement already satisfied: numpy>=1.16 in ./anaconda3/lib/python3.9/site-packages (from matplotlib>=3->dna_features_viewer) (1.20.3)\n",
      "Requirement already satisfied: pillow>=6.2.0 in ./anaconda3/lib/python3.9/site-packages (from matplotlib>=3->dna_features_viewer) (8.4.0)\n",
      "Requirement already satisfied: six in ./anaconda3/lib/python3.9/site-packages (from cycler>=0.10->matplotlib>=3->dna_features_viewer) (1.16.0)\n",
      "Installing collected packages: dna-features-viewer\n",
      "Successfully installed dna-features-viewer-3.1.1\n"
     ]
    }
   ],
   "source": [
    "!pip install dna_features_viewer"
   ]
  },
  {
   "cell_type": "code",
   "execution_count": 2,
   "id": "515b6896",
   "metadata": {},
   "outputs": [],
   "source": [
    "from dna_features_viewer import GraphicFeature, GraphicRecord"
   ]
  },
  {
   "cell_type": "code",
   "execution_count": 172,
   "id": "788c8194",
   "metadata": {},
   "outputs": [
    {
     "name": "stdout",
     "output_type": "stream",
     "text": [
      "gr1907.fasta  gr1955.fasta  gr1969.fasta  gr2046.fasta\tgr2250.fasta\r\n",
      "gr1908.fasta  gr1968.fasta  gr1970.fasta  gr2050.fasta\r\n"
     ]
    }
   ],
   "source": [
    "!ls bioinfo_project/clusters"
   ]
  },
  {
   "cell_type": "code",
   "execution_count": 5,
   "id": "828ab59b",
   "metadata": {},
   "outputs": [
    {
     "data": {
      "text/html": [
       "<div>\n",
       "<style scoped>\n",
       "    .dataframe tbody tr th:only-of-type {\n",
       "        vertical-align: middle;\n",
       "    }\n",
       "\n",
       "    .dataframe tbody tr th {\n",
       "        vertical-align: top;\n",
       "    }\n",
       "\n",
       "    .dataframe thead th {\n",
       "        text-align: right;\n",
       "    }\n",
       "</style>\n",
       "<table border=\"1\" class=\"dataframe\">\n",
       "  <thead>\n",
       "    <tr style=\"text-align: right;\">\n",
       "      <th></th>\n",
       "      <th>Unnamed: 0</th>\n",
       "      <th># Species</th>\n",
       "      <th>Genes</th>\n",
       "      <th>Alg.-Conn.</th>\n",
       "      <th>durans_protein.faa</th>\n",
       "      <th>faecium_protein.faa</th>\n",
       "      <th>gilvus_protein.faa</th>\n",
       "      <th>lactis_protein.faa</th>\n",
       "      <th>raffinosus_protein.faa</th>\n",
       "      <th>durans</th>\n",
       "      <th>faecium</th>\n",
       "      <th>gilvus</th>\n",
       "      <th>lactis</th>\n",
       "      <th>raffinosus</th>\n",
       "      <th>sum</th>\n",
       "    </tr>\n",
       "  </thead>\n",
       "  <tbody>\n",
       "    <tr>\n",
       "      <th>0</th>\n",
       "      <td>1907</td>\n",
       "      <td>5</td>\n",
       "      <td>5</td>\n",
       "      <td>0.837</td>\n",
       "      <td>WP_016177253.1</td>\n",
       "      <td>WP_002293357.1</td>\n",
       "      <td>WP_010747120.1</td>\n",
       "      <td>WP_002293357.1</td>\n",
       "      <td>WP_010747120.1</td>\n",
       "      <td>1.0</td>\n",
       "      <td>1.0</td>\n",
       "      <td>1.0</td>\n",
       "      <td>1.0</td>\n",
       "      <td>1.0</td>\n",
       "      <td>5.0</td>\n",
       "    </tr>\n",
       "    <tr>\n",
       "      <th>1</th>\n",
       "      <td>1908</td>\n",
       "      <td>5</td>\n",
       "      <td>5</td>\n",
       "      <td>0.938</td>\n",
       "      <td>WP_081133796.1</td>\n",
       "      <td>WP_002300050.1</td>\n",
       "      <td>WP_114525318.1</td>\n",
       "      <td>WP_002293367.1</td>\n",
       "      <td>WP_218256507.1</td>\n",
       "      <td>1.0</td>\n",
       "      <td>1.0</td>\n",
       "      <td>1.0</td>\n",
       "      <td>1.0</td>\n",
       "      <td>1.0</td>\n",
       "      <td>5.0</td>\n",
       "    </tr>\n",
       "    <tr>\n",
       "      <th>2</th>\n",
       "      <td>1955</td>\n",
       "      <td>5</td>\n",
       "      <td>5</td>\n",
       "      <td>0.851</td>\n",
       "      <td>WP_005878994.1</td>\n",
       "      <td>WP_002294580.1</td>\n",
       "      <td>WP_044926432.1</td>\n",
       "      <td>WP_002294580.1</td>\n",
       "      <td>WP_028020861.1</td>\n",
       "      <td>1.0</td>\n",
       "      <td>1.0</td>\n",
       "      <td>1.0</td>\n",
       "      <td>1.0</td>\n",
       "      <td>1.0</td>\n",
       "      <td>5.0</td>\n",
       "    </tr>\n",
       "    <tr>\n",
       "      <th>3</th>\n",
       "      <td>1968</td>\n",
       "      <td>5</td>\n",
       "      <td>5</td>\n",
       "      <td>0.833</td>\n",
       "      <td>WP_005881199.1</td>\n",
       "      <td>WP_002295975.1</td>\n",
       "      <td>WP_010779391.1</td>\n",
       "      <td>WP_002295975.1</td>\n",
       "      <td>WP_010744354.1</td>\n",
       "      <td>1.0</td>\n",
       "      <td>1.0</td>\n",
       "      <td>1.0</td>\n",
       "      <td>1.0</td>\n",
       "      <td>1.0</td>\n",
       "      <td>5.0</td>\n",
       "    </tr>\n",
       "    <tr>\n",
       "      <th>4</th>\n",
       "      <td>1969</td>\n",
       "      <td>5</td>\n",
       "      <td>5</td>\n",
       "      <td>0.828</td>\n",
       "      <td>WP_002296119.1</td>\n",
       "      <td>WP_002296119.1</td>\n",
       "      <td>WP_010740369.1</td>\n",
       "      <td>WP_002296119.1</td>\n",
       "      <td>WP_010740369.1</td>\n",
       "      <td>1.0</td>\n",
       "      <td>1.0</td>\n",
       "      <td>1.0</td>\n",
       "      <td>1.0</td>\n",
       "      <td>1.0</td>\n",
       "      <td>5.0</td>\n",
       "    </tr>\n",
       "    <tr>\n",
       "      <th>5</th>\n",
       "      <td>1970</td>\n",
       "      <td>5</td>\n",
       "      <td>5</td>\n",
       "      <td>0.844</td>\n",
       "      <td>WP_005877288.1</td>\n",
       "      <td>WP_002296384.1</td>\n",
       "      <td>WP_010781381.1</td>\n",
       "      <td>WP_002296384.1</td>\n",
       "      <td>WP_010739854.1</td>\n",
       "      <td>1.0</td>\n",
       "      <td>1.0</td>\n",
       "      <td>1.0</td>\n",
       "      <td>1.0</td>\n",
       "      <td>1.0</td>\n",
       "      <td>5.0</td>\n",
       "    </tr>\n",
       "    <tr>\n",
       "      <th>6</th>\n",
       "      <td>2046</td>\n",
       "      <td>5</td>\n",
       "      <td>5</td>\n",
       "      <td>0.777</td>\n",
       "      <td>WP_016177384.1</td>\n",
       "      <td>WP_002292825.1</td>\n",
       "      <td>WP_086304379.1</td>\n",
       "      <td>WP_002292825.1</td>\n",
       "      <td>WP_010744516.1</td>\n",
       "      <td>1.0</td>\n",
       "      <td>1.0</td>\n",
       "      <td>1.0</td>\n",
       "      <td>1.0</td>\n",
       "      <td>1.0</td>\n",
       "      <td>5.0</td>\n",
       "    </tr>\n",
       "    <tr>\n",
       "      <th>7</th>\n",
       "      <td>2050</td>\n",
       "      <td>5</td>\n",
       "      <td>5</td>\n",
       "      <td>0.865</td>\n",
       "      <td>WP_005876899.1</td>\n",
       "      <td>WP_002287447.1</td>\n",
       "      <td>WP_114525261.1</td>\n",
       "      <td>WP_002293095.1</td>\n",
       "      <td>WP_218256352.1</td>\n",
       "      <td>1.0</td>\n",
       "      <td>1.0</td>\n",
       "      <td>1.0</td>\n",
       "      <td>1.0</td>\n",
       "      <td>1.0</td>\n",
       "      <td>5.0</td>\n",
       "    </tr>\n",
       "    <tr>\n",
       "      <th>8</th>\n",
       "      <td>2250</td>\n",
       "      <td>5</td>\n",
       "      <td>5</td>\n",
       "      <td>0.847</td>\n",
       "      <td>WP_005880747.1</td>\n",
       "      <td>WP_002288679.1</td>\n",
       "      <td>WP_010782050.1</td>\n",
       "      <td>WP_002288679.1</td>\n",
       "      <td>WP_010747204.1</td>\n",
       "      <td>1.0</td>\n",
       "      <td>1.0</td>\n",
       "      <td>1.0</td>\n",
       "      <td>1.0</td>\n",
       "      <td>1.0</td>\n",
       "      <td>5.0</td>\n",
       "    </tr>\n",
       "  </tbody>\n",
       "</table>\n",
       "</div>"
      ],
      "text/plain": [
       "   Unnamed: 0  # Species  Genes  Alg.-Conn. durans_protein.faa  \\\n",
       "0        1907          5      5       0.837     WP_016177253.1   \n",
       "1        1908          5      5       0.938     WP_081133796.1   \n",
       "2        1955          5      5       0.851     WP_005878994.1   \n",
       "3        1968          5      5       0.833     WP_005881199.1   \n",
       "4        1969          5      5       0.828     WP_002296119.1   \n",
       "5        1970          5      5       0.844     WP_005877288.1   \n",
       "6        2046          5      5       0.777     WP_016177384.1   \n",
       "7        2050          5      5       0.865     WP_005876899.1   \n",
       "8        2250          5      5       0.847     WP_005880747.1   \n",
       "\n",
       "  faecium_protein.faa gilvus_protein.faa lactis_protein.faa  \\\n",
       "0      WP_002293357.1     WP_010747120.1     WP_002293357.1   \n",
       "1      WP_002300050.1     WP_114525318.1     WP_002293367.1   \n",
       "2      WP_002294580.1     WP_044926432.1     WP_002294580.1   \n",
       "3      WP_002295975.1     WP_010779391.1     WP_002295975.1   \n",
       "4      WP_002296119.1     WP_010740369.1     WP_002296119.1   \n",
       "5      WP_002296384.1     WP_010781381.1     WP_002296384.1   \n",
       "6      WP_002292825.1     WP_086304379.1     WP_002292825.1   \n",
       "7      WP_002287447.1     WP_114525261.1     WP_002293095.1   \n",
       "8      WP_002288679.1     WP_010782050.1     WP_002288679.1   \n",
       "\n",
       "  raffinosus_protein.faa  durans  faecium  gilvus  lactis  raffinosus  sum  \n",
       "0         WP_010747120.1     1.0      1.0     1.0     1.0         1.0  5.0  \n",
       "1         WP_218256507.1     1.0      1.0     1.0     1.0         1.0  5.0  \n",
       "2         WP_028020861.1     1.0      1.0     1.0     1.0         1.0  5.0  \n",
       "3         WP_010744354.1     1.0      1.0     1.0     1.0         1.0  5.0  \n",
       "4         WP_010740369.1     1.0      1.0     1.0     1.0         1.0  5.0  \n",
       "5         WP_010739854.1     1.0      1.0     1.0     1.0         1.0  5.0  \n",
       "6         WP_010744516.1     1.0      1.0     1.0     1.0         1.0  5.0  \n",
       "7         WP_218256352.1     1.0      1.0     1.0     1.0         1.0  5.0  \n",
       "8         WP_010747204.1     1.0      1.0     1.0     1.0         1.0  5.0  "
      ]
     },
     "execution_count": 5,
     "metadata": {},
     "output_type": "execute_result"
    }
   ],
   "source": [
    "clust = pd.read_csv('bioinfo_project/clusters/table.csv')\n",
    "clust"
   ]
  },
  {
   "cell_type": "markdown",
   "id": "f42dd1dc",
   "metadata": {},
   "source": [
    "### Списки генов в каждом кластере (для каждого организма):"
   ]
  },
  {
   "cell_type": "code",
   "execution_count": 6,
   "id": "ecdf43cd",
   "metadata": {},
   "outputs": [],
   "source": [
    "dur = pd.array(clust['durans_protein.faa'])\n",
    "fae = pd.array(clust['faecium_protein.faa'])\n",
    "gilv = pd.array(clust['gilvus_protein.faa'])\n",
    "lact = pd.array(clust['lactis_protein.faa'])\n",
    "raf = pd.array(clust['raffinosus_protein.faa'])"
   ]
  },
  {
   "cell_type": "code",
   "execution_count": 197,
   "id": "407b697f",
   "metadata": {},
   "outputs": [
    {
     "data": {
      "text/plain": [
       "<PandasArray>\n",
       "['WP_016177253.1', 'WP_081133796.1', 'WP_005878994.1', 'WP_005881199.1',\n",
       " 'WP_002296119.1', 'WP_005877288.1', 'WP_016177384.1', 'WP_005876899.1',\n",
       " 'WP_005880747.1']\n",
       "Length: 9, dtype: object"
      ]
     },
     "execution_count": 197,
     "metadata": {},
     "output_type": "execute_result"
    }
   ],
   "source": [
    "dur"
   ]
  },
  {
   "cell_type": "markdown",
   "id": "df640a30",
   "metadata": {},
   "source": [
    "### Найдем координаты Z-ДНК в генах, входящих в каждый кластер \n",
    "\n",
    "(для некоторых генов пересечение гена и предсказанных сайтов Z-ДНК будет пустым, так как в этих генах Z-ДНК находится в промотерном регионе за пределами самого гена):"
   ]
  },
  {
   "cell_type": "code",
   "execution_count": 256,
   "id": "ff97f584",
   "metadata": {
    "scrolled": false
   },
   "outputs": [
    {
     "data": {
      "text/html": [
       "<div>\n",
       "<style scoped>\n",
       "    .dataframe tbody tr th:only-of-type {\n",
       "        vertical-align: middle;\n",
       "    }\n",
       "\n",
       "    .dataframe tbody tr th {\n",
       "        vertical-align: top;\n",
       "    }\n",
       "\n",
       "    .dataframe thead th {\n",
       "        text-align: right;\n",
       "    }\n",
       "</style>\n",
       "<table border=\"1\" class=\"dataframe\">\n",
       "  <thead>\n",
       "    <tr style=\"text-align: right;\">\n",
       "      <th></th>\n",
       "      <th>chr</th>\n",
       "      <th>start</th>\n",
       "      <th>end</th>\n",
       "      <th>strand</th>\n",
       "      <th>product_accession</th>\n",
       "    </tr>\n",
       "  </thead>\n",
       "  <tbody>\n",
       "    <tr>\n",
       "      <th>513</th>\n",
       "      <td>durans</td>\n",
       "      <td>272883</td>\n",
       "      <td>273488</td>\n",
       "      <td>-</td>\n",
       "      <td>WP_016177384.1</td>\n",
       "    </tr>\n",
       "    <tr>\n",
       "      <th>1147</th>\n",
       "      <td>durans</td>\n",
       "      <td>611548</td>\n",
       "      <td>612093</td>\n",
       "      <td>-</td>\n",
       "      <td>WP_005878994.1</td>\n",
       "    </tr>\n",
       "    <tr>\n",
       "      <th>1703</th>\n",
       "      <td>durans</td>\n",
       "      <td>906425</td>\n",
       "      <td>907885</td>\n",
       "      <td>-</td>\n",
       "      <td>WP_005876899.1</td>\n",
       "    </tr>\n",
       "    <tr>\n",
       "      <th>1765</th>\n",
       "      <td>durans</td>\n",
       "      <td>940980</td>\n",
       "      <td>941423</td>\n",
       "      <td>-</td>\n",
       "      <td>WP_005881199.1</td>\n",
       "    </tr>\n",
       "    <tr>\n",
       "      <th>2103</th>\n",
       "      <td>durans</td>\n",
       "      <td>1119493</td>\n",
       "      <td>1119849</td>\n",
       "      <td>+</td>\n",
       "      <td>WP_005880747.1</td>\n",
       "    </tr>\n",
       "    <tr>\n",
       "      <th>2395</th>\n",
       "      <td>durans</td>\n",
       "      <td>1286462</td>\n",
       "      <td>1287439</td>\n",
       "      <td>-</td>\n",
       "      <td>WP_081133796.1</td>\n",
       "    </tr>\n",
       "    <tr>\n",
       "      <th>2405</th>\n",
       "      <td>durans</td>\n",
       "      <td>1292913</td>\n",
       "      <td>1293437</td>\n",
       "      <td>+</td>\n",
       "      <td>WP_016177253.1</td>\n",
       "    </tr>\n",
       "    <tr>\n",
       "      <th>2779</th>\n",
       "      <td>durans</td>\n",
       "      <td>1512244</td>\n",
       "      <td>1512642</td>\n",
       "      <td>+</td>\n",
       "      <td>WP_005877288.1</td>\n",
       "    </tr>\n",
       "    <tr>\n",
       "      <th>5299</th>\n",
       "      <td>durans</td>\n",
       "      <td>2875763</td>\n",
       "      <td>2875912</td>\n",
       "      <td>-</td>\n",
       "      <td>WP_002296119.1</td>\n",
       "    </tr>\n",
       "  </tbody>\n",
       "</table>\n",
       "</div>"
      ],
      "text/plain": [
       "         chr    start      end strand product_accession\n",
       "513   durans   272883   273488      -    WP_016177384.1\n",
       "1147  durans   611548   612093      -    WP_005878994.1\n",
       "1703  durans   906425   907885      -    WP_005876899.1\n",
       "1765  durans   940980   941423      -    WP_005881199.1\n",
       "2103  durans  1119493  1119849      +    WP_005880747.1\n",
       "2395  durans  1286462  1287439      -    WP_081133796.1\n",
       "2405  durans  1292913  1293437      +    WP_016177253.1\n",
       "2779  durans  1512244  1512642      +    WP_005877288.1\n",
       "5299  durans  2875763  2875912      -    WP_002296119.1"
      ]
     },
     "execution_count": 256,
     "metadata": {},
     "output_type": "execute_result"
    }
   ],
   "source": [
    "table = pd.read_csv('bioinfo_project/durans/feature_table.txt', sep='\\t')\n",
    "table['chr'] = 'durans'\n",
    "tmp=table.loc[table['product_accession'].notna()][['chr', 'start', 'end', 'strand', 'product_accession']]\n",
    "tmp.loc[tmp['product_accession'].isin(dur)].to_csv('bioinfo_project/durans/cluster_genes.bed', sep = '\\t', header=False,index=False)\n",
    "tmp.loc[tmp['product_accession'].isin(dur)]"
   ]
  },
  {
   "cell_type": "code",
   "execution_count": 257,
   "id": "106b9ec7",
   "metadata": {},
   "outputs": [],
   "source": [
    "!bedtools intersect -a bioinfo_project/durans/cluster_genes.bed -b bioinfo_project/durans/zscores.bed -wa -wb \\\n",
    "> bioinfo_project/durans/zcluster.bed"
   ]
  },
  {
   "cell_type": "code",
   "execution_count": 258,
   "id": "54f60c1e",
   "metadata": {},
   "outputs": [
    {
     "data": {
      "text/html": [
       "<div>\n",
       "<style scoped>\n",
       "    .dataframe tbody tr th:only-of-type {\n",
       "        vertical-align: middle;\n",
       "    }\n",
       "\n",
       "    .dataframe tbody tr th {\n",
       "        vertical-align: top;\n",
       "    }\n",
       "\n",
       "    .dataframe thead th {\n",
       "        text-align: right;\n",
       "    }\n",
       "</style>\n",
       "<table border=\"1\" class=\"dataframe\">\n",
       "  <thead>\n",
       "    <tr style=\"text-align: right;\">\n",
       "      <th></th>\n",
       "      <th>1</th>\n",
       "      <th>2</th>\n",
       "      <th>3</th>\n",
       "      <th>4</th>\n",
       "      <th>5</th>\n",
       "      <th>6</th>\n",
       "      <th>7</th>\n",
       "      <th>8</th>\n",
       "      <th>9</th>\n",
       "      <th>10</th>\n",
       "    </tr>\n",
       "  </thead>\n",
       "  <tbody>\n",
       "    <tr>\n",
       "      <th>0</th>\n",
       "      <td>durans</td>\n",
       "      <td>272883</td>\n",
       "      <td>273488</td>\n",
       "      <td>-</td>\n",
       "      <td>WP_016177384.1</td>\n",
       "      <td>durans</td>\n",
       "      <td>273440</td>\n",
       "      <td>273450</td>\n",
       "      <td>durans_43</td>\n",
       "      <td>783.8230</td>\n",
       "    </tr>\n",
       "    <tr>\n",
       "      <th>1</th>\n",
       "      <td>durans</td>\n",
       "      <td>611548</td>\n",
       "      <td>612093</td>\n",
       "      <td>-</td>\n",
       "      <td>WP_005878994.1</td>\n",
       "      <td>durans</td>\n",
       "      <td>612021</td>\n",
       "      <td>612031</td>\n",
       "      <td>durans_101</td>\n",
       "      <td>766.6232</td>\n",
       "    </tr>\n",
       "    <tr>\n",
       "      <th>2</th>\n",
       "      <td>durans</td>\n",
       "      <td>906425</td>\n",
       "      <td>907885</td>\n",
       "      <td>-</td>\n",
       "      <td>WP_005876899.1</td>\n",
       "      <td>durans</td>\n",
       "      <td>907529</td>\n",
       "      <td>907542</td>\n",
       "      <td>durans_159</td>\n",
       "      <td>2752.4470</td>\n",
       "    </tr>\n",
       "    <tr>\n",
       "      <th>3</th>\n",
       "      <td>durans</td>\n",
       "      <td>906425</td>\n",
       "      <td>907885</td>\n",
       "      <td>-</td>\n",
       "      <td>WP_005876899.1</td>\n",
       "      <td>durans</td>\n",
       "      <td>907883</td>\n",
       "      <td>907895</td>\n",
       "      <td>durans_160</td>\n",
       "      <td>4860.2060</td>\n",
       "    </tr>\n",
       "    <tr>\n",
       "      <th>4</th>\n",
       "      <td>durans</td>\n",
       "      <td>1119493</td>\n",
       "      <td>1119849</td>\n",
       "      <td>+</td>\n",
       "      <td>WP_005880747.1</td>\n",
       "      <td>durans</td>\n",
       "      <td>1119589</td>\n",
       "      <td>1119601</td>\n",
       "      <td>durans_213</td>\n",
       "      <td>1116.6210</td>\n",
       "    </tr>\n",
       "    <tr>\n",
       "      <th>5</th>\n",
       "      <td>durans</td>\n",
       "      <td>1286462</td>\n",
       "      <td>1287439</td>\n",
       "      <td>-</td>\n",
       "      <td>WP_081133796.1</td>\n",
       "      <td>durans</td>\n",
       "      <td>1287428</td>\n",
       "      <td>1287443</td>\n",
       "      <td>durans_252</td>\n",
       "      <td>2091.0830</td>\n",
       "    </tr>\n",
       "    <tr>\n",
       "      <th>6</th>\n",
       "      <td>durans</td>\n",
       "      <td>1292913</td>\n",
       "      <td>1293437</td>\n",
       "      <td>+</td>\n",
       "      <td>WP_016177253.1</td>\n",
       "      <td>durans</td>\n",
       "      <td>1292966</td>\n",
       "      <td>1292980</td>\n",
       "      <td>durans_253</td>\n",
       "      <td>8485.7560</td>\n",
       "    </tr>\n",
       "    <tr>\n",
       "      <th>7</th>\n",
       "      <td>durans</td>\n",
       "      <td>1512244</td>\n",
       "      <td>1512642</td>\n",
       "      <td>+</td>\n",
       "      <td>WP_005877288.1</td>\n",
       "      <td>durans</td>\n",
       "      <td>1512308</td>\n",
       "      <td>1512318</td>\n",
       "      <td>durans_291</td>\n",
       "      <td>766.6232</td>\n",
       "    </tr>\n",
       "  </tbody>\n",
       "</table>\n",
       "</div>"
      ],
      "text/plain": [
       "        1        2        3  4               5       6        7        8  \\\n",
       "0  durans   272883   273488  -  WP_016177384.1  durans   273440   273450   \n",
       "1  durans   611548   612093  -  WP_005878994.1  durans   612021   612031   \n",
       "2  durans   906425   907885  -  WP_005876899.1  durans   907529   907542   \n",
       "3  durans   906425   907885  -  WP_005876899.1  durans   907883   907895   \n",
       "4  durans  1119493  1119849  +  WP_005880747.1  durans  1119589  1119601   \n",
       "5  durans  1286462  1287439  -  WP_081133796.1  durans  1287428  1287443   \n",
       "6  durans  1292913  1293437  +  WP_016177253.1  durans  1292966  1292980   \n",
       "7  durans  1512244  1512642  +  WP_005877288.1  durans  1512308  1512318   \n",
       "\n",
       "            9         10  \n",
       "0   durans_43   783.8230  \n",
       "1  durans_101   766.6232  \n",
       "2  durans_159  2752.4470  \n",
       "3  durans_160  4860.2060  \n",
       "4  durans_213  1116.6210  \n",
       "5  durans_252  2091.0830  \n",
       "6  durans_253  8485.7560  \n",
       "7  durans_291   766.6232  "
      ]
     },
     "execution_count": 258,
     "metadata": {},
     "output_type": "execute_result"
    }
   ],
   "source": [
    "cl = pd.read_csv('bioinfo_project/durans/zcluster.bed', sep='\\t', names=['1','2','3','4','5','6','7','8','9','10'])\n",
    "cl[['1', '7', '8', '5', '10', '4', '2', '3']].to_csv('bioinfo_project/durans/cluster.bed', sep = '\\t', header=False,index=False)\n",
    "cl"
   ]
  },
  {
   "cell_type": "code",
   "execution_count": 252,
   "id": "7cec257a",
   "metadata": {},
   "outputs": [
    {
     "data": {
      "text/html": [
       "<div>\n",
       "<style scoped>\n",
       "    .dataframe tbody tr th:only-of-type {\n",
       "        vertical-align: middle;\n",
       "    }\n",
       "\n",
       "    .dataframe tbody tr th {\n",
       "        vertical-align: top;\n",
       "    }\n",
       "\n",
       "    .dataframe thead th {\n",
       "        text-align: right;\n",
       "    }\n",
       "</style>\n",
       "<table border=\"1\" class=\"dataframe\">\n",
       "  <thead>\n",
       "    <tr style=\"text-align: right;\">\n",
       "      <th></th>\n",
       "      <th>1</th>\n",
       "      <th>2</th>\n",
       "      <th>3</th>\n",
       "      <th>4</th>\n",
       "      <th>5</th>\n",
       "      <th>6</th>\n",
       "      <th>7</th>\n",
       "      <th>8</th>\n",
       "      <th>9</th>\n",
       "      <th>10</th>\n",
       "    </tr>\n",
       "  </thead>\n",
       "  <tbody>\n",
       "    <tr>\n",
       "      <th>0</th>\n",
       "      <td>faecium</td>\n",
       "      <td>81847</td>\n",
       "      <td>82203</td>\n",
       "      <td>+</td>\n",
       "      <td>WP_002288679.1</td>\n",
       "      <td>faecium</td>\n",
       "      <td>81942</td>\n",
       "      <td>81954</td>\n",
       "      <td>faecium_19</td>\n",
       "      <td>1116.6210</td>\n",
       "    </tr>\n",
       "    <tr>\n",
       "      <th>1</th>\n",
       "      <td>faecium</td>\n",
       "      <td>227560</td>\n",
       "      <td>228537</td>\n",
       "      <td>-</td>\n",
       "      <td>WP_002300050.1</td>\n",
       "      <td>faecium</td>\n",
       "      <td>228527</td>\n",
       "      <td>228540</td>\n",
       "      <td>faecium_50</td>\n",
       "      <td>2779.5510</td>\n",
       "    </tr>\n",
       "    <tr>\n",
       "      <th>2</th>\n",
       "      <td>faecium</td>\n",
       "      <td>232393</td>\n",
       "      <td>232917</td>\n",
       "      <td>+</td>\n",
       "      <td>WP_002293357.1</td>\n",
       "      <td>faecium</td>\n",
       "      <td>232449</td>\n",
       "      <td>232457</td>\n",
       "      <td>faecium_53</td>\n",
       "      <td>650.9198</td>\n",
       "    </tr>\n",
       "    <tr>\n",
       "      <th>3</th>\n",
       "      <td>faecium</td>\n",
       "      <td>1900250</td>\n",
       "      <td>1900870</td>\n",
       "      <td>-</td>\n",
       "      <td>WP_002292825.1</td>\n",
       "      <td>faecium</td>\n",
       "      <td>1900821</td>\n",
       "      <td>1900831</td>\n",
       "      <td>faecium_320</td>\n",
       "      <td>783.8230</td>\n",
       "    </tr>\n",
       "    <tr>\n",
       "      <th>4</th>\n",
       "      <td>faecium</td>\n",
       "      <td>2356770</td>\n",
       "      <td>2357315</td>\n",
       "      <td>-</td>\n",
       "      <td>WP_002294580.1</td>\n",
       "      <td>faecium</td>\n",
       "      <td>2357242</td>\n",
       "      <td>2357252</td>\n",
       "      <td>faecium_374</td>\n",
       "      <td>766.6232</td>\n",
       "    </tr>\n",
       "    <tr>\n",
       "      <th>5</th>\n",
       "      <td>faecium</td>\n",
       "      <td>2383052</td>\n",
       "      <td>2383450</td>\n",
       "      <td>-</td>\n",
       "      <td>WP_002296384.1</td>\n",
       "      <td>faecium</td>\n",
       "      <td>2383119</td>\n",
       "      <td>2383125</td>\n",
       "      <td>faecium_379</td>\n",
       "      <td>883.5764</td>\n",
       "    </tr>\n",
       "    <tr>\n",
       "      <th>6</th>\n",
       "      <td>faecium</td>\n",
       "      <td>2383052</td>\n",
       "      <td>2383450</td>\n",
       "      <td>-</td>\n",
       "      <td>WP_002296384.1</td>\n",
       "      <td>faecium</td>\n",
       "      <td>2383410</td>\n",
       "      <td>2383420</td>\n",
       "      <td>faecium_380</td>\n",
       "      <td>766.6232</td>\n",
       "    </tr>\n",
       "    <tr>\n",
       "      <th>7</th>\n",
       "      <td>faecium</td>\n",
       "      <td>2610474</td>\n",
       "      <td>2611934</td>\n",
       "      <td>-</td>\n",
       "      <td>WP_002287447.1</td>\n",
       "      <td>faecium</td>\n",
       "      <td>2611931</td>\n",
       "      <td>2611943</td>\n",
       "      <td>faecium_412</td>\n",
       "      <td>4860.2060</td>\n",
       "    </tr>\n",
       "  </tbody>\n",
       "</table>\n",
       "</div>"
      ],
      "text/plain": [
       "         1        2        3  4               5        6        7        8  \\\n",
       "0  faecium    81847    82203  +  WP_002288679.1  faecium    81942    81954   \n",
       "1  faecium   227560   228537  -  WP_002300050.1  faecium   228527   228540   \n",
       "2  faecium   232393   232917  +  WP_002293357.1  faecium   232449   232457   \n",
       "3  faecium  1900250  1900870  -  WP_002292825.1  faecium  1900821  1900831   \n",
       "4  faecium  2356770  2357315  -  WP_002294580.1  faecium  2357242  2357252   \n",
       "5  faecium  2383052  2383450  -  WP_002296384.1  faecium  2383119  2383125   \n",
       "6  faecium  2383052  2383450  -  WP_002296384.1  faecium  2383410  2383420   \n",
       "7  faecium  2610474  2611934  -  WP_002287447.1  faecium  2611931  2611943   \n",
       "\n",
       "             9         10  \n",
       "0   faecium_19  1116.6210  \n",
       "1   faecium_50  2779.5510  \n",
       "2   faecium_53   650.9198  \n",
       "3  faecium_320   783.8230  \n",
       "4  faecium_374   766.6232  \n",
       "5  faecium_379   883.5764  \n",
       "6  faecium_380   766.6232  \n",
       "7  faecium_412  4860.2060  "
      ]
     },
     "execution_count": 252,
     "metadata": {},
     "output_type": "execute_result"
    }
   ],
   "source": [
    "table = pd.read_csv('bioinfo_project/faecium/feature_table.txt', sep='\\t')\n",
    "table['chr'] = 'faecium'\n",
    "tmp=table.loc[table['product_accession'].notna()][['chr', 'start', 'end', 'strand', 'product_accession']]\n",
    "tmp.loc[tmp['product_accession'].isin(fae)].to_csv('bioinfo_project/faecium/cluster_genes.bed', sep = '\\t', header=False,index=False)\n",
    "\n",
    "!bedtools intersect -a bioinfo_project/faecium/cluster_genes.bed -b bioinfo_project/faecium/zscores.bed -wa -wb \\\n",
    "> bioinfo_project/faecium/zcluster.bed\n",
    "\n",
    "cl = pd.read_csv('bioinfo_project/faecium/zcluster.bed', sep='\\t', names=['1','2','3','4','5','6','7','8','9','10'])\n",
    "cl[['1', '7', '8', '5', '10', '4', '2', '3']].to_csv('bioinfo_project/faecium/cluster.bed', sep = '\\t', header=False,index=False)\n",
    "cl"
   ]
  },
  {
   "cell_type": "code",
   "execution_count": 253,
   "id": "f166394b",
   "metadata": {},
   "outputs": [
    {
     "data": {
      "text/html": [
       "<div>\n",
       "<style scoped>\n",
       "    .dataframe tbody tr th:only-of-type {\n",
       "        vertical-align: middle;\n",
       "    }\n",
       "\n",
       "    .dataframe tbody tr th {\n",
       "        vertical-align: top;\n",
       "    }\n",
       "\n",
       "    .dataframe thead th {\n",
       "        text-align: right;\n",
       "    }\n",
       "</style>\n",
       "<table border=\"1\" class=\"dataframe\">\n",
       "  <thead>\n",
       "    <tr style=\"text-align: right;\">\n",
       "      <th></th>\n",
       "      <th>1</th>\n",
       "      <th>2</th>\n",
       "      <th>3</th>\n",
       "      <th>4</th>\n",
       "      <th>5</th>\n",
       "      <th>6</th>\n",
       "      <th>7</th>\n",
       "      <th>8</th>\n",
       "      <th>9</th>\n",
       "      <th>10</th>\n",
       "    </tr>\n",
       "  </thead>\n",
       "  <tbody>\n",
       "    <tr>\n",
       "      <th>0</th>\n",
       "      <td>lactis</td>\n",
       "      <td>71156</td>\n",
       "      <td>71512</td>\n",
       "      <td>+</td>\n",
       "      <td>WP_002288679.1</td>\n",
       "      <td>lactis</td>\n",
       "      <td>71253</td>\n",
       "      <td>71265</td>\n",
       "      <td>lactis_18</td>\n",
       "      <td>1116.6210</td>\n",
       "    </tr>\n",
       "    <tr>\n",
       "      <th>1</th>\n",
       "      <td>lactis</td>\n",
       "      <td>230042</td>\n",
       "      <td>231019</td>\n",
       "      <td>-</td>\n",
       "      <td>WP_002293367.1</td>\n",
       "      <td>lactis</td>\n",
       "      <td>231011</td>\n",
       "      <td>231024</td>\n",
       "      <td>lactis_52</td>\n",
       "      <td>2779.5510</td>\n",
       "    </tr>\n",
       "    <tr>\n",
       "      <th>2</th>\n",
       "      <td>lactis</td>\n",
       "      <td>234874</td>\n",
       "      <td>235398</td>\n",
       "      <td>+</td>\n",
       "      <td>WP_002293357.1</td>\n",
       "      <td>lactis</td>\n",
       "      <td>234932</td>\n",
       "      <td>234940</td>\n",
       "      <td>lactis_55</td>\n",
       "      <td>650.9198</td>\n",
       "    </tr>\n",
       "    <tr>\n",
       "      <th>3</th>\n",
       "      <td>lactis</td>\n",
       "      <td>754653</td>\n",
       "      <td>755273</td>\n",
       "      <td>+</td>\n",
       "      <td>WP_002292825.1</td>\n",
       "      <td>lactis</td>\n",
       "      <td>754728</td>\n",
       "      <td>754738</td>\n",
       "      <td>lactis_139</td>\n",
       "      <td>783.8230</td>\n",
       "    </tr>\n",
       "    <tr>\n",
       "      <th>4</th>\n",
       "      <td>lactis</td>\n",
       "      <td>1023715</td>\n",
       "      <td>1023864</td>\n",
       "      <td>+</td>\n",
       "      <td>WP_002296119.1</td>\n",
       "      <td>lactis</td>\n",
       "      <td>1023731</td>\n",
       "      <td>1023743</td>\n",
       "      <td>lactis_193</td>\n",
       "      <td>848.0313</td>\n",
       "    </tr>\n",
       "    <tr>\n",
       "      <th>5</th>\n",
       "      <td>lactis</td>\n",
       "      <td>2216088</td>\n",
       "      <td>2216633</td>\n",
       "      <td>-</td>\n",
       "      <td>WP_002294580.1</td>\n",
       "      <td>lactis</td>\n",
       "      <td>2216562</td>\n",
       "      <td>2216572</td>\n",
       "      <td>lactis_418</td>\n",
       "      <td>766.6232</td>\n",
       "    </tr>\n",
       "    <tr>\n",
       "      <th>6</th>\n",
       "      <td>lactis</td>\n",
       "      <td>2235335</td>\n",
       "      <td>2235733</td>\n",
       "      <td>-</td>\n",
       "      <td>WP_002296384.1</td>\n",
       "      <td>lactis</td>\n",
       "      <td>2235404</td>\n",
       "      <td>2235410</td>\n",
       "      <td>lactis_423</td>\n",
       "      <td>883.5764</td>\n",
       "    </tr>\n",
       "    <tr>\n",
       "      <th>7</th>\n",
       "      <td>lactis</td>\n",
       "      <td>2235335</td>\n",
       "      <td>2235733</td>\n",
       "      <td>-</td>\n",
       "      <td>WP_002296384.1</td>\n",
       "      <td>lactis</td>\n",
       "      <td>2235695</td>\n",
       "      <td>2235705</td>\n",
       "      <td>lactis_424</td>\n",
       "      <td>766.6232</td>\n",
       "    </tr>\n",
       "    <tr>\n",
       "      <th>8</th>\n",
       "      <td>lactis</td>\n",
       "      <td>2440508</td>\n",
       "      <td>2441968</td>\n",
       "      <td>-</td>\n",
       "      <td>WP_002293095.1</td>\n",
       "      <td>lactis</td>\n",
       "      <td>2441967</td>\n",
       "      <td>2441979</td>\n",
       "      <td>lactis_466</td>\n",
       "      <td>4860.2060</td>\n",
       "    </tr>\n",
       "  </tbody>\n",
       "</table>\n",
       "</div>"
      ],
      "text/plain": [
       "        1        2        3  4               5       6        7        8  \\\n",
       "0  lactis    71156    71512  +  WP_002288679.1  lactis    71253    71265   \n",
       "1  lactis   230042   231019  -  WP_002293367.1  lactis   231011   231024   \n",
       "2  lactis   234874   235398  +  WP_002293357.1  lactis   234932   234940   \n",
       "3  lactis   754653   755273  +  WP_002292825.1  lactis   754728   754738   \n",
       "4  lactis  1023715  1023864  +  WP_002296119.1  lactis  1023731  1023743   \n",
       "5  lactis  2216088  2216633  -  WP_002294580.1  lactis  2216562  2216572   \n",
       "6  lactis  2235335  2235733  -  WP_002296384.1  lactis  2235404  2235410   \n",
       "7  lactis  2235335  2235733  -  WP_002296384.1  lactis  2235695  2235705   \n",
       "8  lactis  2440508  2441968  -  WP_002293095.1  lactis  2441967  2441979   \n",
       "\n",
       "            9         10  \n",
       "0   lactis_18  1116.6210  \n",
       "1   lactis_52  2779.5510  \n",
       "2   lactis_55   650.9198  \n",
       "3  lactis_139   783.8230  \n",
       "4  lactis_193   848.0313  \n",
       "5  lactis_418   766.6232  \n",
       "6  lactis_423   883.5764  \n",
       "7  lactis_424   766.6232  \n",
       "8  lactis_466  4860.2060  "
      ]
     },
     "execution_count": 253,
     "metadata": {},
     "output_type": "execute_result"
    }
   ],
   "source": [
    "table = pd.read_csv('bioinfo_project/lactis/feature_table.txt', sep='\\t')\n",
    "table['chr'] = 'lactis'\n",
    "tmp=table.loc[table['product_accession'].notna()][['chr', 'start', 'end', 'strand', 'product_accession']]\n",
    "tmp.loc[tmp['product_accession'].isin(lact)].to_csv('bioinfo_project/lactis/cluster_genes.bed', sep = '\\t', header=False,index=False)\n",
    "\n",
    "!bedtools intersect -a bioinfo_project/lactis/cluster_genes.bed -b bioinfo_project/lactis/zscores.bed -wa -wb \\\n",
    "> bioinfo_project/lactis/zcluster.bed\n",
    "\n",
    "cl = pd.read_csv('bioinfo_project/lactis/zcluster.bed', sep='\\t', names=['1','2','3','4','5','6','7','8','9','10'])\n",
    "cl[['1', '7', '8', '5', '10', '4', '2', '3']].to_csv('bioinfo_project/lactis/cluster.bed', sep = '\\t', header=False,index=False)\n",
    "cl"
   ]
  },
  {
   "cell_type": "code",
   "execution_count": 255,
   "id": "f542cfa6",
   "metadata": {
    "scrolled": true
   },
   "outputs": [
    {
     "data": {
      "text/html": [
       "<div>\n",
       "<style scoped>\n",
       "    .dataframe tbody tr th:only-of-type {\n",
       "        vertical-align: middle;\n",
       "    }\n",
       "\n",
       "    .dataframe tbody tr th {\n",
       "        vertical-align: top;\n",
       "    }\n",
       "\n",
       "    .dataframe thead th {\n",
       "        text-align: right;\n",
       "    }\n",
       "</style>\n",
       "<table border=\"1\" class=\"dataframe\">\n",
       "  <thead>\n",
       "    <tr style=\"text-align: right;\">\n",
       "      <th></th>\n",
       "      <th>1</th>\n",
       "      <th>2</th>\n",
       "      <th>3</th>\n",
       "      <th>4</th>\n",
       "      <th>5</th>\n",
       "      <th>6</th>\n",
       "      <th>7</th>\n",
       "      <th>8</th>\n",
       "      <th>9</th>\n",
       "      <th>10</th>\n",
       "    </tr>\n",
       "  </thead>\n",
       "  <tbody>\n",
       "    <tr>\n",
       "      <th>0</th>\n",
       "      <td>raffinosus</td>\n",
       "      <td>137821</td>\n",
       "      <td>139278</td>\n",
       "      <td>+</td>\n",
       "      <td>WP_218256352.1</td>\n",
       "      <td>raffinosus</td>\n",
       "      <td>137849</td>\n",
       "      <td>137859</td>\n",
       "      <td>raffinosus_33</td>\n",
       "      <td>783.8230</td>\n",
       "    </tr>\n",
       "    <tr>\n",
       "      <th>1</th>\n",
       "      <td>raffinosus</td>\n",
       "      <td>255792</td>\n",
       "      <td>256148</td>\n",
       "      <td>+</td>\n",
       "      <td>WP_010747204.1</td>\n",
       "      <td>raffinosus</td>\n",
       "      <td>255849</td>\n",
       "      <td>255866</td>\n",
       "      <td>raffinosus_61</td>\n",
       "      <td>936.7831</td>\n",
       "    </tr>\n",
       "    <tr>\n",
       "      <th>2</th>\n",
       "      <td>raffinosus</td>\n",
       "      <td>368557</td>\n",
       "      <td>369081</td>\n",
       "      <td>+</td>\n",
       "      <td>WP_010747120.1</td>\n",
       "      <td>raffinosus</td>\n",
       "      <td>368611</td>\n",
       "      <td>368623</td>\n",
       "      <td>raffinosus_95</td>\n",
       "      <td>2091.0830</td>\n",
       "    </tr>\n",
       "    <tr>\n",
       "      <th>3</th>\n",
       "      <td>raffinosus</td>\n",
       "      <td>1031438</td>\n",
       "      <td>1031836</td>\n",
       "      <td>+</td>\n",
       "      <td>WP_010739854.1</td>\n",
       "      <td>raffinosus</td>\n",
       "      <td>1031500</td>\n",
       "      <td>1031508</td>\n",
       "      <td>raffinosus_234</td>\n",
       "      <td>650.9198</td>\n",
       "    </tr>\n",
       "    <tr>\n",
       "      <th>4</th>\n",
       "      <td>raffinosus</td>\n",
       "      <td>1057023</td>\n",
       "      <td>1057565</td>\n",
       "      <td>+</td>\n",
       "      <td>WP_028020861.1</td>\n",
       "      <td>raffinosus</td>\n",
       "      <td>1057117</td>\n",
       "      <td>1057129</td>\n",
       "      <td>raffinosus_240</td>\n",
       "      <td>712.1870</td>\n",
       "    </tr>\n",
       "    <tr>\n",
       "      <th>5</th>\n",
       "      <td>raffinosus</td>\n",
       "      <td>1223680</td>\n",
       "      <td>1224288</td>\n",
       "      <td>+</td>\n",
       "      <td>WP_010744516.1</td>\n",
       "      <td>raffinosus</td>\n",
       "      <td>1223754</td>\n",
       "      <td>1223762</td>\n",
       "      <td>raffinosus_281</td>\n",
       "      <td>650.9198</td>\n",
       "    </tr>\n",
       "  </tbody>\n",
       "</table>\n",
       "</div>"
      ],
      "text/plain": [
       "            1        2        3  4               5           6        7  \\\n",
       "0  raffinosus   137821   139278  +  WP_218256352.1  raffinosus   137849   \n",
       "1  raffinosus   255792   256148  +  WP_010747204.1  raffinosus   255849   \n",
       "2  raffinosus   368557   369081  +  WP_010747120.1  raffinosus   368611   \n",
       "3  raffinosus  1031438  1031836  +  WP_010739854.1  raffinosus  1031500   \n",
       "4  raffinosus  1057023  1057565  +  WP_028020861.1  raffinosus  1057117   \n",
       "5  raffinosus  1223680  1224288  +  WP_010744516.1  raffinosus  1223754   \n",
       "\n",
       "         8               9         10  \n",
       "0   137859   raffinosus_33   783.8230  \n",
       "1   255866   raffinosus_61   936.7831  \n",
       "2   368623   raffinosus_95  2091.0830  \n",
       "3  1031508  raffinosus_234   650.9198  \n",
       "4  1057129  raffinosus_240   712.1870  \n",
       "5  1223762  raffinosus_281   650.9198  "
      ]
     },
     "execution_count": 255,
     "metadata": {},
     "output_type": "execute_result"
    }
   ],
   "source": [
    "table = pd.read_csv('bioinfo_project/raffinosus/feature_table.txt', sep='\\t')\n",
    "table['chr'] = 'raffinosus'\n",
    "tmp=table.loc[table['product_accession'].notna()][['chr', 'start', 'end', 'strand', 'product_accession']]\n",
    "tmp.loc[tmp['product_accession'].isin(raf)].to_csv('bioinfo_project/raffinosus/cluster_genes.bed', sep = '\\t', header=False,index=False)\n",
    "\n",
    "!bedtools intersect -a bioinfo_project/raffinosus/cluster_genes.bed -b bioinfo_project/raffinosus/zscores.bed -wa -wb \\\n",
    "> bioinfo_project/raffinosus/zcluster.bed\n",
    "\n",
    "cl = pd.read_csv('bioinfo_project/raffinosus/zcluster.bed', sep='\\t', names=['1','2','3','4','5','6','7','8','9','10'])\n",
    "cl[['1', '7', '8', '5', '10', '4', '2', '3']].to_csv('bioinfo_project/raffinosus/cluster.bed', sep = '\\t', header=False,index=False)\n",
    "cl"
   ]
  },
  {
   "cell_type": "code",
   "execution_count": null,
   "id": "e7e61667",
   "metadata": {},
   "outputs": [],
   "source": []
  },
  {
   "cell_type": "markdown",
   "id": "e1dd7bd5",
   "metadata": {},
   "source": [
    "## Графическая визуализацию расположения Z-DNA относительно гомологичных генов:"
   ]
  },
  {
   "cell_type": "code",
   "execution_count": 439,
   "id": "2eb4d607",
   "metadata": {},
   "outputs": [
    {
     "data": {
      "text/html": [
       "<div>\n",
       "<style scoped>\n",
       "    .dataframe tbody tr th:only-of-type {\n",
       "        vertical-align: middle;\n",
       "    }\n",
       "\n",
       "    .dataframe tbody tr th {\n",
       "        vertical-align: top;\n",
       "    }\n",
       "\n",
       "    .dataframe thead th {\n",
       "        text-align: right;\n",
       "    }\n",
       "</style>\n",
       "<table border=\"1\" class=\"dataframe\">\n",
       "  <thead>\n",
       "    <tr style=\"text-align: right;\">\n",
       "      <th></th>\n",
       "      <th>1</th>\n",
       "      <th>2</th>\n",
       "      <th>3</th>\n",
       "      <th>4</th>\n",
       "      <th>5</th>\n",
       "      <th>6</th>\n",
       "      <th>7</th>\n",
       "      <th>8</th>\n",
       "      <th>len</th>\n",
       "      <th>start</th>\n",
       "      <th>end</th>\n",
       "    </tr>\n",
       "  </thead>\n",
       "  <tbody>\n",
       "    <tr>\n",
       "      <th>0</th>\n",
       "      <td>raffinosus</td>\n",
       "      <td>137849</td>\n",
       "      <td>137859</td>\n",
       "      <td>WP_218256352.1</td>\n",
       "      <td>783.8230</td>\n",
       "      <td>+</td>\n",
       "      <td>137821</td>\n",
       "      <td>139278</td>\n",
       "      <td>1457</td>\n",
       "      <td>28</td>\n",
       "      <td>38</td>\n",
       "    </tr>\n",
       "    <tr>\n",
       "      <th>1</th>\n",
       "      <td>raffinosus</td>\n",
       "      <td>255849</td>\n",
       "      <td>255866</td>\n",
       "      <td>WP_010747204.1</td>\n",
       "      <td>936.7831</td>\n",
       "      <td>+</td>\n",
       "      <td>255792</td>\n",
       "      <td>256148</td>\n",
       "      <td>356</td>\n",
       "      <td>57</td>\n",
       "      <td>74</td>\n",
       "    </tr>\n",
       "    <tr>\n",
       "      <th>2</th>\n",
       "      <td>raffinosus</td>\n",
       "      <td>368611</td>\n",
       "      <td>368623</td>\n",
       "      <td>WP_010747120.1</td>\n",
       "      <td>2091.0830</td>\n",
       "      <td>+</td>\n",
       "      <td>368557</td>\n",
       "      <td>369081</td>\n",
       "      <td>524</td>\n",
       "      <td>54</td>\n",
       "      <td>66</td>\n",
       "    </tr>\n",
       "    <tr>\n",
       "      <th>3</th>\n",
       "      <td>raffinosus</td>\n",
       "      <td>1031500</td>\n",
       "      <td>1031508</td>\n",
       "      <td>WP_010739854.1</td>\n",
       "      <td>650.9198</td>\n",
       "      <td>+</td>\n",
       "      <td>1031438</td>\n",
       "      <td>1031836</td>\n",
       "      <td>398</td>\n",
       "      <td>62</td>\n",
       "      <td>70</td>\n",
       "    </tr>\n",
       "    <tr>\n",
       "      <th>4</th>\n",
       "      <td>raffinosus</td>\n",
       "      <td>1057117</td>\n",
       "      <td>1057129</td>\n",
       "      <td>WP_028020861.1</td>\n",
       "      <td>712.1870</td>\n",
       "      <td>+</td>\n",
       "      <td>1057023</td>\n",
       "      <td>1057565</td>\n",
       "      <td>542</td>\n",
       "      <td>94</td>\n",
       "      <td>106</td>\n",
       "    </tr>\n",
       "    <tr>\n",
       "      <th>5</th>\n",
       "      <td>raffinosus</td>\n",
       "      <td>1223754</td>\n",
       "      <td>1223762</td>\n",
       "      <td>WP_010744516.1</td>\n",
       "      <td>650.9198</td>\n",
       "      <td>+</td>\n",
       "      <td>1223680</td>\n",
       "      <td>1224288</td>\n",
       "      <td>608</td>\n",
       "      <td>74</td>\n",
       "      <td>82</td>\n",
       "    </tr>\n",
       "  </tbody>\n",
       "</table>\n",
       "</div>"
      ],
      "text/plain": [
       "            1        2        3               4          5  6        7  \\\n",
       "0  raffinosus   137849   137859  WP_218256352.1   783.8230  +   137821   \n",
       "1  raffinosus   255849   255866  WP_010747204.1   936.7831  +   255792   \n",
       "2  raffinosus   368611   368623  WP_010747120.1  2091.0830  +   368557   \n",
       "3  raffinosus  1031500  1031508  WP_010739854.1   650.9198  +  1031438   \n",
       "4  raffinosus  1057117  1057129  WP_028020861.1   712.1870  +  1057023   \n",
       "5  raffinosus  1223754  1223762  WP_010744516.1   650.9198  +  1223680   \n",
       "\n",
       "         8   len  start  end  \n",
       "0   139278  1457     28   38  \n",
       "1   256148   356     57   74  \n",
       "2   369081   524     54   66  \n",
       "3  1031836   398     62   70  \n",
       "4  1057565   542     94  106  \n",
       "5  1224288   608     74   82  "
      ]
     },
     "execution_count": 439,
     "metadata": {},
     "output_type": "execute_result"
    }
   ],
   "source": [
    "cur = pd.read_csv('bioinfo_project/raffinosus/cluster.bed', sep='\\t', names=['1','2','3','4','5','6','7','8'])\n",
    "cur['len'] = cur['8'] - cur['7']\n",
    "cur['start'] = cur['2'] - cur['7']\n",
    "cur['end'] = cur['3'] - cur['7']\n",
    "cur"
   ]
  },
  {
   "cell_type": "code",
   "execution_count": 483,
   "id": "ac34e8af",
   "metadata": {},
   "outputs": [
    {
     "data": {
      "text/html": [
       "<div>\n",
       "<style scoped>\n",
       "    .dataframe tbody tr th:only-of-type {\n",
       "        vertical-align: middle;\n",
       "    }\n",
       "\n",
       "    .dataframe tbody tr th {\n",
       "        vertical-align: top;\n",
       "    }\n",
       "\n",
       "    .dataframe thead th {\n",
       "        text-align: right;\n",
       "    }\n",
       "</style>\n",
       "<table border=\"1\" class=\"dataframe\">\n",
       "  <thead>\n",
       "    <tr style=\"text-align: right;\">\n",
       "      <th></th>\n",
       "      <th>1</th>\n",
       "      <th>2</th>\n",
       "      <th>3</th>\n",
       "      <th>4</th>\n",
       "      <th>5</th>\n",
       "      <th>len</th>\n",
       "    </tr>\n",
       "  </thead>\n",
       "  <tbody>\n",
       "    <tr>\n",
       "      <th>0</th>\n",
       "      <td>gilvus</td>\n",
       "      <td>2862571</td>\n",
       "      <td>52</td>\n",
       "      <td>+</td>\n",
       "      <td>WP_010747120.1</td>\n",
       "      <td>-2862519</td>\n",
       "    </tr>\n",
       "    <tr>\n",
       "      <th>1</th>\n",
       "      <td>gilvus</td>\n",
       "      <td>545515</td>\n",
       "      <td>545913</td>\n",
       "      <td>+</td>\n",
       "      <td>WP_010781381.1</td>\n",
       "      <td>398</td>\n",
       "    </tr>\n",
       "    <tr>\n",
       "      <th>2</th>\n",
       "      <td>gilvus</td>\n",
       "      <td>570493</td>\n",
       "      <td>571035</td>\n",
       "      <td>+</td>\n",
       "      <td>WP_044926432.1</td>\n",
       "      <td>542</td>\n",
       "    </tr>\n",
       "    <tr>\n",
       "      <th>3</th>\n",
       "      <td>gilvus</td>\n",
       "      <td>747212</td>\n",
       "      <td>747820</td>\n",
       "      <td>+</td>\n",
       "      <td>WP_086304379.1</td>\n",
       "      <td>608</td>\n",
       "    </tr>\n",
       "    <tr>\n",
       "      <th>4</th>\n",
       "      <td>gilvus</td>\n",
       "      <td>1580633</td>\n",
       "      <td>1580782</td>\n",
       "      <td>-</td>\n",
       "      <td>WP_010740369.1</td>\n",
       "      <td>149</td>\n",
       "    </tr>\n",
       "    <tr>\n",
       "      <th>5</th>\n",
       "      <td>gilvus</td>\n",
       "      <td>2478134</td>\n",
       "      <td>2478577</td>\n",
       "      <td>-</td>\n",
       "      <td>WP_010779391.1</td>\n",
       "      <td>443</td>\n",
       "    </tr>\n",
       "    <tr>\n",
       "      <th>6</th>\n",
       "      <td>gilvus</td>\n",
       "      <td>2692453</td>\n",
       "      <td>2693910</td>\n",
       "      <td>+</td>\n",
       "      <td>WP_114525261.1</td>\n",
       "      <td>1457</td>\n",
       "    </tr>\n",
       "    <tr>\n",
       "      <th>7</th>\n",
       "      <td>gilvus</td>\n",
       "      <td>2759707</td>\n",
       "      <td>2760063</td>\n",
       "      <td>+</td>\n",
       "      <td>WP_010782050.1</td>\n",
       "      <td>356</td>\n",
       "    </tr>\n",
       "    <tr>\n",
       "      <th>8</th>\n",
       "      <td>gilvus</td>\n",
       "      <td>2853592</td>\n",
       "      <td>2854581</td>\n",
       "      <td>-</td>\n",
       "      <td>WP_114525318.1</td>\n",
       "      <td>989</td>\n",
       "    </tr>\n",
       "  </tbody>\n",
       "</table>\n",
       "</div>"
      ],
      "text/plain": [
       "        1        2        3  4               5      len\n",
       "0  gilvus  2862571       52  +  WP_010747120.1 -2862519\n",
       "1  gilvus   545515   545913  +  WP_010781381.1      398\n",
       "2  gilvus   570493   571035  +  WP_044926432.1      542\n",
       "3  gilvus   747212   747820  +  WP_086304379.1      608\n",
       "4  gilvus  1580633  1580782  -  WP_010740369.1      149\n",
       "5  gilvus  2478134  2478577  -  WP_010779391.1      443\n",
       "6  gilvus  2692453  2693910  +  WP_114525261.1     1457\n",
       "7  gilvus  2759707  2760063  +  WP_010782050.1      356\n",
       "8  gilvus  2853592  2854581  -  WP_114525318.1      989"
      ]
     },
     "execution_count": 483,
     "metadata": {},
     "output_type": "execute_result"
    }
   ],
   "source": [
    "coords = pd.read_csv('bioinfo_project/gilvus/cluster_genes.bed', sep='\\t', names=['1','2', '3','4','5'])\n",
    "coords['len'] = coords['3'] - coords['2']\n",
    "coords"
   ]
  },
  {
   "cell_type": "code",
   "execution_count": 12,
   "id": "39fa6f1f",
   "metadata": {},
   "outputs": [
    {
     "data": {
      "image/png": "[encoded data removed]",
      "text/plain": [
       "<Figure size 864x576 with 5 Axes>"
      ]
     },
     "metadata": {},
     "output_type": "display_data"
    }
   ],
   "source": [
    "#  cluster 1\n",
    "\n",
    "fig, ((ax1, ax2 ,ax3, ax4, ax5)) = plt.subplots(nrows=5, ncols=1,figsize=(12, 8))\n",
    "\n",
    "features=[\n",
    "    GraphicFeature(start=154, end=166, strand=+1, color=\"#ffd700\",\n",
    "                   label=\"Z-DNA, 2091\"),\n",
    "    GraphicFeature(start=100, end=624, strand=+1, color=\"#ffcccc\",\n",
    "                   label=\"gilvus, WP_010747120.1\"),\n",
    "\n",
    "]\n",
    "record = GraphicRecord(sequence_length=1000, features=features)\n",
    "_=record.plot(ax=ax5)\n",
    "\n",
    "features=[\n",
    "    GraphicFeature(start=154, end=168, strand=+1, color=\"#ffd700\",\n",
    "                   label=\"Z-DNA,  2091\"),\n",
    "    GraphicFeature(start=100, end=624, strand=+1, color=\"#ffcccc\",\n",
    "                   label=\"raffinosus, WP_010747120.1\"),\n",
    "\n",
    "]\n",
    "record = GraphicRecord(sequence_length=1000, features=features)\n",
    "_=record.plot(ax=ax4)\n",
    "\n",
    "features=[\n",
    "    GraphicFeature(start=158, end=166, strand=+1, color=\"#ffd700\",\n",
    "                   label=\"Z-DNA,  650\"),\n",
    "    GraphicFeature(start=31, end=44, strand=+1, color=\"#ffd700\",\n",
    "                   label=\"Z-DNA, 1512\"),\n",
    "    GraphicFeature(start=100, end=624, strand=+1, color=\"#ffcccc\",\n",
    "                   label=\"lactis, WP_002293357.1\"),\n",
    "\n",
    "]\n",
    "record = GraphicRecord(sequence_length=1000, features=features)\n",
    "_=record.plot(ax=ax3)\n",
    "\n",
    "features=[\n",
    "    GraphicFeature(start=153, end=167, strand=+1, color=\"#ffd700\",\n",
    "                   label=\"Z-DNA,  8485.756\"),\n",
    "    GraphicFeature(start=100, end=624, strand=+1, color=\"#ffcccc\",\n",
    "                   label=\"durans, WP_016177253.1\"),\n",
    "\n",
    "]\n",
    "record = GraphicRecord(sequence_length=1000, features=features)\n",
    "_=record.plot(ax=ax1)\n",
    "\n",
    "features=[\n",
    "    GraphicFeature(start=156, end=164, strand=+1, color=\"#ffd700\",\n",
    "                   label=\"Z-DNA,  650\"),\n",
    "    GraphicFeature(start=29, end=42, strand=+1, color=\"#ffd700\",\n",
    "                   label=\"Z-DNA, 1512\"),\n",
    "    GraphicFeature(start=100, end=624, strand=+1, color=\"#ffcccc\",\n",
    "                   label=\"faecium, WP_002293357.1\"),\n",
    "\n",
    "]\n",
    "record = GraphicRecord(sequence_length=1000, features=features)\n",
    "_=record.plot(ax=ax2)"
   ]
  },
  {
   "cell_type": "code",
   "execution_count": 20,
   "id": "41664e6d",
   "metadata": {},
   "outputs": [
    {
     "data": {
      "image/png": "[encoded data removed]",
      "text/plain": [
       "<Figure size 864x576 with 5 Axes>"
      ]
     },
     "metadata": {},
     "output_type": "display_data"
    }
   ],
   "source": [
    "#  cluster 2\n",
    "\n",
    "fig, ((ax1, ax2 ,ax3, ax4, ax5)) = plt.subplots(nrows=5, ncols=1,figsize=(12, 8))\n",
    "\n",
    "features=[\n",
    "    GraphicFeature(start=1105, end=1119, strand=-1, color=\"#ffd700\",\n",
    "                   label=\"Z-DNA, 1743\"),\n",
    "    GraphicFeature(start=100, end=1089, strand=-1, color=\"#ffcccc\",\n",
    "                   label=\"gilvus, WP_114525318.1\"),\n",
    "\n",
    "]\n",
    "record = GraphicRecord(sequence_length=1500, features=features)\n",
    "_=record.plot(ax=ax5)\n",
    "\n",
    "features=[\n",
    "    GraphicFeature(start=1142, end=1154, strand=-1, color=\"#ffd700\",\n",
    "                   label=\"Z-DNA, 1037\"),\n",
    "    GraphicFeature(start=100, end=1089, strand=-1, color=\"#ffcccc\",\n",
    "                   label=\"raffinosus, WP_218256507.1\"),\n",
    "\n",
    "]\n",
    "record = GraphicRecord(sequence_length=1500, features=features)\n",
    "_=record.plot(ax=ax4)\n",
    "\n",
    "features=[\n",
    "    GraphicFeature(start=1069, end=1082, strand=-1, color=\"#ffd700\",\n",
    "                   label=\"Z-DNA,  2779\"),\n",
    "    GraphicFeature(start=100, end=1077, strand=-1, color=\"#ffcccc\",\n",
    "                   label=\"lactis, WP_002293367.1\"),\n",
    "\n",
    "]\n",
    "record = GraphicRecord(sequence_length=1500, features=features)\n",
    "_=record.plot(ax=ax3)\n",
    "\n",
    "\n",
    "features=[\n",
    "    GraphicFeature(start=1066, end=1081, strand=-1, color=\"#ffd700\",\n",
    "                   label=\"Z-DNA,  2091\"),\n",
    "    GraphicFeature(start=100, end=1077, strand=-1, color=\"#ffcccc\",\n",
    "                   label=\"durans, WP_081133796.1\"),\n",
    "\n",
    "]\n",
    "record = GraphicRecord(sequence_length=1500, features=features)\n",
    "_=record.plot(ax=ax1)\n",
    "\n",
    "features=[\n",
    "    GraphicFeature(start=1067, end=1080, strand=-1, color=\"#ffd700\",\n",
    "                   label=\"Z-DNA,  2779\"),\n",
    "    GraphicFeature(start=100, end=1077, strand=-1, color=\"#ffcccc\",\n",
    "                   label=\"faecium, WP_002300050.1\"),\n",
    "\n",
    "]\n",
    "record = GraphicRecord(sequence_length=1500, features=features)\n",
    "_=record.plot(ax=ax2)"
   ]
  },
  {
   "cell_type": "code",
   "execution_count": 558,
   "id": "c0436f7d",
   "metadata": {},
   "outputs": [
    {
     "data": {
      "image/png": "[encoded data removed]",
      "text/plain": [
       "<Figure size 864x576 with 5 Axes>"
      ]
     },
     "metadata": {},
     "output_type": "display_data"
    }
   ],
   "source": [
    "#  cluster 3\n",
    "\n",
    "fig, ((ax1, ax2 ,ax3, ax4, ax5)) = plt.subplots(nrows=5, ncols=1,figsize=(12, 8))\n",
    "\n",
    "features=[\n",
    "    GraphicFeature(start=194, end=200, strand=+1, color=\"#ffd700\",\n",
    "                   label=\"Z-DNA\"),\n",
    "    GraphicFeature(start=100, end=642, strand=+1, color=\"#ffcccc\",\n",
    "                   label=\"gilvus, WP_044926432.1\"),\n",
    "\n",
    "]\n",
    "record = GraphicRecord(sequence_length=1000, features=features)\n",
    "_=record.plot(ax=ax5)\n",
    "\n",
    "\n",
    "features=[\n",
    "    GraphicFeature(start=194, end=206, strand=+1, color=\"#ffd700\",\n",
    "                   label=\"Z-DNA,  712\"),\n",
    "    GraphicFeature(start=100, end=642, strand=+1, color=\"#ffcccc\",\n",
    "                   label=\"raffinosus, WP_028020861.1\"),\n",
    "\n",
    "]\n",
    "record = GraphicRecord(sequence_length=1000, features=features)\n",
    "_=record.plot(ax=ax4)\n",
    "\n",
    "\n",
    "features=[\n",
    "    GraphicFeature(start=574, end=584, strand=-1, color=\"#ffd700\",\n",
    "                   label=\"Z-DNA,  766\"),\n",
    "    GraphicFeature(start=100, end=645, strand=-1, color=\"#ffcccc\",\n",
    "                   label=\"lactis, WP_002294580.1\"),\n",
    "\n",
    "]\n",
    "record = GraphicRecord(sequence_length=1000, features=features)\n",
    "_=record.plot(ax=ax3)\n",
    "\n",
    "features=[\n",
    "    GraphicFeature(start=573, end=583, strand=-1, color=\"#ffd700\",\n",
    "                   label=\"Z-DNA,  766\"),\n",
    "    GraphicFeature(start=100, end=645, strand=-1, color=\"#ffcccc\",\n",
    "                   label=\"durans, WP_005878994.1\"),\n",
    "\n",
    "]\n",
    "record = GraphicRecord(sequence_length=1000, features=features)\n",
    "_=record.plot(ax=ax1)\n",
    "\n",
    "features=[\n",
    "    GraphicFeature(start=572, end=582, strand=-1, color=\"#ffd700\",\n",
    "                   label=\"Z-DNA,  766\"),\n",
    "    GraphicFeature(start=100, end=645, strand=-1, color=\"#ffcccc\",\n",
    "                   label=\"faecium, WP_002294580.1\"),\n",
    "\n",
    "]\n",
    "record = GraphicRecord(sequence_length=1000, features=features)\n",
    "_=record.plot(ax=ax2)"
   ]
  },
  {
   "cell_type": "code",
   "execution_count": 591,
   "id": "bc229813",
   "metadata": {},
   "outputs": [
    {
     "data": {
      "image/png": "[encoded data removed]",
      "text/plain": [
       "<Figure size 864x432 with 4 Axes>"
      ]
     },
     "metadata": {},
     "output_type": "display_data"
    }
   ],
   "source": [
    "#  cluster 4\n",
    "\n",
    "fig, ((ax1, ax2 ,ax3, ax4)) = plt.subplots(nrows=4, ncols=1,figsize=(12, 6))\n",
    "\n",
    "features=[\n",
    "    GraphicFeature(start=551, end=563, strand=-1, color=\"#ffd700\",\n",
    "                   label=\"Z-DNA, 731\"),\n",
    "    GraphicFeature(start=100, end=543, strand=-1, color=\"#ffcccc\",\n",
    "                   label=\"gilvus, WP_010779391.1\"),\n",
    "\n",
    "]\n",
    "record = GraphicRecord(sequence_length=1000, features=features)\n",
    "_=record.plot(ax=ax5)\n",
    "\n",
    "\n",
    "features=[\n",
    "    GraphicFeature(start=551, end=563, strand=-1, color=\"#ffd700\",\n",
    "                   label=\"Z-DNA, 731\"),\n",
    "    GraphicFeature(start=100, end=543, strand=-1, color=\"#ffcccc\",\n",
    "                   label=\"raffinosus, WP_010744354.1\"),\n",
    "\n",
    "]\n",
    "record = GraphicRecord(sequence_length=1000, features=features)\n",
    "_=record.plot(ax=ax4)\n",
    "\n",
    "\n",
    "features=[\n",
    "    GraphicFeature(start=553, end=565, strand=-1, color=\"#ffd700\",\n",
    "                   label=\"Z-DNA, 731\"),\n",
    "    GraphicFeature(start=100, end=543, strand=-1, color=\"#ffcccc\",\n",
    "                   label=\"lactis, WP_002295975.1\"),\n",
    "\n",
    "]\n",
    "record = GraphicRecord(sequence_length=1000, features=features)\n",
    "_=record.plot(ax=ax3)\n",
    "\n",
    "features=[\n",
    "    GraphicFeature(start=552, end=564, strand=-1, color=\"#ffd700\",\n",
    "                   label=\"Z-DNA, 731\"),\n",
    "    GraphicFeature(start=100, end=543, strand=-1, color=\"#ffcccc\",\n",
    "                   label=\"durans, WP_005881199.1\"),\n",
    "\n",
    "]\n",
    "record = GraphicRecord(sequence_length=1000, features=features)\n",
    "_=record.plot(ax=ax1)\n",
    "\n",
    "features=[\n",
    "    GraphicFeature(start=551, end=563, strand=-1, color=\"#ffd700\",\n",
    "                   label=\"Z-DNA, 731\"),\n",
    "    GraphicFeature(start=100, end=543, strand=-1, color=\"#ffcccc\",\n",
    "                   label=\"faecium, WP_002295975.1\"),\n",
    "\n",
    "]\n",
    "record = GraphicRecord(sequence_length=1000, features=features)\n",
    "_=record.plot(ax=ax2)"
   ]
  },
  {
   "cell_type": "code",
   "execution_count": 602,
   "id": "3d46c63c",
   "metadata": {},
   "outputs": [
    {
     "data": {
      "image/png": "[encoded data removed]",
      "text/plain": [
       "<Figure size 864x576 with 5 Axes>"
      ]
     },
     "metadata": {},
     "output_type": "display_data"
    }
   ],
   "source": [
    "#  cluster 5\n",
    "\n",
    "fig, ((ax1, ax2 ,ax3, ax4, ax5)) = plt.subplots(nrows=5, ncols=1,figsize=(12, 8))\n",
    "\n",
    "features=[\n",
    "    GraphicFeature(start=256, end=268, strand=-1, color=\"#ffd700\",\n",
    "                   label=\"Z-DNA, 848\"),\n",
    "    GraphicFeature(start=100, end=249, strand=-1, color=\"#ffcccc\",\n",
    "                   label=\"gilvus, WP_010740369.1\"),\n",
    "\n",
    "]\n",
    "record = GraphicRecord(sequence_length=450, features=features)\n",
    "_=record.plot(ax=ax5)\n",
    "\n",
    "features=[\n",
    "    GraphicFeature(start=256, end=268, strand=-1, color=\"#ffd700\",\n",
    "                   label=\"Z-DNA, 848\"),\n",
    "    GraphicFeature(start=100, end=249, strand=-1, color=\"#ffcccc\",\n",
    "                   label=\"raffinosus, WP_010740369.1\"),\n",
    "\n",
    "]\n",
    "record = GraphicRecord(sequence_length=450, features=features)\n",
    "_=record.plot(ax=ax4)\n",
    "\n",
    "features=[\n",
    "    GraphicFeature(start=116, end=128, strand=+1, color=\"#ffd700\",\n",
    "                   label=\"Z-DNA, 848\"),\n",
    "    GraphicFeature(start=100, end=249, strand=+1, color=\"#ffcccc\",\n",
    "                   label=\"lactis, WP_002296119.1\"),\n",
    "\n",
    "]\n",
    "record = GraphicRecord(sequence_length=450, features=features)\n",
    "_=record.plot(ax=ax3)\n",
    "\n",
    "features=[\n",
    "    GraphicFeature(start=257, end=269, strand=-1, color=\"#ffd700\",\n",
    "                   label=\"Z-DNA, 848\"),\n",
    "    GraphicFeature(start=100, end=249, strand=-1, color=\"#ffcccc\",\n",
    "                   label=\"durans, WP_002296119.1\"),\n",
    "\n",
    "]\n",
    "record = GraphicRecord(sequence_length=450, features=features)\n",
    "_=record.plot(ax=ax1)\n",
    "\n",
    "features=[\n",
    "    GraphicFeature(start=256, end=268, strand=-1, color=\"#ffd700\",\n",
    "                   label=\"Z-DNA, 848\"),\n",
    "    GraphicFeature(start=100, end=249, strand=-1, color=\"#ffcccc\",\n",
    "                   label=\"faecium, WP_002296119.1\"),\n",
    "\n",
    "]\n",
    "record = GraphicRecord(sequence_length=450, features=features)\n",
    "_=record.plot(ax=ax2)"
   ]
  },
  {
   "cell_type": "code",
   "execution_count": 552,
   "id": "99cc575d",
   "metadata": {},
   "outputs": [
    {
     "data": {
      "image/png": "[encoded data removed]",
      "text/plain": [
       "<Figure size 864x576 with 5 Axes>"
      ]
     },
     "metadata": {},
     "output_type": "display_data"
    }
   ],
   "source": [
    "#  cluster 6\n",
    "\n",
    "fig, ((ax1, ax2 ,ax3, ax4, ax5)) = plt.subplots(nrows=5, ncols=1,figsize=(12, 8))\n",
    "\n",
    "\n",
    "features=[\n",
    "    GraphicFeature(start=162, end=170, strand=+1, color=\"#ffd700\",\n",
    "                   label=\"Z-DNA,  650\"),\n",
    "    GraphicFeature(start=100, end=498, strand=+1, color=\"#ffcccc\",\n",
    "                   label=\"gilvus, WP_010781381.1\"),\n",
    "\n",
    "]\n",
    "record = GraphicRecord(sequence_length=600, features=features)\n",
    "_=record.plot(ax=ax5)\n",
    "\n",
    "features=[\n",
    "    GraphicFeature(start=162, end=170, strand=+1, color=\"#ffd700\",\n",
    "                   label=\"Z-DNA,  650\"),\n",
    "    GraphicFeature(start=100, end=498, strand=+1, color=\"#ffcccc\",\n",
    "                   label=\"raffinosus, WP_010739854.1\"),\n",
    "\n",
    "]\n",
    "record = GraphicRecord(sequence_length=600, features=features)\n",
    "_=record.plot(ax=ax4)\n",
    "\n",
    "features=[\n",
    "    GraphicFeature(start=169, end=175, strand=-1, color=\"#ffd700\",\n",
    "                   label=\"Z-DNA,  883\"),\n",
    "    GraphicFeature(start=460, end=470, strand=-1, color=\"#ffd700\",\n",
    "                   label=\"Z-DNA,  766\"),\n",
    "    GraphicFeature(start=100, end=498, strand=-1, color=\"#ffcccc\",\n",
    "                   label=\"lactis, WP_002296384.1\"),\n",
    "\n",
    "]\n",
    "record = GraphicRecord(sequence_length=600, features=features)\n",
    "_=record.plot(ax=ax3)\n",
    "\n",
    "features=[\n",
    "    GraphicFeature(start=164, end=174, strand=+1, color=\"#ffd700\",\n",
    "                   label=\"Z-DNA,  766\"),\n",
    "    GraphicFeature(start=100, end=498, strand=+1, color=\"#ffcccc\",\n",
    "                   label=\"durans, WP_005877288.1\"),\n",
    "\n",
    "]\n",
    "record = GraphicRecord(sequence_length=600, features=features)\n",
    "_=record.plot(ax=ax1)\n",
    "\n",
    "features=[\n",
    "    GraphicFeature(start=167, end=173, strand=-1, color=\"#ffd700\",\n",
    "                   label=\"Z-DNA,  883\"),\n",
    "    GraphicFeature(start=458, end=468, strand=-1, color=\"#ffd700\",\n",
    "                   label=\"Z-DNA,  766\"),\n",
    "    GraphicFeature(start=100, end=498, strand=-1, color=\"#ffcccc\",\n",
    "                   label=\"faecium, WP_002296384.1\"),\n",
    "\n",
    "]\n",
    "record = GraphicRecord(sequence_length=600, features=features)\n",
    "_=record.plot(ax=ax2)"
   ]
  },
  {
   "cell_type": "code",
   "execution_count": 546,
   "id": "b5ed39a5",
   "metadata": {},
   "outputs": [
    {
     "data": {
      "image/png": "[encoded data removed]",
      "text/plain": [
       "<Figure size 864x576 with 5 Axes>"
      ]
     },
     "metadata": {},
     "output_type": "display_data"
    }
   ],
   "source": [
    "#  cluster 7\n",
    "\n",
    "fig, ((ax1, ax2 ,ax3, ax4, ax5)) = plt.subplots(nrows=5, ncols=1,figsize=(12, 8))\n",
    "\n",
    "features=[\n",
    "    GraphicFeature(start=174, end=182, strand=+1, color=\"#ffd700\",\n",
    "                   label=\"Z-DNA,  650\"),\n",
    "    GraphicFeature(start=100, end=708, strand=+1, color=\"#ffcccc\",\n",
    "                   label=\"gilvus, WP_086304379.1\"),\n",
    "\n",
    "]\n",
    "record = GraphicRecord(sequence_length=1000, features=features)\n",
    "_=record.plot(ax=ax5)\n",
    "\n",
    "features=[\n",
    "    GraphicFeature(start=174, end=182, strand=+1, color=\"#ffd700\",\n",
    "                   label=\"Z-DNA,  650\"),\n",
    "    GraphicFeature(start=100, end=708, strand=+1, color=\"#ffcccc\",\n",
    "                   label=\"raffinosus, WP_010744516.1\"),\n",
    "\n",
    "]\n",
    "record = GraphicRecord(sequence_length=1000, features=features)\n",
    "_=record.plot(ax=ax4)\n",
    "\n",
    "features=[\n",
    "    GraphicFeature(start=175, end=185, strand=+1, color=\"#ffd700\",\n",
    "                   label=\"Z-DNA,  783\"),\n",
    "    GraphicFeature(start=100, end=720, strand=+1, color=\"#ffcccc\",\n",
    "                   label=\"lactis, WP_002292825.1\"),\n",
    "\n",
    "]\n",
    "record = GraphicRecord(sequence_length=1000, features=features)\n",
    "_=record.plot(ax=ax3)\n",
    "\n",
    "features=[\n",
    "    GraphicFeature(start=657, end=667, strand=-1, color=\"#ffd700\",\n",
    "                   label=\"Z-DNA,  783\"),\n",
    "    GraphicFeature(start=100, end=705, strand=-1, color=\"#ffcccc\",\n",
    "                   label=\"durans, WP_016177384.1\"),\n",
    "\n",
    "]\n",
    "record = GraphicRecord(sequence_length=1000, features=features)\n",
    "_=record.plot(ax=ax1)\n",
    "\n",
    "features=[\n",
    "    GraphicFeature(start=671, end=681, strand=-1, color=\"#ffd700\",\n",
    "                   label=\"Z-DNA,  783\"),\n",
    "    GraphicFeature(start=100, end=720, strand=-1, color=\"#ffcccc\",\n",
    "                   label=\"faecium, WP_002292825.1\"),\n",
    "\n",
    "]\n",
    "record = GraphicRecord(sequence_length=1000, features=features)\n",
    "_=record.plot(ax=ax2)"
   ]
  },
  {
   "cell_type": "code",
   "execution_count": 544,
   "id": "fd05ad85",
   "metadata": {},
   "outputs": [
    {
     "data": {
      "image/png": "[encoded data removed]",
      "text/plain": [
       "<Figure size 864x576 with 5 Axes>"
      ]
     },
     "metadata": {},
     "output_type": "display_data"
    }
   ],
   "source": [
    "#  cluster 8\n",
    "\n",
    "fig, ((ax1, ax2 ,ax3, ax4, ax5)) = plt.subplots(nrows=5, ncols=1,figsize=(12, 8))\n",
    "\n",
    "features=[\n",
    "    GraphicFeature(start=128, end=138, strand=+1, color=\"#ffd700\",\n",
    "                   label=\"Z-DNA,  783\"),\n",
    "    GraphicFeature(start=100, end=1357, strand=+1, color=\"#ffcccc\",\n",
    "                   label=\"gilvus, WP_114525261.1\"),\n",
    "\n",
    "]\n",
    "record = GraphicRecord(sequence_length=2000, features=features)\n",
    "_=record.plot(ax=ax5)\n",
    "\n",
    "features=[\n",
    "    GraphicFeature(start=128, end=138, strand=+1, color=\"#ffd700\",\n",
    "                   label=\"Z-DNA,  783\"),\n",
    "    GraphicFeature(start=100, end=1557, strand=+1, color=\"#ffcccc\",\n",
    "                   label=\"raffinosus, WP_218256352.1\"),\n",
    "\n",
    "]\n",
    "record = GraphicRecord(sequence_length=2000, features=features)\n",
    "_=record.plot(ax=ax4)\n",
    "\n",
    "features=[\n",
    "    GraphicFeature(start=1559, end=1571, strand=-1, color=\"#ffd700\",\n",
    "                   label=\"Z-DNA,  4860\"),\n",
    "    GraphicFeature(start=100, end=1560, strand=-1, color=\"#ffcccc\",\n",
    "                   label=\"lactis, WP_002293095.1\"),\n",
    "\n",
    "]\n",
    "record = GraphicRecord(sequence_length=2000, features=features)\n",
    "_=record.plot(ax=ax3)\n",
    "\n",
    "features=[\n",
    "    GraphicFeature(start=1204, end=1217, strand=-1, color=\"#ffd700\",\n",
    "                   label=\"Z-DNA,  2752\"),\n",
    "    GraphicFeature(start=1558, end=1570, strand=-1, color=\"#ffd700\",\n",
    "                   label=\"Z-DNA,  4860\"),\n",
    "    GraphicFeature(start=100, end=1560, strand=-1, color=\"#ffcccc\",\n",
    "                   label=\"durans, WP_005876899.1\"),\n",
    "\n",
    "]\n",
    "record = GraphicRecord(sequence_length=2000, features=features)\n",
    "_=record.plot(ax=ax1)\n",
    "\n",
    "features=[\n",
    "    GraphicFeature(start=1557, end=1569, strand=-1, color=\"#ffd700\",\n",
    "                   label=\"Z-DNA,  4860\"),\n",
    "    GraphicFeature(start=100, end=1560, strand=-1, color=\"#ffcccc\",\n",
    "                   label=\"faecium, WP_002287447.1\"),\n",
    "\n",
    "]\n",
    "record = GraphicRecord(sequence_length=2000, features=features)\n",
    "_=record.plot(ax=ax2)"
   ]
  },
  {
   "cell_type": "code",
   "execution_count": 28,
   "id": "97d2a861",
   "metadata": {},
   "outputs": [
    {
     "data": {
      "text/html": [
       "<div>\n",
       "<style scoped>\n",
       "    .dataframe tbody tr th:only-of-type {\n",
       "        vertical-align: middle;\n",
       "    }\n",
       "\n",
       "    .dataframe tbody tr th {\n",
       "        vertical-align: top;\n",
       "    }\n",
       "\n",
       "    .dataframe thead th {\n",
       "        text-align: right;\n",
       "    }\n",
       "</style>\n",
       "<table border=\"1\" class=\"dataframe\">\n",
       "  <thead>\n",
       "    <tr style=\"text-align: right;\">\n",
       "      <th></th>\n",
       "      <th>1</th>\n",
       "      <th>2</th>\n",
       "      <th>3</th>\n",
       "      <th>4</th>\n",
       "      <th>5</th>\n",
       "      <th>len</th>\n",
       "    </tr>\n",
       "  </thead>\n",
       "  <tbody>\n",
       "    <tr>\n",
       "      <th>7</th>\n",
       "      <td>gilvus</td>\n",
       "      <td>2759707</td>\n",
       "      <td>2760063</td>\n",
       "      <td>+</td>\n",
       "      <td>WP_010782050.1</td>\n",
       "      <td>356</td>\n",
       "    </tr>\n",
       "  </tbody>\n",
       "</table>\n",
       "</div>"
      ],
      "text/plain": [
       "        1        2        3  4               5  len\n",
       "7  gilvus  2759707  2760063  +  WP_010782050.1  356"
      ]
     },
     "execution_count": 28,
     "metadata": {},
     "output_type": "execute_result"
    }
   ],
   "source": [
    "coords = pd.read_csv('bioinfo_project/gilvus/cluster_genes.bed', sep='\\t', names=['1','2', '3','4','5'])\n",
    "coords['len'] = coords['3'] - coords['2']\n",
    "coords.loc[coords['5'] == gilv[8]]"
   ]
  },
  {
   "cell_type": "code",
   "execution_count": 29,
   "id": "a08e5082",
   "metadata": {},
   "outputs": [
    {
     "data": {
      "text/html": [
       "<div>\n",
       "<style scoped>\n",
       "    .dataframe tbody tr th:only-of-type {\n",
       "        vertical-align: middle;\n",
       "    }\n",
       "\n",
       "    .dataframe tbody tr th {\n",
       "        vertical-align: top;\n",
       "    }\n",
       "\n",
       "    .dataframe thead th {\n",
       "        text-align: right;\n",
       "    }\n",
       "</style>\n",
       "<table border=\"1\" class=\"dataframe\">\n",
       "  <thead>\n",
       "    <tr style=\"text-align: right;\">\n",
       "      <th></th>\n",
       "      <th>1</th>\n",
       "      <th>2</th>\n",
       "      <th>3</th>\n",
       "      <th>4</th>\n",
       "      <th>5</th>\n",
       "    </tr>\n",
       "  </thead>\n",
       "  <tbody>\n",
       "    <tr>\n",
       "      <th>1127</th>\n",
       "      <td>gilvus</td>\n",
       "      <td>2759764</td>\n",
       "      <td>2759782</td>\n",
       "      <td>gilvus_1127</td>\n",
       "      <td>2173.083</td>\n",
       "    </tr>\n",
       "  </tbody>\n",
       "</table>\n",
       "</div>"
      ],
      "text/plain": [
       "           1        2        3            4         5\n",
       "1127  gilvus  2759764  2759782  gilvus_1127  2173.083"
      ]
     },
     "execution_count": 29,
     "metadata": {},
     "output_type": "execute_result"
    }
   ],
   "source": [
    "df = pd.read_csv('bioinfo_project/gilvus/zscores.bed', sep='\\t', names=['1', '2', '3', '4', '5'])\n",
    "df.loc[df['2'] == 2759707 + 57]"
   ]
  },
  {
   "cell_type": "code",
   "execution_count": 30,
   "id": "2e3f13e4",
   "metadata": {},
   "outputs": [
    {
     "data": {
      "image/png": "[encoded data removed]",
      "text/plain": [
       "<Figure size 864x576 with 5 Axes>"
      ]
     },
     "metadata": {},
     "output_type": "display_data"
    }
   ],
   "source": [
    "#  cluster 9\n",
    "\n",
    "fig, ((ax1, ax2 ,ax3, ax4, ax5)) = plt.subplots(nrows=5, ncols=1,figsize=(12, 8))\n",
    "\n",
    "features=[\n",
    "    GraphicFeature(start=157, end=175, strand=+1, color=\"#ffd700\",\n",
    "                   label=\"Z-DNA, 2173\"),\n",
    "    GraphicFeature(start=100, end=456, strand=+1, color=\"#ffcccc\",\n",
    "                   label=\"gilvus, WP_010782050.1\"),\n",
    "\n",
    "]\n",
    "record = GraphicRecord(sequence_length=1000, features=features)\n",
    "_=record.plot(ax=ax5)\n",
    "\n",
    "features=[\n",
    "    GraphicFeature(start=157, end=174, strand=+1, color=\"#ffd700\",\n",
    "                   label=\"Z-DNA,  1116\"),\n",
    "    GraphicFeature(start=100, end=456, strand=+1, color=\"#ffcccc\",\n",
    "                   label=\"raffinosus, WP_010747204.1\"),\n",
    "\n",
    "]\n",
    "record = GraphicRecord(sequence_length=1000, features=features)\n",
    "_=record.plot(ax=ax4)\n",
    "\n",
    "features=[\n",
    "    GraphicFeature(start=197, end=209, strand=+1, color=\"#ffd700\",\n",
    "                   label=\"Z-DNA,  1116\"),\n",
    "    GraphicFeature(start=100, end=456, strand=+1, color=\"#ffcccc\",\n",
    "                   label=\"lactis, WP_002288679.1\"),\n",
    "\n",
    "]\n",
    "record = GraphicRecord(sequence_length=1000, features=features)\n",
    "_=record.plot(ax=ax3)\n",
    "\n",
    "features=[\n",
    "    GraphicFeature(start=196, end=208, strand=+1, color=\"#ffd700\",\n",
    "                   label=\"Z-DNA,  1116\"),\n",
    "    GraphicFeature(start=100, end=456, strand=+1, color=\"#ffcccc\",\n",
    "                   label=\"durans, WP_005880747.1\"),\n",
    "\n",
    "]\n",
    "record = GraphicRecord(sequence_length=1000, features=features)\n",
    "_=record.plot(ax=ax1)\n",
    "\n",
    "features=[\n",
    "    GraphicFeature(start=195, end=207, strand=+1, color=\"#ffd700\",\n",
    "                   label=\"Z-DNA,  1116\"),\n",
    "    GraphicFeature(start=100, end=456, strand=+1, color=\"#ffcccc\",\n",
    "                   label=\"faecium, WP_002288679.1\"),\n",
    "\n",
    "]\n",
    "record = GraphicRecord(sequence_length=1000, features=features)\n",
    "_=record.plot(ax=ax2)"
   ]
  },
  {
   "cell_type": "code",
   "execution_count": null,
   "id": "b75b49d4",
   "metadata": {},
   "outputs": [],
   "source": []
  },
  {
   "cell_type": "code",
   "execution_count": null,
   "id": "d093d30b",
   "metadata": {},
   "outputs": [],
   "source": []
  },
  {
   "cell_type": "code",
   "execution_count": null,
   "id": "4f7fc4b0",
   "metadata": {},
   "outputs": [],
   "source": []
  },
  {
   "cell_type": "code",
   "execution_count": null,
   "id": "c4a96b9f",
   "metadata": {},
   "outputs": [],
   "source": []
  },
  {
   "cell_type": "code",
   "execution_count": null,
   "id": "2ac303a9",
   "metadata": {},
   "outputs": [],
   "source": []
  }
 ],
 "metadata": {
  "kernelspec": {
   "display_name": "Python 3 (ipykernel)",
   "language": "python",
   "name": "python3"
  },
  "language_info": {
   "codemirror_mode": {
    "name": "ipython",
    "version": 3
   },
   "file_extension": ".py",
   "mimetype": "text/x-python",
   "name": "python",
   "nbconvert_exporter": "python",
   "pygments_lexer": "ipython3",
   "version": "3.9.7"
  }
 },
 "nbformat": 4,
 "nbformat_minor": 5
}
